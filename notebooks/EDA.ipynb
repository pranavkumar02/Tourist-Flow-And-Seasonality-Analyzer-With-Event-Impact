{
 "cells": [
  {
   "cell_type": "code",
   "execution_count": 43,
   "id": "ce7c8962-efe5-480d-9d22-b298d0f4fb71",
   "metadata": {
    "scrolled": true
   },
   "outputs": [
    {
     "name": "stdout",
     "output_type": "stream",
     "text": [
      "Requirement already satisfied: pandas in c:\\users\\sastr\\onedrive\\desktop\\hyn\\tourist-flow-and-seasonality-analyzer-with-event-impact\\venv\\lib\\site-packages (from -r ../requirements.txt (line 1)) (2.3.3)\n",
      "Requirement already satisfied: numpy in c:\\users\\sastr\\onedrive\\desktop\\hyn\\tourist-flow-and-seasonality-analyzer-with-event-impact\\venv\\lib\\site-packages (from -r ../requirements.txt (line 2)) (2.3.3)\n",
      "Requirement already satisfied: plotly in c:\\users\\sastr\\onedrive\\desktop\\hyn\\tourist-flow-and-seasonality-analyzer-with-event-impact\\venv\\lib\\site-packages (from -r ../requirements.txt (line 3)) (6.3.1)\n",
      "Requirement already satisfied: dash in c:\\users\\sastr\\onedrive\\desktop\\hyn\\tourist-flow-and-seasonality-analyzer-with-event-impact\\venv\\lib\\site-packages (from -r ../requirements.txt (line 4)) (3.2.0)\n",
      "Requirement already satisfied: jupyter in c:\\users\\sastr\\onedrive\\desktop\\hyn\\tourist-flow-and-seasonality-analyzer-with-event-impact\\venv\\lib\\site-packages (from -r ../requirements.txt (line 5)) (1.1.1)\n",
      "Requirement already satisfied: python-dotenv in c:\\users\\sastr\\onedrive\\desktop\\hyn\\tourist-flow-and-seasonality-analyzer-with-event-impact\\venv\\lib\\site-packages (from -r ../requirements.txt (line 6)) (1.1.1)\n",
      "Requirement already satisfied: python-dateutil>=2.8.2 in c:\\users\\sastr\\onedrive\\desktop\\hyn\\tourist-flow-and-seasonality-analyzer-with-event-impact\\venv\\lib\\site-packages (from pandas->-r ../requirements.txt (line 1)) (2.9.0.post0)\n",
      "Requirement already satisfied: pytz>=2020.1 in c:\\users\\sastr\\onedrive\\desktop\\hyn\\tourist-flow-and-seasonality-analyzer-with-event-impact\\venv\\lib\\site-packages (from pandas->-r ../requirements.txt (line 1)) (2025.2)\n",
      "Requirement already satisfied: tzdata>=2022.7 in c:\\users\\sastr\\onedrive\\desktop\\hyn\\tourist-flow-and-seasonality-analyzer-with-event-impact\\venv\\lib\\site-packages (from pandas->-r ../requirements.txt (line 1)) (2025.2)\n",
      "Requirement already satisfied: narwhals>=1.15.1 in c:\\users\\sastr\\onedrive\\desktop\\hyn\\tourist-flow-and-seasonality-analyzer-with-event-impact\\venv\\lib\\site-packages (from plotly->-r ../requirements.txt (line 3)) (2.6.0)\n",
      "Requirement already satisfied: packaging in c:\\users\\sastr\\onedrive\\desktop\\hyn\\tourist-flow-and-seasonality-analyzer-with-event-impact\\venv\\lib\\site-packages (from plotly->-r ../requirements.txt (line 3)) (25.0)\n",
      "Requirement already satisfied: Flask<3.2,>=1.0.4 in c:\\users\\sastr\\onedrive\\desktop\\hyn\\tourist-flow-and-seasonality-analyzer-with-event-impact\\venv\\lib\\site-packages (from dash->-r ../requirements.txt (line 4)) (3.1.2)\n",
      "Requirement already satisfied: Werkzeug<3.2 in c:\\users\\sastr\\onedrive\\desktop\\hyn\\tourist-flow-and-seasonality-analyzer-with-event-impact\\venv\\lib\\site-packages (from dash->-r ../requirements.txt (line 4)) (3.1.3)\n",
      "Requirement already satisfied: importlib-metadata in c:\\users\\sastr\\onedrive\\desktop\\hyn\\tourist-flow-and-seasonality-analyzer-with-event-impact\\venv\\lib\\site-packages (from dash->-r ../requirements.txt (line 4)) (8.7.0)\n",
      "Requirement already satisfied: typing-extensions>=4.1.1 in c:\\users\\sastr\\onedrive\\desktop\\hyn\\tourist-flow-and-seasonality-analyzer-with-event-impact\\venv\\lib\\site-packages (from dash->-r ../requirements.txt (line 4)) (4.15.0)\n",
      "Requirement already satisfied: requests in c:\\users\\sastr\\onedrive\\desktop\\hyn\\tourist-flow-and-seasonality-analyzer-with-event-impact\\venv\\lib\\site-packages (from dash->-r ../requirements.txt (line 4)) (2.32.5)\n",
      "Requirement already satisfied: retrying in c:\\users\\sastr\\onedrive\\desktop\\hyn\\tourist-flow-and-seasonality-analyzer-with-event-impact\\venv\\lib\\site-packages (from dash->-r ../requirements.txt (line 4)) (1.4.2)\n",
      "Requirement already satisfied: nest-asyncio in c:\\users\\sastr\\onedrive\\desktop\\hyn\\tourist-flow-and-seasonality-analyzer-with-event-impact\\venv\\lib\\site-packages (from dash->-r ../requirements.txt (line 4)) (1.6.0)\n",
      "Requirement already satisfied: setuptools in c:\\users\\sastr\\onedrive\\desktop\\hyn\\tourist-flow-and-seasonality-analyzer-with-event-impact\\venv\\lib\\site-packages (from dash->-r ../requirements.txt (line 4)) (80.9.0)\n",
      "Requirement already satisfied: notebook in c:\\users\\sastr\\onedrive\\desktop\\hyn\\tourist-flow-and-seasonality-analyzer-with-event-impact\\venv\\lib\\site-packages (from jupyter->-r ../requirements.txt (line 5)) (7.4.7)\n",
      "Requirement already satisfied: jupyter-console in c:\\users\\sastr\\onedrive\\desktop\\hyn\\tourist-flow-and-seasonality-analyzer-with-event-impact\\venv\\lib\\site-packages (from jupyter->-r ../requirements.txt (line 5)) (6.6.3)\n",
      "Requirement already satisfied: nbconvert in c:\\users\\sastr\\onedrive\\desktop\\hyn\\tourist-flow-and-seasonality-analyzer-with-event-impact\\venv\\lib\\site-packages (from jupyter->-r ../requirements.txt (line 5)) (7.16.6)\n",
      "Requirement already satisfied: ipykernel in c:\\users\\sastr\\onedrive\\desktop\\hyn\\tourist-flow-and-seasonality-analyzer-with-event-impact\\venv\\lib\\site-packages (from jupyter->-r ../requirements.txt (line 5)) (6.30.1)\n",
      "Requirement already satisfied: ipywidgets in c:\\users\\sastr\\onedrive\\desktop\\hyn\\tourist-flow-and-seasonality-analyzer-with-event-impact\\venv\\lib\\site-packages (from jupyter->-r ../requirements.txt (line 5)) (8.1.7)\n",
      "Requirement already satisfied: jupyterlab in c:\\users\\sastr\\onedrive\\desktop\\hyn\\tourist-flow-and-seasonality-analyzer-with-event-impact\\venv\\lib\\site-packages (from jupyter->-r ../requirements.txt (line 5)) (4.4.9)\n",
      "Requirement already satisfied: blinker>=1.9.0 in c:\\users\\sastr\\onedrive\\desktop\\hyn\\tourist-flow-and-seasonality-analyzer-with-event-impact\\venv\\lib\\site-packages (from Flask<3.2,>=1.0.4->dash->-r ../requirements.txt (line 4)) (1.9.0)\n",
      "Requirement already satisfied: click>=8.1.3 in c:\\users\\sastr\\onedrive\\desktop\\hyn\\tourist-flow-and-seasonality-analyzer-with-event-impact\\venv\\lib\\site-packages (from Flask<3.2,>=1.0.4->dash->-r ../requirements.txt (line 4)) (8.3.0)\n",
      "Requirement already satisfied: itsdangerous>=2.2.0 in c:\\users\\sastr\\onedrive\\desktop\\hyn\\tourist-flow-and-seasonality-analyzer-with-event-impact\\venv\\lib\\site-packages (from Flask<3.2,>=1.0.4->dash->-r ../requirements.txt (line 4)) (2.2.0)\n",
      "Requirement already satisfied: jinja2>=3.1.2 in c:\\users\\sastr\\onedrive\\desktop\\hyn\\tourist-flow-and-seasonality-analyzer-with-event-impact\\venv\\lib\\site-packages (from Flask<3.2,>=1.0.4->dash->-r ../requirements.txt (line 4)) (3.1.6)\n",
      "Requirement already satisfied: markupsafe>=2.1.1 in c:\\users\\sastr\\onedrive\\desktop\\hyn\\tourist-flow-and-seasonality-analyzer-with-event-impact\\venv\\lib\\site-packages (from Flask<3.2,>=1.0.4->dash->-r ../requirements.txt (line 4)) (3.0.3)\n",
      "Requirement already satisfied: six>=1.5 in c:\\users\\sastr\\onedrive\\desktop\\hyn\\tourist-flow-and-seasonality-analyzer-with-event-impact\\venv\\lib\\site-packages (from python-dateutil>=2.8.2->pandas->-r ../requirements.txt (line 1)) (1.17.0)\n",
      "Requirement already satisfied: zipp>=3.20 in c:\\users\\sastr\\onedrive\\desktop\\hyn\\tourist-flow-and-seasonality-analyzer-with-event-impact\\venv\\lib\\site-packages (from importlib-metadata->dash->-r ../requirements.txt (line 4)) (3.23.0)\n",
      "Requirement already satisfied: comm>=0.1.1 in c:\\users\\sastr\\onedrive\\desktop\\hyn\\tourist-flow-and-seasonality-analyzer-with-event-impact\\venv\\lib\\site-packages (from ipykernel->jupyter->-r ../requirements.txt (line 5)) (0.2.3)\n",
      "Requirement already satisfied: debugpy>=1.6.5 in c:\\users\\sastr\\onedrive\\desktop\\hyn\\tourist-flow-and-seasonality-analyzer-with-event-impact\\venv\\lib\\site-packages (from ipykernel->jupyter->-r ../requirements.txt (line 5)) (1.8.17)\n",
      "Requirement already satisfied: ipython>=7.23.1 in c:\\users\\sastr\\onedrive\\desktop\\hyn\\tourist-flow-and-seasonality-analyzer-with-event-impact\\venv\\lib\\site-packages (from ipykernel->jupyter->-r ../requirements.txt (line 5)) (9.6.0)\n",
      "Requirement already satisfied: jupyter-client>=8.0.0 in c:\\users\\sastr\\onedrive\\desktop\\hyn\\tourist-flow-and-seasonality-analyzer-with-event-impact\\venv\\lib\\site-packages (from ipykernel->jupyter->-r ../requirements.txt (line 5)) (8.6.3)\n",
      "Requirement already satisfied: jupyter-core!=5.0.*,>=4.12 in c:\\users\\sastr\\onedrive\\desktop\\hyn\\tourist-flow-and-seasonality-analyzer-with-event-impact\\venv\\lib\\site-packages (from ipykernel->jupyter->-r ../requirements.txt (line 5)) (5.8.1)\n",
      "Requirement already satisfied: matplotlib-inline>=0.1 in c:\\users\\sastr\\onedrive\\desktop\\hyn\\tourist-flow-and-seasonality-analyzer-with-event-impact\\venv\\lib\\site-packages (from ipykernel->jupyter->-r ../requirements.txt (line 5)) (0.1.7)\n",
      "Requirement already satisfied: psutil>=5.7 in c:\\users\\sastr\\onedrive\\desktop\\hyn\\tourist-flow-and-seasonality-analyzer-with-event-impact\\venv\\lib\\site-packages (from ipykernel->jupyter->-r ../requirements.txt (line 5)) (7.1.0)\n",
      "Requirement already satisfied: pyzmq>=25 in c:\\users\\sastr\\onedrive\\desktop\\hyn\\tourist-flow-and-seasonality-analyzer-with-event-impact\\venv\\lib\\site-packages (from ipykernel->jupyter->-r ../requirements.txt (line 5)) (27.1.0)\n",
      "Requirement already satisfied: tornado>=6.2 in c:\\users\\sastr\\onedrive\\desktop\\hyn\\tourist-flow-and-seasonality-analyzer-with-event-impact\\venv\\lib\\site-packages (from ipykernel->jupyter->-r ../requirements.txt (line 5)) (6.5.2)\n",
      "Requirement already satisfied: traitlets>=5.4.0 in c:\\users\\sastr\\onedrive\\desktop\\hyn\\tourist-flow-and-seasonality-analyzer-with-event-impact\\venv\\lib\\site-packages (from ipykernel->jupyter->-r ../requirements.txt (line 5)) (5.14.3)\n",
      "Requirement already satisfied: widgetsnbextension~=4.0.14 in c:\\users\\sastr\\onedrive\\desktop\\hyn\\tourist-flow-and-seasonality-analyzer-with-event-impact\\venv\\lib\\site-packages (from ipywidgets->jupyter->-r ../requirements.txt (line 5)) (4.0.14)\n",
      "Requirement already satisfied: jupyterlab_widgets~=3.0.15 in c:\\users\\sastr\\onedrive\\desktop\\hyn\\tourist-flow-and-seasonality-analyzer-with-event-impact\\venv\\lib\\site-packages (from ipywidgets->jupyter->-r ../requirements.txt (line 5)) (3.0.15)\n",
      "Requirement already satisfied: prompt-toolkit>=3.0.30 in c:\\users\\sastr\\onedrive\\desktop\\hyn\\tourist-flow-and-seasonality-analyzer-with-event-impact\\venv\\lib\\site-packages (from jupyter-console->jupyter->-r ../requirements.txt (line 5)) (3.0.52)\n",
      "Requirement already satisfied: pygments in c:\\users\\sastr\\onedrive\\desktop\\hyn\\tourist-flow-and-seasonality-analyzer-with-event-impact\\venv\\lib\\site-packages (from jupyter-console->jupyter->-r ../requirements.txt (line 5)) (2.19.2)\n",
      "Requirement already satisfied: async-lru>=1.0.0 in c:\\users\\sastr\\onedrive\\desktop\\hyn\\tourist-flow-and-seasonality-analyzer-with-event-impact\\venv\\lib\\site-packages (from jupyterlab->jupyter->-r ../requirements.txt (line 5)) (2.0.5)\n",
      "Requirement already satisfied: httpx<1,>=0.25.0 in c:\\users\\sastr\\onedrive\\desktop\\hyn\\tourist-flow-and-seasonality-analyzer-with-event-impact\\venv\\lib\\site-packages (from jupyterlab->jupyter->-r ../requirements.txt (line 5)) (0.28.1)\n",
      "Requirement already satisfied: jupyter-lsp>=2.0.0 in c:\\users\\sastr\\onedrive\\desktop\\hyn\\tourist-flow-and-seasonality-analyzer-with-event-impact\\venv\\lib\\site-packages (from jupyterlab->jupyter->-r ../requirements.txt (line 5)) (2.3.0)\n",
      "Requirement already satisfied: jupyter-server<3,>=2.4.0 in c:\\users\\sastr\\onedrive\\desktop\\hyn\\tourist-flow-and-seasonality-analyzer-with-event-impact\\venv\\lib\\site-packages (from jupyterlab->jupyter->-r ../requirements.txt (line 5)) (2.17.0)\n",
      "Requirement already satisfied: jupyterlab-server<3,>=2.27.1 in c:\\users\\sastr\\onedrive\\desktop\\hyn\\tourist-flow-and-seasonality-analyzer-with-event-impact\\venv\\lib\\site-packages (from jupyterlab->jupyter->-r ../requirements.txt (line 5)) (2.27.3)\n",
      "Requirement already satisfied: notebook-shim>=0.2 in c:\\users\\sastr\\onedrive\\desktop\\hyn\\tourist-flow-and-seasonality-analyzer-with-event-impact\\venv\\lib\\site-packages (from jupyterlab->jupyter->-r ../requirements.txt (line 5)) (0.2.4)\n",
      "Requirement already satisfied: beautifulsoup4 in c:\\users\\sastr\\onedrive\\desktop\\hyn\\tourist-flow-and-seasonality-analyzer-with-event-impact\\venv\\lib\\site-packages (from nbconvert->jupyter->-r ../requirements.txt (line 5)) (4.14.2)\n",
      "Requirement already satisfied: bleach[css]!=5.0.0 in c:\\users\\sastr\\onedrive\\desktop\\hyn\\tourist-flow-and-seasonality-analyzer-with-event-impact\\venv\\lib\\site-packages (from nbconvert->jupyter->-r ../requirements.txt (line 5)) (6.2.0)\n",
      "Requirement already satisfied: defusedxml in c:\\users\\sastr\\onedrive\\desktop\\hyn\\tourist-flow-and-seasonality-analyzer-with-event-impact\\venv\\lib\\site-packages (from nbconvert->jupyter->-r ../requirements.txt (line 5)) (0.7.1)\n",
      "Requirement already satisfied: jupyterlab-pygments in c:\\users\\sastr\\onedrive\\desktop\\hyn\\tourist-flow-and-seasonality-analyzer-with-event-impact\\venv\\lib\\site-packages (from nbconvert->jupyter->-r ../requirements.txt (line 5)) (0.3.0)\n",
      "Requirement already satisfied: mistune<4,>=2.0.3 in c:\\users\\sastr\\onedrive\\desktop\\hyn\\tourist-flow-and-seasonality-analyzer-with-event-impact\\venv\\lib\\site-packages (from nbconvert->jupyter->-r ../requirements.txt (line 5)) (3.1.4)\n",
      "Requirement already satisfied: nbclient>=0.5.0 in c:\\users\\sastr\\onedrive\\desktop\\hyn\\tourist-flow-and-seasonality-analyzer-with-event-impact\\venv\\lib\\site-packages (from nbconvert->jupyter->-r ../requirements.txt (line 5)) (0.10.2)\n",
      "Requirement already satisfied: nbformat>=5.7 in c:\\users\\sastr\\onedrive\\desktop\\hyn\\tourist-flow-and-seasonality-analyzer-with-event-impact\\venv\\lib\\site-packages (from nbconvert->jupyter->-r ../requirements.txt (line 5)) (5.10.4)\n",
      "Requirement already satisfied: pandocfilters>=1.4.1 in c:\\users\\sastr\\onedrive\\desktop\\hyn\\tourist-flow-and-seasonality-analyzer-with-event-impact\\venv\\lib\\site-packages (from nbconvert->jupyter->-r ../requirements.txt (line 5)) (1.5.1)\n",
      "Requirement already satisfied: charset_normalizer<4,>=2 in c:\\users\\sastr\\onedrive\\desktop\\hyn\\tourist-flow-and-seasonality-analyzer-with-event-impact\\venv\\lib\\site-packages (from requests->dash->-r ../requirements.txt (line 4)) (3.4.3)\n",
      "Requirement already satisfied: idna<4,>=2.5 in c:\\users\\sastr\\onedrive\\desktop\\hyn\\tourist-flow-and-seasonality-analyzer-with-event-impact\\venv\\lib\\site-packages (from requests->dash->-r ../requirements.txt (line 4)) (3.10)\n",
      "Requirement already satisfied: urllib3<3,>=1.21.1 in c:\\users\\sastr\\onedrive\\desktop\\hyn\\tourist-flow-and-seasonality-analyzer-with-event-impact\\venv\\lib\\site-packages (from requests->dash->-r ../requirements.txt (line 4)) (2.5.0)\n",
      "Requirement already satisfied: certifi>=2017.4.17 in c:\\users\\sastr\\onedrive\\desktop\\hyn\\tourist-flow-and-seasonality-analyzer-with-event-impact\\venv\\lib\\site-packages (from requests->dash->-r ../requirements.txt (line 4)) (2025.8.3)\n",
      "Requirement already satisfied: webencodings in c:\\users\\sastr\\onedrive\\desktop\\hyn\\tourist-flow-and-seasonality-analyzer-with-event-impact\\venv\\lib\\site-packages (from bleach[css]!=5.0.0->nbconvert->jupyter->-r ../requirements.txt (line 5)) (0.5.1)\n",
      "Requirement already satisfied: tinycss2<1.5,>=1.1.0 in c:\\users\\sastr\\onedrive\\desktop\\hyn\\tourist-flow-and-seasonality-analyzer-with-event-impact\\venv\\lib\\site-packages (from bleach[css]!=5.0.0->nbconvert->jupyter->-r ../requirements.txt (line 5)) (1.4.0)\n",
      "Requirement already satisfied: colorama in c:\\users\\sastr\\onedrive\\desktop\\hyn\\tourist-flow-and-seasonality-analyzer-with-event-impact\\venv\\lib\\site-packages (from click>=8.1.3->Flask<3.2,>=1.0.4->dash->-r ../requirements.txt (line 4)) (0.4.6)\n",
      "Requirement already satisfied: anyio in c:\\users\\sastr\\onedrive\\desktop\\hyn\\tourist-flow-and-seasonality-analyzer-with-event-impact\\venv\\lib\\site-packages (from httpx<1,>=0.25.0->jupyterlab->jupyter->-r ../requirements.txt (line 5)) (4.11.0)\n",
      "Requirement already satisfied: httpcore==1.* in c:\\users\\sastr\\onedrive\\desktop\\hyn\\tourist-flow-and-seasonality-analyzer-with-event-impact\\venv\\lib\\site-packages (from httpx<1,>=0.25.0->jupyterlab->jupyter->-r ../requirements.txt (line 5)) (1.0.9)\n",
      "Requirement already satisfied: h11>=0.16 in c:\\users\\sastr\\onedrive\\desktop\\hyn\\tourist-flow-and-seasonality-analyzer-with-event-impact\\venv\\lib\\site-packages (from httpcore==1.*->httpx<1,>=0.25.0->jupyterlab->jupyter->-r ../requirements.txt (line 5)) (0.16.0)\n",
      "Requirement already satisfied: decorator in c:\\users\\sastr\\onedrive\\desktop\\hyn\\tourist-flow-and-seasonality-analyzer-with-event-impact\\venv\\lib\\site-packages (from ipython>=7.23.1->ipykernel->jupyter->-r ../requirements.txt (line 5)) (5.2.1)\n",
      "Requirement already satisfied: ipython-pygments-lexers in c:\\users\\sastr\\onedrive\\desktop\\hyn\\tourist-flow-and-seasonality-analyzer-with-event-impact\\venv\\lib\\site-packages (from ipython>=7.23.1->ipykernel->jupyter->-r ../requirements.txt (line 5)) (1.1.1)\n",
      "Requirement already satisfied: jedi>=0.16 in c:\\users\\sastr\\onedrive\\desktop\\hyn\\tourist-flow-and-seasonality-analyzer-with-event-impact\\venv\\lib\\site-packages (from ipython>=7.23.1->ipykernel->jupyter->-r ../requirements.txt (line 5)) (0.19.2)\n",
      "Requirement already satisfied: stack_data in c:\\users\\sastr\\onedrive\\desktop\\hyn\\tourist-flow-and-seasonality-analyzer-with-event-impact\\venv\\lib\\site-packages (from ipython>=7.23.1->ipykernel->jupyter->-r ../requirements.txt (line 5)) (0.6.3)\n",
      "Requirement already satisfied: platformdirs>=2.5 in c:\\users\\sastr\\onedrive\\desktop\\hyn\\tourist-flow-and-seasonality-analyzer-with-event-impact\\venv\\lib\\site-packages (from jupyter-core!=5.0.*,>=4.12->ipykernel->jupyter->-r ../requirements.txt (line 5)) (4.4.0)\n",
      "Requirement already satisfied: pywin32>=300 in c:\\users\\sastr\\onedrive\\desktop\\hyn\\tourist-flow-and-seasonality-analyzer-with-event-impact\\venv\\lib\\site-packages (from jupyter-core!=5.0.*,>=4.12->ipykernel->jupyter->-r ../requirements.txt (line 5)) (311)\n",
      "Requirement already satisfied: argon2-cffi>=21.1 in c:\\users\\sastr\\onedrive\\desktop\\hyn\\tourist-flow-and-seasonality-analyzer-with-event-impact\\venv\\lib\\site-packages (from jupyter-server<3,>=2.4.0->jupyterlab->jupyter->-r ../requirements.txt (line 5)) (25.1.0)\n",
      "Requirement already satisfied: jupyter-events>=0.11.0 in c:\\users\\sastr\\onedrive\\desktop\\hyn\\tourist-flow-and-seasonality-analyzer-with-event-impact\\venv\\lib\\site-packages (from jupyter-server<3,>=2.4.0->jupyterlab->jupyter->-r ../requirements.txt (line 5)) (0.12.0)\n",
      "Requirement already satisfied: jupyter-server-terminals>=0.4.4 in c:\\users\\sastr\\onedrive\\desktop\\hyn\\tourist-flow-and-seasonality-analyzer-with-event-impact\\venv\\lib\\site-packages (from jupyter-server<3,>=2.4.0->jupyterlab->jupyter->-r ../requirements.txt (line 5)) (0.5.3)\n",
      "Requirement already satisfied: prometheus-client>=0.9 in c:\\users\\sastr\\onedrive\\desktop\\hyn\\tourist-flow-and-seasonality-analyzer-with-event-impact\\venv\\lib\\site-packages (from jupyter-server<3,>=2.4.0->jupyterlab->jupyter->-r ../requirements.txt (line 5)) (0.23.1)\n",
      "Requirement already satisfied: pywinpty>=2.0.1 in c:\\users\\sastr\\onedrive\\desktop\\hyn\\tourist-flow-and-seasonality-analyzer-with-event-impact\\venv\\lib\\site-packages (from jupyter-server<3,>=2.4.0->jupyterlab->jupyter->-r ../requirements.txt (line 5)) (3.0.2)\n",
      "Requirement already satisfied: send2trash>=1.8.2 in c:\\users\\sastr\\onedrive\\desktop\\hyn\\tourist-flow-and-seasonality-analyzer-with-event-impact\\venv\\lib\\site-packages (from jupyter-server<3,>=2.4.0->jupyterlab->jupyter->-r ../requirements.txt (line 5)) (1.8.3)\n",
      "Requirement already satisfied: terminado>=0.8.3 in c:\\users\\sastr\\onedrive\\desktop\\hyn\\tourist-flow-and-seasonality-analyzer-with-event-impact\\venv\\lib\\site-packages (from jupyter-server<3,>=2.4.0->jupyterlab->jupyter->-r ../requirements.txt (line 5)) (0.18.1)\n",
      "Requirement already satisfied: websocket-client>=1.7 in c:\\users\\sastr\\onedrive\\desktop\\hyn\\tourist-flow-and-seasonality-analyzer-with-event-impact\\venv\\lib\\site-packages (from jupyter-server<3,>=2.4.0->jupyterlab->jupyter->-r ../requirements.txt (line 5)) (1.8.0)\n",
      "Requirement already satisfied: babel>=2.10 in c:\\users\\sastr\\onedrive\\desktop\\hyn\\tourist-flow-and-seasonality-analyzer-with-event-impact\\venv\\lib\\site-packages (from jupyterlab-server<3,>=2.27.1->jupyterlab->jupyter->-r ../requirements.txt (line 5)) (2.17.0)\n",
      "Requirement already satisfied: json5>=0.9.0 in c:\\users\\sastr\\onedrive\\desktop\\hyn\\tourist-flow-and-seasonality-analyzer-with-event-impact\\venv\\lib\\site-packages (from jupyterlab-server<3,>=2.27.1->jupyterlab->jupyter->-r ../requirements.txt (line 5)) (0.12.1)\n",
      "Requirement already satisfied: jsonschema>=4.18.0 in c:\\users\\sastr\\onedrive\\desktop\\hyn\\tourist-flow-and-seasonality-analyzer-with-event-impact\\venv\\lib\\site-packages (from jupyterlab-server<3,>=2.27.1->jupyterlab->jupyter->-r ../requirements.txt (line 5)) (4.25.1)\n",
      "Requirement already satisfied: fastjsonschema>=2.15 in c:\\users\\sastr\\onedrive\\desktop\\hyn\\tourist-flow-and-seasonality-analyzer-with-event-impact\\venv\\lib\\site-packages (from nbformat>=5.7->nbconvert->jupyter->-r ../requirements.txt (line 5)) (2.21.2)\n",
      "Requirement already satisfied: wcwidth in c:\\users\\sastr\\onedrive\\desktop\\hyn\\tourist-flow-and-seasonality-analyzer-with-event-impact\\venv\\lib\\site-packages (from prompt-toolkit>=3.0.30->jupyter-console->jupyter->-r ../requirements.txt (line 5)) (0.2.14)\n",
      "Requirement already satisfied: soupsieve>1.2 in c:\\users\\sastr\\onedrive\\desktop\\hyn\\tourist-flow-and-seasonality-analyzer-with-event-impact\\venv\\lib\\site-packages (from beautifulsoup4->nbconvert->jupyter->-r ../requirements.txt (line 5)) (2.8)\n",
      "Requirement already satisfied: sniffio>=1.1 in c:\\users\\sastr\\onedrive\\desktop\\hyn\\tourist-flow-and-seasonality-analyzer-with-event-impact\\venv\\lib\\site-packages (from anyio->httpx<1,>=0.25.0->jupyterlab->jupyter->-r ../requirements.txt (line 5)) (1.3.1)\n",
      "Requirement already satisfied: argon2-cffi-bindings in c:\\users\\sastr\\onedrive\\desktop\\hyn\\tourist-flow-and-seasonality-analyzer-with-event-impact\\venv\\lib\\site-packages (from argon2-cffi>=21.1->jupyter-server<3,>=2.4.0->jupyterlab->jupyter->-r ../requirements.txt (line 5)) (25.1.0)\n",
      "Requirement already satisfied: parso<0.9.0,>=0.8.4 in c:\\users\\sastr\\onedrive\\desktop\\hyn\\tourist-flow-and-seasonality-analyzer-with-event-impact\\venv\\lib\\site-packages (from jedi>=0.16->ipython>=7.23.1->ipykernel->jupyter->-r ../requirements.txt (line 5)) (0.8.5)\n",
      "Requirement already satisfied: attrs>=22.2.0 in c:\\users\\sastr\\onedrive\\desktop\\hyn\\tourist-flow-and-seasonality-analyzer-with-event-impact\\venv\\lib\\site-packages (from jsonschema>=4.18.0->jupyterlab-server<3,>=2.27.1->jupyterlab->jupyter->-r ../requirements.txt (line 5)) (25.3.0)\n",
      "Requirement already satisfied: jsonschema-specifications>=2023.03.6 in c:\\users\\sastr\\onedrive\\desktop\\hyn\\tourist-flow-and-seasonality-analyzer-with-event-impact\\venv\\lib\\site-packages (from jsonschema>=4.18.0->jupyterlab-server<3,>=2.27.1->jupyterlab->jupyter->-r ../requirements.txt (line 5)) (2025.9.1)\n",
      "Requirement already satisfied: referencing>=0.28.4 in c:\\users\\sastr\\onedrive\\desktop\\hyn\\tourist-flow-and-seasonality-analyzer-with-event-impact\\venv\\lib\\site-packages (from jsonschema>=4.18.0->jupyterlab-server<3,>=2.27.1->jupyterlab->jupyter->-r ../requirements.txt (line 5)) (0.36.2)\n",
      "Requirement already satisfied: rpds-py>=0.7.1 in c:\\users\\sastr\\onedrive\\desktop\\hyn\\tourist-flow-and-seasonality-analyzer-with-event-impact\\venv\\lib\\site-packages (from jsonschema>=4.18.0->jupyterlab-server<3,>=2.27.1->jupyterlab->jupyter->-r ../requirements.txt (line 5)) (0.27.1)\n",
      "Requirement already satisfied: python-json-logger>=2.0.4 in c:\\users\\sastr\\onedrive\\desktop\\hyn\\tourist-flow-and-seasonality-analyzer-with-event-impact\\venv\\lib\\site-packages (from jupyter-events>=0.11.0->jupyter-server<3,>=2.4.0->jupyterlab->jupyter->-r ../requirements.txt (line 5)) (3.3.0)\n",
      "Requirement already satisfied: pyyaml>=5.3 in c:\\users\\sastr\\onedrive\\desktop\\hyn\\tourist-flow-and-seasonality-analyzer-with-event-impact\\venv\\lib\\site-packages (from jupyter-events>=0.11.0->jupyter-server<3,>=2.4.0->jupyterlab->jupyter->-r ../requirements.txt (line 5)) (6.0.3)\n",
      "Requirement already satisfied: rfc3339-validator in c:\\users\\sastr\\onedrive\\desktop\\hyn\\tourist-flow-and-seasonality-analyzer-with-event-impact\\venv\\lib\\site-packages (from jupyter-events>=0.11.0->jupyter-server<3,>=2.4.0->jupyterlab->jupyter->-r ../requirements.txt (line 5)) (0.1.4)\n",
      "Requirement already satisfied: rfc3986-validator>=0.1.1 in c:\\users\\sastr\\onedrive\\desktop\\hyn\\tourist-flow-and-seasonality-analyzer-with-event-impact\\venv\\lib\\site-packages (from jupyter-events>=0.11.0->jupyter-server<3,>=2.4.0->jupyterlab->jupyter->-r ../requirements.txt (line 5)) (0.1.1)\n",
      "Requirement already satisfied: executing>=1.2.0 in c:\\users\\sastr\\onedrive\\desktop\\hyn\\tourist-flow-and-seasonality-analyzer-with-event-impact\\venv\\lib\\site-packages (from stack_data->ipython>=7.23.1->ipykernel->jupyter->-r ../requirements.txt (line 5)) (2.2.1)\n",
      "Requirement already satisfied: asttokens>=2.1.0 in c:\\users\\sastr\\onedrive\\desktop\\hyn\\tourist-flow-and-seasonality-analyzer-with-event-impact\\venv\\lib\\site-packages (from stack_data->ipython>=7.23.1->ipykernel->jupyter->-r ../requirements.txt (line 5)) (3.0.0)\n",
      "Requirement already satisfied: pure-eval in c:\\users\\sastr\\onedrive\\desktop\\hyn\\tourist-flow-and-seasonality-analyzer-with-event-impact\\venv\\lib\\site-packages (from stack_data->ipython>=7.23.1->ipykernel->jupyter->-r ../requirements.txt (line 5)) (0.2.3)\n",
      "Requirement already satisfied: fqdn in c:\\users\\sastr\\onedrive\\desktop\\hyn\\tourist-flow-and-seasonality-analyzer-with-event-impact\\venv\\lib\\site-packages (from jsonschema>=4.18.0->jupyterlab-server<3,>=2.27.1->jupyterlab->jupyter->-r ../requirements.txt (line 5)) (1.5.1)\n",
      "Requirement already satisfied: isoduration in c:\\users\\sastr\\onedrive\\desktop\\hyn\\tourist-flow-and-seasonality-analyzer-with-event-impact\\venv\\lib\\site-packages (from jsonschema>=4.18.0->jupyterlab-server<3,>=2.27.1->jupyterlab->jupyter->-r ../requirements.txt (line 5)) (20.11.0)\n",
      "Requirement already satisfied: jsonpointer>1.13 in c:\\users\\sastr\\onedrive\\desktop\\hyn\\tourist-flow-and-seasonality-analyzer-with-event-impact\\venv\\lib\\site-packages (from jsonschema>=4.18.0->jupyterlab-server<3,>=2.27.1->jupyterlab->jupyter->-r ../requirements.txt (line 5)) (3.0.0)\n",
      "Requirement already satisfied: rfc3987-syntax>=1.1.0 in c:\\users\\sastr\\onedrive\\desktop\\hyn\\tourist-flow-and-seasonality-analyzer-with-event-impact\\venv\\lib\\site-packages (from jsonschema>=4.18.0->jupyterlab-server<3,>=2.27.1->jupyterlab->jupyter->-r ../requirements.txt (line 5)) (1.1.0)\n",
      "Requirement already satisfied: uri-template in c:\\users\\sastr\\onedrive\\desktop\\hyn\\tourist-flow-and-seasonality-analyzer-with-event-impact\\venv\\lib\\site-packages (from jsonschema>=4.18.0->jupyterlab-server<3,>=2.27.1->jupyterlab->jupyter->-r ../requirements.txt (line 5)) (1.3.0)\n",
      "Requirement already satisfied: webcolors>=24.6.0 in c:\\users\\sastr\\onedrive\\desktop\\hyn\\tourist-flow-and-seasonality-analyzer-with-event-impact\\venv\\lib\\site-packages (from jsonschema>=4.18.0->jupyterlab-server<3,>=2.27.1->jupyterlab->jupyter->-r ../requirements.txt (line 5)) (24.11.1)\n",
      "Requirement already satisfied: cffi>=1.0.1 in c:\\users\\sastr\\onedrive\\desktop\\hyn\\tourist-flow-and-seasonality-analyzer-with-event-impact\\venv\\lib\\site-packages (from argon2-cffi-bindings->argon2-cffi>=21.1->jupyter-server<3,>=2.4.0->jupyterlab->jupyter->-r ../requirements.txt (line 5)) (2.0.0)\n",
      "Requirement already satisfied: pycparser in c:\\users\\sastr\\onedrive\\desktop\\hyn\\tourist-flow-and-seasonality-analyzer-with-event-impact\\venv\\lib\\site-packages (from cffi>=1.0.1->argon2-cffi-bindings->argon2-cffi>=21.1->jupyter-server<3,>=2.4.0->jupyterlab->jupyter->-r ../requirements.txt (line 5)) (2.23)\n",
      "Requirement already satisfied: lark>=1.2.2 in c:\\users\\sastr\\onedrive\\desktop\\hyn\\tourist-flow-and-seasonality-analyzer-with-event-impact\\venv\\lib\\site-packages (from rfc3987-syntax>=1.1.0->jsonschema>=4.18.0->jupyterlab-server<3,>=2.27.1->jupyterlab->jupyter->-r ../requirements.txt (line 5)) (1.3.0)\n",
      "Requirement already satisfied: arrow>=0.15.0 in c:\\users\\sastr\\onedrive\\desktop\\hyn\\tourist-flow-and-seasonality-analyzer-with-event-impact\\venv\\lib\\site-packages (from isoduration->jsonschema>=4.18.0->jupyterlab-server<3,>=2.27.1->jupyterlab->jupyter->-r ../requirements.txt (line 5)) (1.3.0)\n",
      "Requirement already satisfied: types-python-dateutil>=2.8.10 in c:\\users\\sastr\\onedrive\\desktop\\hyn\\tourist-flow-and-seasonality-analyzer-with-event-impact\\venv\\lib\\site-packages (from arrow>=0.15.0->isoduration->jsonschema>=4.18.0->jupyterlab-server<3,>=2.27.1->jupyterlab->jupyter->-r ../requirements.txt (line 5)) (2.9.0.20250822)\n"
     ]
    },
    {
     "name": "stderr",
     "output_type": "stream",
     "text": [
      "\n",
      "[notice] A new release of pip is available: 23.2.1 -> 25.2\n",
      "[notice] To update, run: python.exe -m pip install --upgrade pip\n"
     ]
    }
   ],
   "source": [
    "!pip install -r ../requirements.txt"
   ]
  },
  {
   "cell_type": "code",
   "execution_count": 6,
   "id": "41849087-9cdd-481b-bf92-9472490da984",
   "metadata": {},
   "outputs": [],
   "source": [
    "# Imports & settingsimport pandas as pd\n",
    "import numpy as np\n",
    "import plotly.express as px\n",
    "import plotly.graph_objects as go\n",
    "\n",
    "pd.set_option(\"display.max_columns\", None)\n",
    "pd.set_option(\"display.width\", 160)\n",
    "\n",
    "DATA_PATH = \"../data/cleaned/all_parks_recreation_visits.csv\"\n"
   ]
  },
  {
   "cell_type": "code",
   "execution_count": 8,
   "id": "e34e9eff-6b2e-4685-b0f8-fb495d590879",
   "metadata": {},
   "outputs": [
    {
     "name": "stdout",
     "output_type": "stream",
     "text": [
      "Shape: (28207, 8)\n"
     ]
    },
    {
     "data": {
      "text/html": [
       "<div>\n",
       "<style scoped>\n",
       "    .dataframe tbody tr th:only-of-type {\n",
       "        vertical-align: middle;\n",
       "    }\n",
       "\n",
       "    .dataframe tbody tr th {\n",
       "        vertical-align: top;\n",
       "    }\n",
       "\n",
       "    .dataframe thead th {\n",
       "        text-align: right;\n",
       "    }\n",
       "</style>\n",
       "<table border=\"1\" class=\"dataframe\">\n",
       "  <thead>\n",
       "    <tr style=\"text-align: right;\">\n",
       "      <th></th>\n",
       "      <th>Park</th>\n",
       "      <th>Unit Code</th>\n",
       "      <th>Park Type</th>\n",
       "      <th>Region</th>\n",
       "      <th>State</th>\n",
       "      <th>Year</th>\n",
       "      <th>Month</th>\n",
       "      <th>Recreation Visits</th>\n",
       "    </tr>\n",
       "  </thead>\n",
       "  <tbody>\n",
       "    <tr>\n",
       "      <th>0</th>\n",
       "      <td>Andersonville NHS</td>\n",
       "      <td>ANDE</td>\n",
       "      <td>National Historic Site</td>\n",
       "      <td>Southeast</td>\n",
       "      <td>GA</td>\n",
       "      <td>1979</td>\n",
       "      <td>1</td>\n",
       "      <td>7589</td>\n",
       "    </tr>\n",
       "    <tr>\n",
       "      <th>1</th>\n",
       "      <td>Andersonville NHS</td>\n",
       "      <td>ANDE</td>\n",
       "      <td>National Historic Site</td>\n",
       "      <td>Southeast</td>\n",
       "      <td>GA</td>\n",
       "      <td>1979</td>\n",
       "      <td>2</td>\n",
       "      <td>10986</td>\n",
       "    </tr>\n",
       "    <tr>\n",
       "      <th>2</th>\n",
       "      <td>Andersonville NHS</td>\n",
       "      <td>ANDE</td>\n",
       "      <td>National Historic Site</td>\n",
       "      <td>Southeast</td>\n",
       "      <td>GA</td>\n",
       "      <td>1979</td>\n",
       "      <td>3</td>\n",
       "      <td>17856</td>\n",
       "    </tr>\n",
       "    <tr>\n",
       "      <th>3</th>\n",
       "      <td>Andersonville NHS</td>\n",
       "      <td>ANDE</td>\n",
       "      <td>National Historic Site</td>\n",
       "      <td>Southeast</td>\n",
       "      <td>GA</td>\n",
       "      <td>1979</td>\n",
       "      <td>4</td>\n",
       "      <td>19940</td>\n",
       "    </tr>\n",
       "    <tr>\n",
       "      <th>4</th>\n",
       "      <td>Andersonville NHS</td>\n",
       "      <td>ANDE</td>\n",
       "      <td>National Historic Site</td>\n",
       "      <td>Southeast</td>\n",
       "      <td>GA</td>\n",
       "      <td>1979</td>\n",
       "      <td>5</td>\n",
       "      <td>12927</td>\n",
       "    </tr>\n",
       "  </tbody>\n",
       "</table>\n",
       "</div>"
      ],
      "text/plain": [
       "                Park Unit Code               Park Type     Region State  Year  Month  Recreation Visits\n",
       "0  Andersonville NHS      ANDE  National Historic Site  Southeast    GA  1979      1               7589\n",
       "1  Andersonville NHS      ANDE  National Historic Site  Southeast    GA  1979      2              10986\n",
       "2  Andersonville NHS      ANDE  National Historic Site  Southeast    GA  1979      3              17856\n",
       "3  Andersonville NHS      ANDE  National Historic Site  Southeast    GA  1979      4              19940\n",
       "4  Andersonville NHS      ANDE  National Historic Site  Southeast    GA  1979      5              12927"
      ]
     },
     "execution_count": 8,
     "metadata": {},
     "output_type": "execute_result"
    }
   ],
   "source": [
    "#Load data & quick peekdf = pd.read_csv(DATA_PATH)\n",
    "print(\"Shape:\", df.shape)\n",
    "df.head()\n"
   ]
  },
  {
   "cell_type": "code",
   "execution_count": 4,
   "id": "6dda33a2-f1ff-44c2-a196-e61695013759",
   "metadata": {},
   "outputs": [],
   "source": [
    "# enforce numeric\n",
    "df[\"Year\"] = pd.to_numeric(df[\"Year\"], errors=\"coerce\")\n",
    "df[\"Month\"] = pd.to_numeric(df[\"Month\"], errors=\"coerce\")\n",
    "df[\"Recreation Visits\"] = pd.to_numeric(df[\"Recreation Visits\"], errors=\"coerce\")"
   ]
  },
  {
   "cell_type": "code",
   "execution_count": 9,
   "id": "c055e46d-ef72-4f5b-a7bf-094caefba515",
   "metadata": {},
   "outputs": [],
   "source": [
    "# drop invalid rows\n",
    "df = df.dropna(subset=[\"Year\",\"Month\",\"Recreation Visits\"])\n",
    "df[\"Year\"] = df[\"Year\"].astype(int)\n",
    "df[\"Month\"] = df[\"Month\"].astype(int)\n",
    "df[\"Recreation Visits\"] = df[\"Recreation Visits\"].astype(int)\n"
   ]
  },
  {
   "cell_type": "code",
   "execution_count": 11,
   "id": "f0190608-ad15-493f-9aa5-39b04eb2ace2",
   "metadata": {},
   "outputs": [],
   "source": [
    "# date column for time analysis\n",
    "df[\"Date\"] = pd.to_datetime(dict(year=df[\"Year\"], month=df[\"Month\"], day=1))\n"
   ]
  },
  {
   "cell_type": "code",
   "execution_count": 12,
   "id": "a370b694-8fef-4d24-bb70-57a8ae0b04e7",
   "metadata": {},
   "outputs": [
    {
     "name": "stdout",
     "output_type": "stream",
     "text": [
      "Rows after clean/dedup: 28207 (dropped 0)\n"
     ]
    },
    {
     "data": {
      "text/html": [
       "<div>\n",
       "<style scoped>\n",
       "    .dataframe tbody tr th:only-of-type {\n",
       "        vertical-align: middle;\n",
       "    }\n",
       "\n",
       "    .dataframe tbody tr th {\n",
       "        vertical-align: top;\n",
       "    }\n",
       "\n",
       "    .dataframe thead th {\n",
       "        text-align: right;\n",
       "    }\n",
       "</style>\n",
       "<table border=\"1\" class=\"dataframe\">\n",
       "  <thead>\n",
       "    <tr style=\"text-align: right;\">\n",
       "      <th></th>\n",
       "      <th>Park</th>\n",
       "      <th>Unit Code</th>\n",
       "      <th>Park Type</th>\n",
       "      <th>Region</th>\n",
       "      <th>State</th>\n",
       "      <th>Year</th>\n",
       "      <th>Month</th>\n",
       "      <th>Recreation Visits</th>\n",
       "      <th>Date</th>\n",
       "    </tr>\n",
       "  </thead>\n",
       "  <tbody>\n",
       "    <tr>\n",
       "      <th>count</th>\n",
       "      <td>28207</td>\n",
       "      <td>28207</td>\n",
       "      <td>28207</td>\n",
       "      <td>28207</td>\n",
       "      <td>27751</td>\n",
       "      <td>28207.000000</td>\n",
       "      <td>28207.000000</td>\n",
       "      <td>2.820700e+04</td>\n",
       "      <td>28207</td>\n",
       "    </tr>\n",
       "    <tr>\n",
       "      <th>unique</th>\n",
       "      <td>59</td>\n",
       "      <td>59</td>\n",
       "      <td>15</td>\n",
       "      <td>7</td>\n",
       "      <td>24</td>\n",
       "      <td>NaN</td>\n",
       "      <td>NaN</td>\n",
       "      <td>NaN</td>\n",
       "      <td>NaN</td>\n",
       "    </tr>\n",
       "    <tr>\n",
       "      <th>top</th>\n",
       "      <td>Andersonville NHS</td>\n",
       "      <td>ANDE</td>\n",
       "      <td>National Monument</td>\n",
       "      <td>Intermountain</td>\n",
       "      <td>UT</td>\n",
       "      <td>NaN</td>\n",
       "      <td>NaN</td>\n",
       "      <td>NaN</td>\n",
       "      <td>NaN</td>\n",
       "    </tr>\n",
       "    <tr>\n",
       "      <th>freq</th>\n",
       "      <td>552</td>\n",
       "      <td>552</td>\n",
       "      <td>7260</td>\n",
       "      <td>9912</td>\n",
       "      <td>2760</td>\n",
       "      <td>NaN</td>\n",
       "      <td>NaN</td>\n",
       "      <td>NaN</td>\n",
       "      <td>NaN</td>\n",
       "    </tr>\n",
       "    <tr>\n",
       "      <th>mean</th>\n",
       "      <td>NaN</td>\n",
       "      <td>NaN</td>\n",
       "      <td>NaN</td>\n",
       "      <td>NaN</td>\n",
       "      <td>NaN</td>\n",
       "      <td>2002.539051</td>\n",
       "      <td>6.500372</td>\n",
       "      <td>7.681899e+04</td>\n",
       "      <td>2002-12-30 11:32:55.041656448</td>\n",
       "    </tr>\n",
       "    <tr>\n",
       "      <th>min</th>\n",
       "      <td>NaN</td>\n",
       "      <td>NaN</td>\n",
       "      <td>NaN</td>\n",
       "      <td>NaN</td>\n",
       "      <td>NaN</td>\n",
       "      <td>1979.000000</td>\n",
       "      <td>1.000000</td>\n",
       "      <td>0.000000e+00</td>\n",
       "      <td>1979-01-01 00:00:00</td>\n",
       "    </tr>\n",
       "    <tr>\n",
       "      <th>25%</th>\n",
       "      <td>NaN</td>\n",
       "      <td>NaN</td>\n",
       "      <td>NaN</td>\n",
       "      <td>NaN</td>\n",
       "      <td>NaN</td>\n",
       "      <td>1991.000000</td>\n",
       "      <td>4.000000</td>\n",
       "      <td>4.000000e+03</td>\n",
       "      <td>1991-10-01 00:00:00</td>\n",
       "    </tr>\n",
       "    <tr>\n",
       "      <th>50%</th>\n",
       "      <td>NaN</td>\n",
       "      <td>NaN</td>\n",
       "      <td>NaN</td>\n",
       "      <td>NaN</td>\n",
       "      <td>NaN</td>\n",
       "      <td>2003.000000</td>\n",
       "      <td>7.000000</td>\n",
       "      <td>1.705000e+04</td>\n",
       "      <td>2003-07-01 00:00:00</td>\n",
       "    </tr>\n",
       "    <tr>\n",
       "      <th>75%</th>\n",
       "      <td>NaN</td>\n",
       "      <td>NaN</td>\n",
       "      <td>NaN</td>\n",
       "      <td>NaN</td>\n",
       "      <td>NaN</td>\n",
       "      <td>2014.000000</td>\n",
       "      <td>9.500000</td>\n",
       "      <td>6.001800e+04</td>\n",
       "      <td>2014-08-01 00:00:00</td>\n",
       "    </tr>\n",
       "    <tr>\n",
       "      <th>max</th>\n",
       "      <td>NaN</td>\n",
       "      <td>NaN</td>\n",
       "      <td>NaN</td>\n",
       "      <td>NaN</td>\n",
       "      <td>NaN</td>\n",
       "      <td>2024.000000</td>\n",
       "      <td>12.000000</td>\n",
       "      <td>3.181024e+06</td>\n",
       "      <td>2024-12-01 00:00:00</td>\n",
       "    </tr>\n",
       "    <tr>\n",
       "      <th>std</th>\n",
       "      <td>NaN</td>\n",
       "      <td>NaN</td>\n",
       "      <td>NaN</td>\n",
       "      <td>NaN</td>\n",
       "      <td>NaN</td>\n",
       "      <td>13.228972</td>\n",
       "      <td>3.451910</td>\n",
       "      <td>2.276913e+05</td>\n",
       "      <td>NaN</td>\n",
       "    </tr>\n",
       "  </tbody>\n",
       "</table>\n",
       "</div>"
      ],
      "text/plain": [
       "                     Park Unit Code          Park Type         Region  State          Year         Month  Recreation Visits                           Date\n",
       "count               28207     28207              28207          28207  27751  28207.000000  28207.000000       2.820700e+04                          28207\n",
       "unique                 59        59                 15              7     24           NaN           NaN                NaN                            NaN\n",
       "top     Andersonville NHS      ANDE  National Monument  Intermountain     UT           NaN           NaN                NaN                            NaN\n",
       "freq                  552       552               7260           9912   2760           NaN           NaN                NaN                            NaN\n",
       "mean                  NaN       NaN                NaN            NaN    NaN   2002.539051      6.500372       7.681899e+04  2002-12-30 11:32:55.041656448\n",
       "min                   NaN       NaN                NaN            NaN    NaN   1979.000000      1.000000       0.000000e+00            1979-01-01 00:00:00\n",
       "25%                   NaN       NaN                NaN            NaN    NaN   1991.000000      4.000000       4.000000e+03            1991-10-01 00:00:00\n",
       "50%                   NaN       NaN                NaN            NaN    NaN   2003.000000      7.000000       1.705000e+04            2003-07-01 00:00:00\n",
       "75%                   NaN       NaN                NaN            NaN    NaN   2014.000000      9.500000       6.001800e+04            2014-08-01 00:00:00\n",
       "max                   NaN       NaN                NaN            NaN    NaN   2024.000000     12.000000       3.181024e+06            2024-12-01 00:00:00\n",
       "std                   NaN       NaN                NaN            NaN    NaN     13.228972      3.451910       2.276913e+05                            NaN"
      ]
     },
     "execution_count": 12,
     "metadata": {},
     "output_type": "execute_result"
    }
   ],
   "source": [
    "# de-dup just in case\n",
    "before = len(df)\n",
    "df = df.drop_duplicates()\n",
    "print(f\"Rows after clean/dedup: {len(df)} (dropped {before - len(df)})\")\n",
    "\n",
    "df.describe(include=\"all\")"
   ]
  },
  {
   "cell_type": "code",
   "execution_count": 14,
   "id": "91591bec-867c-4a52-92a4-352eb3e5b83f",
   "metadata": {},
   "outputs": [
    {
     "name": "stdout",
     "output_type": "stream",
     "text": [
      "Year range: 1979 → 2024\n",
      "Months unique: [np.int64(1), np.int64(2), np.int64(3), np.int64(4), np.int64(5), np.int64(6), np.int64(7), np.int64(8), np.int64(9), np.int64(10), np.int64(11), np.int64(12)]\n",
      "Parks: 59 | States: 24 | Regions: 7\n"
     ]
    },
    {
     "data": {
      "text/plain": [
       "Park                   0\n",
       "Unit Code              0\n",
       "Park Type              0\n",
       "Region                 0\n",
       "State                456\n",
       "Year                   0\n",
       "Month                  0\n",
       "Recreation Visits      0\n",
       "Date                   0\n",
       "dtype: int64"
      ]
     },
     "execution_count": 14,
     "metadata": {},
     "output_type": "execute_result"
    }
   ],
   "source": [
    "# Sanity checks (missing, ranges)\n",
    "print(\"Year range:\", df[\"Year\"].min(), \"→\", df[\"Year\"].max())\n",
    "print(\"Months unique:\", sorted(df[\"Month\"].unique()))\n",
    "print(\"Parks:\", df[\"Park\"].nunique(), \"| States:\", df[\"State\"].nunique(), \"| Regions:\", df[\"Region\"].nunique())\n",
    "\n",
    "# Basic missing check (should be none after dropna)\n",
    "df.isna().sum()"
   ]
  },
  {
   "cell_type": "code",
   "execution_count": 15,
   "id": "8f381453-bc64-44f4-8ac0-9b8f513d74ba",
   "metadata": {},
   "outputs": [
    {
     "data": {
      "application/vnd.plotly.v1+json": {
       "config": {
        "plotlyServerURL": "https://plot.ly"
       },
       "data": [
        {
         "hovertemplate": "Year=%{x}<br>Recreation Visits=%{y}<extra></extra>",
         "legendgroup": "",
         "line": {
          "color": "#636efa",
          "dash": "solid"
         },
         "marker": {
          "symbol": "circle"
         },
         "mode": "lines+markers",
         "name": "",
         "orientation": "v",
         "showlegend": false,
         "type": "scatter",
         "x": {
          "bdata": "uwe8B70Hvge/B8AHwQfCB8MHxAfFB8YHxwfIB8kHygfLB8wHzQfOB88H0AfRB9IH0wfUB9UH1gfXB9gH2QfaB9sH3AfdB94H3wfgB+EH4gfjB+QH5QfmB+cH6Ac=",
          "dtype": "i2"
         },
         "xaxis": "x",
         "y": {
          "bdata": "cbbeAfCGDwJ78h0C2G8hAlsXQQK4bTYCPZxbAompkAKx99gClczvAo4rwALqqdkCMQHgAjFn5QJz4eoCNxroAnd58gLwvu4CoXMHAxkwFQPRRCQDyEgPA3g0BgP98RMDZMnQArUR0gLzWNIC18jlAnHE3QIB4dEC/mLZAmV+xwKFgssCrPDJAg+piAJFIOECxPUHA1e0OAOpnkEDjA0HAwyRGQOC6l4C+IwIA+FDJAP/YTUD94JAAw==",
          "dtype": "i4"
         },
         "yaxis": "y"
        }
       ],
       "layout": {
        "legend": {
         "tracegroupgap": 0
        },
        "template": {
         "data": {
          "bar": [
           {
            "error_x": {
             "color": "#2a3f5f"
            },
            "error_y": {
             "color": "#2a3f5f"
            },
            "marker": {
             "line": {
              "color": "#E5ECF6",
              "width": 0.5
             },
             "pattern": {
              "fillmode": "overlay",
              "size": 10,
              "solidity": 0.2
             }
            },
            "type": "bar"
           }
          ],
          "barpolar": [
           {
            "marker": {
             "line": {
              "color": "#E5ECF6",
              "width": 0.5
             },
             "pattern": {
              "fillmode": "overlay",
              "size": 10,
              "solidity": 0.2
             }
            },
            "type": "barpolar"
           }
          ],
          "carpet": [
           {
            "aaxis": {
             "endlinecolor": "#2a3f5f",
             "gridcolor": "white",
             "linecolor": "white",
             "minorgridcolor": "white",
             "startlinecolor": "#2a3f5f"
            },
            "baxis": {
             "endlinecolor": "#2a3f5f",
             "gridcolor": "white",
             "linecolor": "white",
             "minorgridcolor": "white",
             "startlinecolor": "#2a3f5f"
            },
            "type": "carpet"
           }
          ],
          "choropleth": [
           {
            "colorbar": {
             "outlinewidth": 0,
             "ticks": ""
            },
            "type": "choropleth"
           }
          ],
          "contour": [
           {
            "colorbar": {
             "outlinewidth": 0,
             "ticks": ""
            },
            "colorscale": [
             [
              0,
              "#0d0887"
             ],
             [
              0.1111111111111111,
              "#46039f"
             ],
             [
              0.2222222222222222,
              "#7201a8"
             ],
             [
              0.3333333333333333,
              "#9c179e"
             ],
             [
              0.4444444444444444,
              "#bd3786"
             ],
             [
              0.5555555555555556,
              "#d8576b"
             ],
             [
              0.6666666666666666,
              "#ed7953"
             ],
             [
              0.7777777777777778,
              "#fb9f3a"
             ],
             [
              0.8888888888888888,
              "#fdca26"
             ],
             [
              1,
              "#f0f921"
             ]
            ],
            "type": "contour"
           }
          ],
          "contourcarpet": [
           {
            "colorbar": {
             "outlinewidth": 0,
             "ticks": ""
            },
            "type": "contourcarpet"
           }
          ],
          "heatmap": [
           {
            "colorbar": {
             "outlinewidth": 0,
             "ticks": ""
            },
            "colorscale": [
             [
              0,
              "#0d0887"
             ],
             [
              0.1111111111111111,
              "#46039f"
             ],
             [
              0.2222222222222222,
              "#7201a8"
             ],
             [
              0.3333333333333333,
              "#9c179e"
             ],
             [
              0.4444444444444444,
              "#bd3786"
             ],
             [
              0.5555555555555556,
              "#d8576b"
             ],
             [
              0.6666666666666666,
              "#ed7953"
             ],
             [
              0.7777777777777778,
              "#fb9f3a"
             ],
             [
              0.8888888888888888,
              "#fdca26"
             ],
             [
              1,
              "#f0f921"
             ]
            ],
            "type": "heatmap"
           }
          ],
          "histogram": [
           {
            "marker": {
             "pattern": {
              "fillmode": "overlay",
              "size": 10,
              "solidity": 0.2
             }
            },
            "type": "histogram"
           }
          ],
          "histogram2d": [
           {
            "colorbar": {
             "outlinewidth": 0,
             "ticks": ""
            },
            "colorscale": [
             [
              0,
              "#0d0887"
             ],
             [
              0.1111111111111111,
              "#46039f"
             ],
             [
              0.2222222222222222,
              "#7201a8"
             ],
             [
              0.3333333333333333,
              "#9c179e"
             ],
             [
              0.4444444444444444,
              "#bd3786"
             ],
             [
              0.5555555555555556,
              "#d8576b"
             ],
             [
              0.6666666666666666,
              "#ed7953"
             ],
             [
              0.7777777777777778,
              "#fb9f3a"
             ],
             [
              0.8888888888888888,
              "#fdca26"
             ],
             [
              1,
              "#f0f921"
             ]
            ],
            "type": "histogram2d"
           }
          ],
          "histogram2dcontour": [
           {
            "colorbar": {
             "outlinewidth": 0,
             "ticks": ""
            },
            "colorscale": [
             [
              0,
              "#0d0887"
             ],
             [
              0.1111111111111111,
              "#46039f"
             ],
             [
              0.2222222222222222,
              "#7201a8"
             ],
             [
              0.3333333333333333,
              "#9c179e"
             ],
             [
              0.4444444444444444,
              "#bd3786"
             ],
             [
              0.5555555555555556,
              "#d8576b"
             ],
             [
              0.6666666666666666,
              "#ed7953"
             ],
             [
              0.7777777777777778,
              "#fb9f3a"
             ],
             [
              0.8888888888888888,
              "#fdca26"
             ],
             [
              1,
              "#f0f921"
             ]
            ],
            "type": "histogram2dcontour"
           }
          ],
          "mesh3d": [
           {
            "colorbar": {
             "outlinewidth": 0,
             "ticks": ""
            },
            "type": "mesh3d"
           }
          ],
          "parcoords": [
           {
            "line": {
             "colorbar": {
              "outlinewidth": 0,
              "ticks": ""
             }
            },
            "type": "parcoords"
           }
          ],
          "pie": [
           {
            "automargin": true,
            "type": "pie"
           }
          ],
          "scatter": [
           {
            "fillpattern": {
             "fillmode": "overlay",
             "size": 10,
             "solidity": 0.2
            },
            "type": "scatter"
           }
          ],
          "scatter3d": [
           {
            "line": {
             "colorbar": {
              "outlinewidth": 0,
              "ticks": ""
             }
            },
            "marker": {
             "colorbar": {
              "outlinewidth": 0,
              "ticks": ""
             }
            },
            "type": "scatter3d"
           }
          ],
          "scattercarpet": [
           {
            "marker": {
             "colorbar": {
              "outlinewidth": 0,
              "ticks": ""
             }
            },
            "type": "scattercarpet"
           }
          ],
          "scattergeo": [
           {
            "marker": {
             "colorbar": {
              "outlinewidth": 0,
              "ticks": ""
             }
            },
            "type": "scattergeo"
           }
          ],
          "scattergl": [
           {
            "marker": {
             "colorbar": {
              "outlinewidth": 0,
              "ticks": ""
             }
            },
            "type": "scattergl"
           }
          ],
          "scattermap": [
           {
            "marker": {
             "colorbar": {
              "outlinewidth": 0,
              "ticks": ""
             }
            },
            "type": "scattermap"
           }
          ],
          "scattermapbox": [
           {
            "marker": {
             "colorbar": {
              "outlinewidth": 0,
              "ticks": ""
             }
            },
            "type": "scattermapbox"
           }
          ],
          "scatterpolar": [
           {
            "marker": {
             "colorbar": {
              "outlinewidth": 0,
              "ticks": ""
             }
            },
            "type": "scatterpolar"
           }
          ],
          "scatterpolargl": [
           {
            "marker": {
             "colorbar": {
              "outlinewidth": 0,
              "ticks": ""
             }
            },
            "type": "scatterpolargl"
           }
          ],
          "scatterternary": [
           {
            "marker": {
             "colorbar": {
              "outlinewidth": 0,
              "ticks": ""
             }
            },
            "type": "scatterternary"
           }
          ],
          "surface": [
           {
            "colorbar": {
             "outlinewidth": 0,
             "ticks": ""
            },
            "colorscale": [
             [
              0,
              "#0d0887"
             ],
             [
              0.1111111111111111,
              "#46039f"
             ],
             [
              0.2222222222222222,
              "#7201a8"
             ],
             [
              0.3333333333333333,
              "#9c179e"
             ],
             [
              0.4444444444444444,
              "#bd3786"
             ],
             [
              0.5555555555555556,
              "#d8576b"
             ],
             [
              0.6666666666666666,
              "#ed7953"
             ],
             [
              0.7777777777777778,
              "#fb9f3a"
             ],
             [
              0.8888888888888888,
              "#fdca26"
             ],
             [
              1,
              "#f0f921"
             ]
            ],
            "type": "surface"
           }
          ],
          "table": [
           {
            "cells": {
             "fill": {
              "color": "#EBF0F8"
             },
             "line": {
              "color": "white"
             }
            },
            "header": {
             "fill": {
              "color": "#C8D4E3"
             },
             "line": {
              "color": "white"
             }
            },
            "type": "table"
           }
          ]
         },
         "layout": {
          "annotationdefaults": {
           "arrowcolor": "#2a3f5f",
           "arrowhead": 0,
           "arrowwidth": 1
          },
          "autotypenumbers": "strict",
          "coloraxis": {
           "colorbar": {
            "outlinewidth": 0,
            "ticks": ""
           }
          },
          "colorscale": {
           "diverging": [
            [
             0,
             "#8e0152"
            ],
            [
             0.1,
             "#c51b7d"
            ],
            [
             0.2,
             "#de77ae"
            ],
            [
             0.3,
             "#f1b6da"
            ],
            [
             0.4,
             "#fde0ef"
            ],
            [
             0.5,
             "#f7f7f7"
            ],
            [
             0.6,
             "#e6f5d0"
            ],
            [
             0.7,
             "#b8e186"
            ],
            [
             0.8,
             "#7fbc41"
            ],
            [
             0.9,
             "#4d9221"
            ],
            [
             1,
             "#276419"
            ]
           ],
           "sequential": [
            [
             0,
             "#0d0887"
            ],
            [
             0.1111111111111111,
             "#46039f"
            ],
            [
             0.2222222222222222,
             "#7201a8"
            ],
            [
             0.3333333333333333,
             "#9c179e"
            ],
            [
             0.4444444444444444,
             "#bd3786"
            ],
            [
             0.5555555555555556,
             "#d8576b"
            ],
            [
             0.6666666666666666,
             "#ed7953"
            ],
            [
             0.7777777777777778,
             "#fb9f3a"
            ],
            [
             0.8888888888888888,
             "#fdca26"
            ],
            [
             1,
             "#f0f921"
            ]
           ],
           "sequentialminus": [
            [
             0,
             "#0d0887"
            ],
            [
             0.1111111111111111,
             "#46039f"
            ],
            [
             0.2222222222222222,
             "#7201a8"
            ],
            [
             0.3333333333333333,
             "#9c179e"
            ],
            [
             0.4444444444444444,
             "#bd3786"
            ],
            [
             0.5555555555555556,
             "#d8576b"
            ],
            [
             0.6666666666666666,
             "#ed7953"
            ],
            [
             0.7777777777777778,
             "#fb9f3a"
            ],
            [
             0.8888888888888888,
             "#fdca26"
            ],
            [
             1,
             "#f0f921"
            ]
           ]
          },
          "colorway": [
           "#636efa",
           "#EF553B",
           "#00cc96",
           "#ab63fa",
           "#FFA15A",
           "#19d3f3",
           "#FF6692",
           "#B6E880",
           "#FF97FF",
           "#FECB52"
          ],
          "font": {
           "color": "#2a3f5f"
          },
          "geo": {
           "bgcolor": "white",
           "lakecolor": "white",
           "landcolor": "#E5ECF6",
           "showlakes": true,
           "showland": true,
           "subunitcolor": "white"
          },
          "hoverlabel": {
           "align": "left"
          },
          "hovermode": "closest",
          "mapbox": {
           "style": "light"
          },
          "paper_bgcolor": "white",
          "plot_bgcolor": "#E5ECF6",
          "polar": {
           "angularaxis": {
            "gridcolor": "white",
            "linecolor": "white",
            "ticks": ""
           },
           "bgcolor": "#E5ECF6",
           "radialaxis": {
            "gridcolor": "white",
            "linecolor": "white",
            "ticks": ""
           }
          },
          "scene": {
           "xaxis": {
            "backgroundcolor": "#E5ECF6",
            "gridcolor": "white",
            "gridwidth": 2,
            "linecolor": "white",
            "showbackground": true,
            "ticks": "",
            "zerolinecolor": "white"
           },
           "yaxis": {
            "backgroundcolor": "#E5ECF6",
            "gridcolor": "white",
            "gridwidth": 2,
            "linecolor": "white",
            "showbackground": true,
            "ticks": "",
            "zerolinecolor": "white"
           },
           "zaxis": {
            "backgroundcolor": "#E5ECF6",
            "gridcolor": "white",
            "gridwidth": 2,
            "linecolor": "white",
            "showbackground": true,
            "ticks": "",
            "zerolinecolor": "white"
           }
          },
          "shapedefaults": {
           "line": {
            "color": "#2a3f5f"
           }
          },
          "ternary": {
           "aaxis": {
            "gridcolor": "white",
            "linecolor": "white",
            "ticks": ""
           },
           "baxis": {
            "gridcolor": "white",
            "linecolor": "white",
            "ticks": ""
           },
           "bgcolor": "#E5ECF6",
           "caxis": {
            "gridcolor": "white",
            "linecolor": "white",
            "ticks": ""
           }
          },
          "title": {
           "x": 0.05
          },
          "xaxis": {
           "automargin": true,
           "gridcolor": "white",
           "linecolor": "white",
           "ticks": "",
           "title": {
            "standoff": 15
           },
           "zerolinecolor": "white",
           "zerolinewidth": 2
          },
          "yaxis": {
           "automargin": true,
           "gridcolor": "white",
           "linecolor": "white",
           "ticks": "",
           "title": {
            "standoff": 15
           },
           "zerolinecolor": "white",
           "zerolinewidth": 2
          }
         }
        },
        "title": {
         "text": "Total Recreation Visits per Year (All Parks)"
        },
        "xaxis": {
         "anchor": "y",
         "domain": [
          0,
          1
         ],
         "title": {
          "text": "Year"
         }
        },
        "yaxis": {
         "anchor": "x",
         "domain": [
          0,
          1
         ],
         "title": {
          "text": "Visits"
         }
        }
       }
      },
      "image/png": "[encoded data removed]"
     },
     "metadata": {},
     "output_type": "display_data"
    }
   ],
   "source": [
    "#Totals by year (interactive)\n",
    "yearly = df.groupby(\"Year\", as_index=False)[\"Recreation Visits\"].sum()\n",
    "\n",
    "fig = px.line(\n",
    "    yearly, x=\"Year\", y=\"Recreation Visits\",\n",
    "    title=\"Total Recreation Visits per Year (All Parks)\",\n",
    "    markers=True\n",
    ")\n",
    "fig.update_layout(yaxis_title=\"Visits\", xaxis_title=\"Year\")\n",
    "fig.show()\n"
   ]
  },
  {
   "cell_type": "code",
   "execution_count": 16,
   "id": "2b79832f-24fb-4fa3-9279-753e54575b38",
   "metadata": {},
   "outputs": [
    {
     "data": {
      "application/vnd.plotly.v1+json": {
       "config": {
        "plotlyServerURL": "https://plot.ly"
       },
       "data": [
        {
         "hovertemplate": "Month=%{x}<br>Recreation Visits=%{y}<extra></extra>",
         "legendgroup": "",
         "line": {
          "color": "#636efa",
          "dash": "solid"
         },
         "marker": {
          "symbol": "circle"
         },
         "mode": "lines+markers",
         "name": "",
         "orientation": "v",
         "showlegend": false,
         "type": "scatter",
         "x": {
          "bdata": "AQIDBAUGBwgJCgsM",
          "dtype": "i1"
         },
         "xaxis": "x",
         "y": {
          "bdata": "7zgKBKyBUgQmtvIGhld3CcfwDQzcvJoPUUgGEz7WERJenPUNORSjDKuH7Qe1cxkF",
          "dtype": "i4"
         },
         "yaxis": "y"
        }
       ],
       "layout": {
        "legend": {
         "tracegroupgap": 0
        },
        "template": {
         "data": {
          "bar": [
           {
            "error_x": {
             "color": "#2a3f5f"
            },
            "error_y": {
             "color": "#2a3f5f"
            },
            "marker": {
             "line": {
              "color": "#E5ECF6",
              "width": 0.5
             },
             "pattern": {
              "fillmode": "overlay",
              "size": 10,
              "solidity": 0.2
             }
            },
            "type": "bar"
           }
          ],
          "barpolar": [
           {
            "marker": {
             "line": {
              "color": "#E5ECF6",
              "width": 0.5
             },
             "pattern": {
              "fillmode": "overlay",
              "size": 10,
              "solidity": 0.2
             }
            },
            "type": "barpolar"
           }
          ],
          "carpet": [
           {
            "aaxis": {
             "endlinecolor": "#2a3f5f",
             "gridcolor": "white",
             "linecolor": "white",
             "minorgridcolor": "white",
             "startlinecolor": "#2a3f5f"
            },
            "baxis": {
             "endlinecolor": "#2a3f5f",
             "gridcolor": "white",
             "linecolor": "white",
             "minorgridcolor": "white",
             "startlinecolor": "#2a3f5f"
            },
            "type": "carpet"
           }
          ],
          "choropleth": [
           {
            "colorbar": {
             "outlinewidth": 0,
             "ticks": ""
            },
            "type": "choropleth"
           }
          ],
          "contour": [
           {
            "colorbar": {
             "outlinewidth": 0,
             "ticks": ""
            },
            "colorscale": [
             [
              0,
              "#0d0887"
             ],
             [
              0.1111111111111111,
              "#46039f"
             ],
             [
              0.2222222222222222,
              "#7201a8"
             ],
             [
              0.3333333333333333,
              "#9c179e"
             ],
             [
              0.4444444444444444,
              "#bd3786"
             ],
             [
              0.5555555555555556,
              "#d8576b"
             ],
             [
              0.6666666666666666,
              "#ed7953"
             ],
             [
              0.7777777777777778,
              "#fb9f3a"
             ],
             [
              0.8888888888888888,
              "#fdca26"
             ],
             [
              1,
              "#f0f921"
             ]
            ],
            "type": "contour"
           }
          ],
          "contourcarpet": [
           {
            "colorbar": {
             "outlinewidth": 0,
             "ticks": ""
            },
            "type": "contourcarpet"
           }
          ],
          "heatmap": [
           {
            "colorbar": {
             "outlinewidth": 0,
             "ticks": ""
            },
            "colorscale": [
             [
              0,
              "#0d0887"
             ],
             [
              0.1111111111111111,
              "#46039f"
             ],
             [
              0.2222222222222222,
              "#7201a8"
             ],
             [
              0.3333333333333333,
              "#9c179e"
             ],
             [
              0.4444444444444444,
              "#bd3786"
             ],
             [
              0.5555555555555556,
              "#d8576b"
             ],
             [
              0.6666666666666666,
              "#ed7953"
             ],
             [
              0.7777777777777778,
              "#fb9f3a"
             ],
             [
              0.8888888888888888,
              "#fdca26"
             ],
             [
              1,
              "#f0f921"
             ]
            ],
            "type": "heatmap"
           }
          ],
          "histogram": [
           {
            "marker": {
             "pattern": {
              "fillmode": "overlay",
              "size": 10,
              "solidity": 0.2
             }
            },
            "type": "histogram"
           }
          ],
          "histogram2d": [
           {
            "colorbar": {
             "outlinewidth": 0,
             "ticks": ""
            },
            "colorscale": [
             [
              0,
              "#0d0887"
             ],
             [
              0.1111111111111111,
              "#46039f"
             ],
             [
              0.2222222222222222,
              "#7201a8"
             ],
             [
              0.3333333333333333,
              "#9c179e"
             ],
             [
              0.4444444444444444,
              "#bd3786"
             ],
             [
              0.5555555555555556,
              "#d8576b"
             ],
             [
              0.6666666666666666,
              "#ed7953"
             ],
             [
              0.7777777777777778,
              "#fb9f3a"
             ],
             [
              0.8888888888888888,
              "#fdca26"
             ],
             [
              1,
              "#f0f921"
             ]
            ],
            "type": "histogram2d"
           }
          ],
          "histogram2dcontour": [
           {
            "colorbar": {
             "outlinewidth": 0,
             "ticks": ""
            },
            "colorscale": [
             [
              0,
              "#0d0887"
             ],
             [
              0.1111111111111111,
              "#46039f"
             ],
             [
              0.2222222222222222,
              "#7201a8"
             ],
             [
              0.3333333333333333,
              "#9c179e"
             ],
             [
              0.4444444444444444,
              "#bd3786"
             ],
             [
              0.5555555555555556,
              "#d8576b"
             ],
             [
              0.6666666666666666,
              "#ed7953"
             ],
             [
              0.7777777777777778,
              "#fb9f3a"
             ],
             [
              0.8888888888888888,
              "#fdca26"
             ],
             [
              1,
              "#f0f921"
             ]
            ],
            "type": "histogram2dcontour"
           }
          ],
          "mesh3d": [
           {
            "colorbar": {
             "outlinewidth": 0,
             "ticks": ""
            },
            "type": "mesh3d"
           }
          ],
          "parcoords": [
           {
            "line": {
             "colorbar": {
              "outlinewidth": 0,
              "ticks": ""
             }
            },
            "type": "parcoords"
           }
          ],
          "pie": [
           {
            "automargin": true,
            "type": "pie"
           }
          ],
          "scatter": [
           {
            "fillpattern": {
             "fillmode": "overlay",
             "size": 10,
             "solidity": 0.2
            },
            "type": "scatter"
           }
          ],
          "scatter3d": [
           {
            "line": {
             "colorbar": {
              "outlinewidth": 0,
              "ticks": ""
             }
            },
            "marker": {
             "colorbar": {
              "outlinewidth": 0,
              "ticks": ""
             }
            },
            "type": "scatter3d"
           }
          ],
          "scattercarpet": [
           {
            "marker": {
             "colorbar": {
              "outlinewidth": 0,
              "ticks": ""
             }
            },
            "type": "scattercarpet"
           }
          ],
          "scattergeo": [
           {
            "marker": {
             "colorbar": {
              "outlinewidth": 0,
              "ticks": ""
             }
            },
            "type": "scattergeo"
           }
          ],
          "scattergl": [
           {
            "marker": {
             "colorbar": {
              "outlinewidth": 0,
              "ticks": ""
             }
            },
            "type": "scattergl"
           }
          ],
          "scattermap": [
           {
            "marker": {
             "colorbar": {
              "outlinewidth": 0,
              "ticks": ""
             }
            },
            "type": "scattermap"
           }
          ],
          "scattermapbox": [
           {
            "marker": {
             "colorbar": {
              "outlinewidth": 0,
              "ticks": ""
             }
            },
            "type": "scattermapbox"
           }
          ],
          "scatterpolar": [
           {
            "marker": {
             "colorbar": {
              "outlinewidth": 0,
              "ticks": ""
             }
            },
            "type": "scatterpolar"
           }
          ],
          "scatterpolargl": [
           {
            "marker": {
             "colorbar": {
              "outlinewidth": 0,
              "ticks": ""
             }
            },
            "type": "scatterpolargl"
           }
          ],
          "scatterternary": [
           {
            "marker": {
             "colorbar": {
              "outlinewidth": 0,
              "ticks": ""
             }
            },
            "type": "scatterternary"
           }
          ],
          "surface": [
           {
            "colorbar": {
             "outlinewidth": 0,
             "ticks": ""
            },
            "colorscale": [
             [
              0,
              "#0d0887"
             ],
             [
              0.1111111111111111,
              "#46039f"
             ],
             [
              0.2222222222222222,
              "#7201a8"
             ],
             [
              0.3333333333333333,
              "#9c179e"
             ],
             [
              0.4444444444444444,
              "#bd3786"
             ],
             [
              0.5555555555555556,
              "#d8576b"
             ],
             [
              0.6666666666666666,
              "#ed7953"
             ],
             [
              0.7777777777777778,
              "#fb9f3a"
             ],
             [
              0.8888888888888888,
              "#fdca26"
             ],
             [
              1,
              "#f0f921"
             ]
            ],
            "type": "surface"
           }
          ],
          "table": [
           {
            "cells": {
             "fill": {
              "color": "#EBF0F8"
             },
             "line": {
              "color": "white"
             }
            },
            "header": {
             "fill": {
              "color": "#C8D4E3"
             },
             "line": {
              "color": "white"
             }
            },
            "type": "table"
           }
          ]
         },
         "layout": {
          "annotationdefaults": {
           "arrowcolor": "#2a3f5f",
           "arrowhead": 0,
           "arrowwidth": 1
          },
          "autotypenumbers": "strict",
          "coloraxis": {
           "colorbar": {
            "outlinewidth": 0,
            "ticks": ""
           }
          },
          "colorscale": {
           "diverging": [
            [
             0,
             "#8e0152"
            ],
            [
             0.1,
             "#c51b7d"
            ],
            [
             0.2,
             "#de77ae"
            ],
            [
             0.3,
             "#f1b6da"
            ],
            [
             0.4,
             "#fde0ef"
            ],
            [
             0.5,
             "#f7f7f7"
            ],
            [
             0.6,
             "#e6f5d0"
            ],
            [
             0.7,
             "#b8e186"
            ],
            [
             0.8,
             "#7fbc41"
            ],
            [
             0.9,
             "#4d9221"
            ],
            [
             1,
             "#276419"
            ]
           ],
           "sequential": [
            [
             0,
             "#0d0887"
            ],
            [
             0.1111111111111111,
             "#46039f"
            ],
            [
             0.2222222222222222,
             "#7201a8"
            ],
            [
             0.3333333333333333,
             "#9c179e"
            ],
            [
             0.4444444444444444,
             "#bd3786"
            ],
            [
             0.5555555555555556,
             "#d8576b"
            ],
            [
             0.6666666666666666,
             "#ed7953"
            ],
            [
             0.7777777777777778,
             "#fb9f3a"
            ],
            [
             0.8888888888888888,
             "#fdca26"
            ],
            [
             1,
             "#f0f921"
            ]
           ],
           "sequentialminus": [
            [
             0,
             "#0d0887"
            ],
            [
             0.1111111111111111,
             "#46039f"
            ],
            [
             0.2222222222222222,
             "#7201a8"
            ],
            [
             0.3333333333333333,
             "#9c179e"
            ],
            [
             0.4444444444444444,
             "#bd3786"
            ],
            [
             0.5555555555555556,
             "#d8576b"
            ],
            [
             0.6666666666666666,
             "#ed7953"
            ],
            [
             0.7777777777777778,
             "#fb9f3a"
            ],
            [
             0.8888888888888888,
             "#fdca26"
            ],
            [
             1,
             "#f0f921"
            ]
           ]
          },
          "colorway": [
           "#636efa",
           "#EF553B",
           "#00cc96",
           "#ab63fa",
           "#FFA15A",
           "#19d3f3",
           "#FF6692",
           "#B6E880",
           "#FF97FF",
           "#FECB52"
          ],
          "font": {
           "color": "#2a3f5f"
          },
          "geo": {
           "bgcolor": "white",
           "lakecolor": "white",
           "landcolor": "#E5ECF6",
           "showlakes": true,
           "showland": true,
           "subunitcolor": "white"
          },
          "hoverlabel": {
           "align": "left"
          },
          "hovermode": "closest",
          "mapbox": {
           "style": "light"
          },
          "paper_bgcolor": "white",
          "plot_bgcolor": "#E5ECF6",
          "polar": {
           "angularaxis": {
            "gridcolor": "white",
            "linecolor": "white",
            "ticks": ""
           },
           "bgcolor": "#E5ECF6",
           "radialaxis": {
            "gridcolor": "white",
            "linecolor": "white",
            "ticks": ""
           }
          },
          "scene": {
           "xaxis": {
            "backgroundcolor": "#E5ECF6",
            "gridcolor": "white",
            "gridwidth": 2,
            "linecolor": "white",
            "showbackground": true,
            "ticks": "",
            "zerolinecolor": "white"
           },
           "yaxis": {
            "backgroundcolor": "#E5ECF6",
            "gridcolor": "white",
            "gridwidth": 2,
            "linecolor": "white",
            "showbackground": true,
            "ticks": "",
            "zerolinecolor": "white"
           },
           "zaxis": {
            "backgroundcolor": "#E5ECF6",
            "gridcolor": "white",
            "gridwidth": 2,
            "linecolor": "white",
            "showbackground": true,
            "ticks": "",
            "zerolinecolor": "white"
           }
          },
          "shapedefaults": {
           "line": {
            "color": "#2a3f5f"
           }
          },
          "ternary": {
           "aaxis": {
            "gridcolor": "white",
            "linecolor": "white",
            "ticks": ""
           },
           "baxis": {
            "gridcolor": "white",
            "linecolor": "white",
            "ticks": ""
           },
           "bgcolor": "#E5ECF6",
           "caxis": {
            "gridcolor": "white",
            "linecolor": "white",
            "ticks": ""
           }
          },
          "title": {
           "x": 0.05
          },
          "xaxis": {
           "automargin": true,
           "gridcolor": "white",
           "linecolor": "white",
           "ticks": "",
           "title": {
            "standoff": 15
           },
           "zerolinecolor": "white",
           "zerolinewidth": 2
          },
          "yaxis": {
           "automargin": true,
           "gridcolor": "white",
           "linecolor": "white",
           "ticks": "",
           "title": {
            "standoff": 15
           },
           "zerolinecolor": "white",
           "zerolinewidth": 2
          }
         }
        },
        "title": {
         "text": "Seasonality – Total Visits by Month (All Parks)"
        },
        "xaxis": {
         "anchor": "y",
         "domain": [
          0,
          1
         ],
         "dtick": 1,
         "title": {
          "text": "Month"
         }
        },
        "yaxis": {
         "anchor": "x",
         "domain": [
          0,
          1
         ],
         "title": {
          "text": "Recreation Visits"
         }
        }
       }
      },
      "image/png": "[encoded data removed]"
     },
     "metadata": {},
     "output_type": "display_data"
    }
   ],
   "source": [
    "# Seasonality (all parks combined)\n",
    "monthly = df.groupby(\"Month\", as_index=False)[\"Recreation Visits\"].sum().sort_values(\"Month\")\n",
    "\n",
    "fig = px.line(\n",
    "    monthly, x=\"Month\", y=\"Recreation Visits\",\n",
    "    title=\"Seasonality – Total Visits by Month (All Parks)\",\n",
    "    markers=True\n",
    ")\n",
    "fig.update_xaxes(dtick=1)\n",
    "fig.show()\n"
   ]
  },
  {
   "cell_type": "code",
   "execution_count": 17,
   "id": "44be4c87-4a83-4e34-9a93-00c8c9cf8691",
   "metadata": {},
   "outputs": [
    {
     "data": {
      "application/vnd.plotly.v1+json": {
       "config": {
        "plotlyServerURL": "https://plot.ly"
       },
       "data": [
        {
         "hovertemplate": "Recreation Visits=%{x}<br>Park=%{y}<extra></extra>",
         "legendgroup": "",
         "marker": {
          "color": "#636efa",
          "pattern": {
           "shape": ""
          }
         },
         "name": "",
         "orientation": "h",
         "showlegend": false,
         "textposition": "auto",
         "type": "bar",
         "x": {
          "bdata": "smRVLXxVYgxZ0lIIidshBpWU2AXiWc0FSxZiA1r7YQMpovACYr3iAvX1zQJtxXMCP+veARL+3AGcisoB",
          "dtype": "i4"
         },
         "xaxis": "x",
         "y": [
          "Blue Ridge PKWY",
          "Cape Cod NS",
          "Castle Clinton NM",
          "Cape Hatteras NS",
          "Boston NHP",
          "Assateague Island NS",
          "Canaveral NS",
          "Bryce Canyon NP",
          "Cabrillo NM",
          "Buffalo NR",
          "Badlands NP",
          "Arches NP",
          "Capitol Reef NP",
          "Castillo de San Marcos NM",
          "Canyon de Chelly NM"
         ],
         "yaxis": "y"
        }
       ],
       "layout": {
        "barmode": "relative",
        "legend": {
         "tracegroupgap": 0
        },
        "template": {
         "data": {
          "bar": [
           {
            "error_x": {
             "color": "#2a3f5f"
            },
            "error_y": {
             "color": "#2a3f5f"
            },
            "marker": {
             "line": {
              "color": "#E5ECF6",
              "width": 0.5
             },
             "pattern": {
              "fillmode": "overlay",
              "size": 10,
              "solidity": 0.2
             }
            },
            "type": "bar"
           }
          ],
          "barpolar": [
           {
            "marker": {
             "line": {
              "color": "#E5ECF6",
              "width": 0.5
             },
             "pattern": {
              "fillmode": "overlay",
              "size": 10,
              "solidity": 0.2
             }
            },
            "type": "barpolar"
           }
          ],
          "carpet": [
           {
            "aaxis": {
             "endlinecolor": "#2a3f5f",
             "gridcolor": "white",
             "linecolor": "white",
             "minorgridcolor": "white",
             "startlinecolor": "#2a3f5f"
            },
            "baxis": {
             "endlinecolor": "#2a3f5f",
             "gridcolor": "white",
             "linecolor": "white",
             "minorgridcolor": "white",
             "startlinecolor": "#2a3f5f"
            },
            "type": "carpet"
           }
          ],
          "choropleth": [
           {
            "colorbar": {
             "outlinewidth": 0,
             "ticks": ""
            },
            "type": "choropleth"
           }
          ],
          "contour": [
           {
            "colorbar": {
             "outlinewidth": 0,
             "ticks": ""
            },
            "colorscale": [
             [
              0,
              "#0d0887"
             ],
             [
              0.1111111111111111,
              "#46039f"
             ],
             [
              0.2222222222222222,
              "#7201a8"
             ],
             [
              0.3333333333333333,
              "#9c179e"
             ],
             [
              0.4444444444444444,
              "#bd3786"
             ],
             [
              0.5555555555555556,
              "#d8576b"
             ],
             [
              0.6666666666666666,
              "#ed7953"
             ],
             [
              0.7777777777777778,
              "#fb9f3a"
             ],
             [
              0.8888888888888888,
              "#fdca26"
             ],
             [
              1,
              "#f0f921"
             ]
            ],
            "type": "contour"
           }
          ],
          "contourcarpet": [
           {
            "colorbar": {
             "outlinewidth": 0,
             "ticks": ""
            },
            "type": "contourcarpet"
           }
          ],
          "heatmap": [
           {
            "colorbar": {
             "outlinewidth": 0,
             "ticks": ""
            },
            "colorscale": [
             [
              0,
              "#0d0887"
             ],
             [
              0.1111111111111111,
              "#46039f"
             ],
             [
              0.2222222222222222,
              "#7201a8"
             ],
             [
              0.3333333333333333,
              "#9c179e"
             ],
             [
              0.4444444444444444,
              "#bd3786"
             ],
             [
              0.5555555555555556,
              "#d8576b"
             ],
             [
              0.6666666666666666,
              "#ed7953"
             ],
             [
              0.7777777777777778,
              "#fb9f3a"
             ],
             [
              0.8888888888888888,
              "#fdca26"
             ],
             [
              1,
              "#f0f921"
             ]
            ],
            "type": "heatmap"
           }
          ],
          "histogram": [
           {
            "marker": {
             "pattern": {
              "fillmode": "overlay",
              "size": 10,
              "solidity": 0.2
             }
            },
            "type": "histogram"
           }
          ],
          "histogram2d": [
           {
            "colorbar": {
             "outlinewidth": 0,
             "ticks": ""
            },
            "colorscale": [
             [
              0,
              "#0d0887"
             ],
             [
              0.1111111111111111,
              "#46039f"
             ],
             [
              0.2222222222222222,
              "#7201a8"
             ],
             [
              0.3333333333333333,
              "#9c179e"
             ],
             [
              0.4444444444444444,
              "#bd3786"
             ],
             [
              0.5555555555555556,
              "#d8576b"
             ],
             [
              0.6666666666666666,
              "#ed7953"
             ],
             [
              0.7777777777777778,
              "#fb9f3a"
             ],
             [
              0.8888888888888888,
              "#fdca26"
             ],
             [
              1,
              "#f0f921"
             ]
            ],
            "type": "histogram2d"
           }
          ],
          "histogram2dcontour": [
           {
            "colorbar": {
             "outlinewidth": 0,
             "ticks": ""
            },
            "colorscale": [
             [
              0,
              "#0d0887"
             ],
             [
              0.1111111111111111,
              "#46039f"
             ],
             [
              0.2222222222222222,
              "#7201a8"
             ],
             [
              0.3333333333333333,
              "#9c179e"
             ],
             [
              0.4444444444444444,
              "#bd3786"
             ],
             [
              0.5555555555555556,
              "#d8576b"
             ],
             [
              0.6666666666666666,
              "#ed7953"
             ],
             [
              0.7777777777777778,
              "#fb9f3a"
             ],
             [
              0.8888888888888888,
              "#fdca26"
             ],
             [
              1,
              "#f0f921"
             ]
            ],
            "type": "histogram2dcontour"
           }
          ],
          "mesh3d": [
           {
            "colorbar": {
             "outlinewidth": 0,
             "ticks": ""
            },
            "type": "mesh3d"
           }
          ],
          "parcoords": [
           {
            "line": {
             "colorbar": {
              "outlinewidth": 0,
              "ticks": ""
             }
            },
            "type": "parcoords"
           }
          ],
          "pie": [
           {
            "automargin": true,
            "type": "pie"
           }
          ],
          "scatter": [
           {
            "fillpattern": {
             "fillmode": "overlay",
             "size": 10,
             "solidity": 0.2
            },
            "type": "scatter"
           }
          ],
          "scatter3d": [
           {
            "line": {
             "colorbar": {
              "outlinewidth": 0,
              "ticks": ""
             }
            },
            "marker": {
             "colorbar": {
              "outlinewidth": 0,
              "ticks": ""
             }
            },
            "type": "scatter3d"
           }
          ],
          "scattercarpet": [
           {
            "marker": {
             "colorbar": {
              "outlinewidth": 0,
              "ticks": ""
             }
            },
            "type": "scattercarpet"
           }
          ],
          "scattergeo": [
           {
            "marker": {
             "colorbar": {
              "outlinewidth": 0,
              "ticks": ""
             }
            },
            "type": "scattergeo"
           }
          ],
          "scattergl": [
           {
            "marker": {
             "colorbar": {
              "outlinewidth": 0,
              "ticks": ""
             }
            },
            "type": "scattergl"
           }
          ],
          "scattermap": [
           {
            "marker": {
             "colorbar": {
              "outlinewidth": 0,
              "ticks": ""
             }
            },
            "type": "scattermap"
           }
          ],
          "scattermapbox": [
           {
            "marker": {
             "colorbar": {
              "outlinewidth": 0,
              "ticks": ""
             }
            },
            "type": "scattermapbox"
           }
          ],
          "scatterpolar": [
           {
            "marker": {
             "colorbar": {
              "outlinewidth": 0,
              "ticks": ""
             }
            },
            "type": "scatterpolar"
           }
          ],
          "scatterpolargl": [
           {
            "marker": {
             "colorbar": {
              "outlinewidth": 0,
              "ticks": ""
             }
            },
            "type": "scatterpolargl"
           }
          ],
          "scatterternary": [
           {
            "marker": {
             "colorbar": {
              "outlinewidth": 0,
              "ticks": ""
             }
            },
            "type": "scatterternary"
           }
          ],
          "surface": [
           {
            "colorbar": {
             "outlinewidth": 0,
             "ticks": ""
            },
            "colorscale": [
             [
              0,
              "#0d0887"
             ],
             [
              0.1111111111111111,
              "#46039f"
             ],
             [
              0.2222222222222222,
              "#7201a8"
             ],
             [
              0.3333333333333333,
              "#9c179e"
             ],
             [
              0.4444444444444444,
              "#bd3786"
             ],
             [
              0.5555555555555556,
              "#d8576b"
             ],
             [
              0.6666666666666666,
              "#ed7953"
             ],
             [
              0.7777777777777778,
              "#fb9f3a"
             ],
             [
              0.8888888888888888,
              "#fdca26"
             ],
             [
              1,
              "#f0f921"
             ]
            ],
            "type": "surface"
           }
          ],
          "table": [
           {
            "cells": {
             "fill": {
              "color": "#EBF0F8"
             },
             "line": {
              "color": "white"
             }
            },
            "header": {
             "fill": {
              "color": "#C8D4E3"
             },
             "line": {
              "color": "white"
             }
            },
            "type": "table"
           }
          ]
         },
         "layout": {
          "annotationdefaults": {
           "arrowcolor": "#2a3f5f",
           "arrowhead": 0,
           "arrowwidth": 1
          },
          "autotypenumbers": "strict",
          "coloraxis": {
           "colorbar": {
            "outlinewidth": 0,
            "ticks": ""
           }
          },
          "colorscale": {
           "diverging": [
            [
             0,
             "#8e0152"
            ],
            [
             0.1,
             "#c51b7d"
            ],
            [
             0.2,
             "#de77ae"
            ],
            [
             0.3,
             "#f1b6da"
            ],
            [
             0.4,
             "#fde0ef"
            ],
            [
             0.5,
             "#f7f7f7"
            ],
            [
             0.6,
             "#e6f5d0"
            ],
            [
             0.7,
             "#b8e186"
            ],
            [
             0.8,
             "#7fbc41"
            ],
            [
             0.9,
             "#4d9221"
            ],
            [
             1,
             "#276419"
            ]
           ],
           "sequential": [
            [
             0,
             "#0d0887"
            ],
            [
             0.1111111111111111,
             "#46039f"
            ],
            [
             0.2222222222222222,
             "#7201a8"
            ],
            [
             0.3333333333333333,
             "#9c179e"
            ],
            [
             0.4444444444444444,
             "#bd3786"
            ],
            [
             0.5555555555555556,
             "#d8576b"
            ],
            [
             0.6666666666666666,
             "#ed7953"
            ],
            [
             0.7777777777777778,
             "#fb9f3a"
            ],
            [
             0.8888888888888888,
             "#fdca26"
            ],
            [
             1,
             "#f0f921"
            ]
           ],
           "sequentialminus": [
            [
             0,
             "#0d0887"
            ],
            [
             0.1111111111111111,
             "#46039f"
            ],
            [
             0.2222222222222222,
             "#7201a8"
            ],
            [
             0.3333333333333333,
             "#9c179e"
            ],
            [
             0.4444444444444444,
             "#bd3786"
            ],
            [
             0.5555555555555556,
             "#d8576b"
            ],
            [
             0.6666666666666666,
             "#ed7953"
            ],
            [
             0.7777777777777778,
             "#fb9f3a"
            ],
            [
             0.8888888888888888,
             "#fdca26"
            ],
            [
             1,
             "#f0f921"
            ]
           ]
          },
          "colorway": [
           "#636efa",
           "#EF553B",
           "#00cc96",
           "#ab63fa",
           "#FFA15A",
           "#19d3f3",
           "#FF6692",
           "#B6E880",
           "#FF97FF",
           "#FECB52"
          ],
          "font": {
           "color": "#2a3f5f"
          },
          "geo": {
           "bgcolor": "white",
           "lakecolor": "white",
           "landcolor": "#E5ECF6",
           "showlakes": true,
           "showland": true,
           "subunitcolor": "white"
          },
          "hoverlabel": {
           "align": "left"
          },
          "hovermode": "closest",
          "mapbox": {
           "style": "light"
          },
          "paper_bgcolor": "white",
          "plot_bgcolor": "#E5ECF6",
          "polar": {
           "angularaxis": {
            "gridcolor": "white",
            "linecolor": "white",
            "ticks": ""
           },
           "bgcolor": "#E5ECF6",
           "radialaxis": {
            "gridcolor": "white",
            "linecolor": "white",
            "ticks": ""
           }
          },
          "scene": {
           "xaxis": {
            "backgroundcolor": "#E5ECF6",
            "gridcolor": "white",
            "gridwidth": 2,
            "linecolor": "white",
            "showbackground": true,
            "ticks": "",
            "zerolinecolor": "white"
           },
           "yaxis": {
            "backgroundcolor": "#E5ECF6",
            "gridcolor": "white",
            "gridwidth": 2,
            "linecolor": "white",
            "showbackground": true,
            "ticks": "",
            "zerolinecolor": "white"
           },
           "zaxis": {
            "backgroundcolor": "#E5ECF6",
            "gridcolor": "white",
            "gridwidth": 2,
            "linecolor": "white",
            "showbackground": true,
            "ticks": "",
            "zerolinecolor": "white"
           }
          },
          "shapedefaults": {
           "line": {
            "color": "#2a3f5f"
           }
          },
          "ternary": {
           "aaxis": {
            "gridcolor": "white",
            "linecolor": "white",
            "ticks": ""
           },
           "baxis": {
            "gridcolor": "white",
            "linecolor": "white",
            "ticks": ""
           },
           "bgcolor": "#E5ECF6",
           "caxis": {
            "gridcolor": "white",
            "linecolor": "white",
            "ticks": ""
           }
          },
          "title": {
           "x": 0.05
          },
          "xaxis": {
           "automargin": true,
           "gridcolor": "white",
           "linecolor": "white",
           "ticks": "",
           "title": {
            "standoff": 15
           },
           "zerolinecolor": "white",
           "zerolinewidth": 2
          },
          "yaxis": {
           "automargin": true,
           "gridcolor": "white",
           "linecolor": "white",
           "ticks": "",
           "title": {
            "standoff": 15
           },
           "zerolinecolor": "white",
           "zerolinewidth": 2
          }
         }
        },
        "title": {
         "text": "Top 15 Parks by Total Visits (All Years)"
        },
        "xaxis": {
         "anchor": "y",
         "domain": [
          0,
          1
         ],
         "title": {
          "text": "Recreation Visits"
         }
        },
        "yaxis": {
         "anchor": "x",
         "categoryorder": "total ascending",
         "domain": [
          0,
          1
         ],
         "title": {
          "text": "Park"
         }
        }
       }
      },
      "image/png": "[encoded data removed]"
     },
     "metadata": {},
     "output_type": "display_data"
    }
   ],
   "source": [
    "# Top 15 parks (all time)\n",
    "top_parks = (\n",
    "    df.groupby(\"Park\", as_index=False)[\"Recreation Visits\"].sum()\n",
    "      .sort_values(\"Recreation Visits\", ascending=False)\n",
    "      .head(15)\n",
    ")\n",
    "\n",
    "fig = px.bar(\n",
    "    top_parks, x=\"Recreation Visits\", y=\"Park\",\n",
    "    orientation=\"h\", title=\"Top 15 Parks by Total Visits (All Years)\"\n",
    ")\n",
    "fig.update_layout(yaxis={'categoryorder':'total ascending'})\n",
    "fig.show()\n"
   ]
  },
  {
   "cell_type": "code",
   "execution_count": 41,
   "id": "2d3ec22e-9664-41a3-ac0a-778341dec974",
   "metadata": {},
   "outputs": [],
   "source": [
    "# YoY growth per park, latest month per park ---\n",
    "\n",
    "# 1) Monthly panel per park\n",
    "park_month = (\n",
    "    df.groupby([\"Park\",\"Year\",\"Month\"], as_index=False)[\"Recreation Visits\"].sum()\n",
    ")\n",
    "park_month[\"Date\"] = pd.to_datetime(dict(year=park_month[\"Year\"], month=park_month[\"Month\"], day=1))\n"
   ]
  },
  {
   "cell_type": "code",
   "execution_count": 26,
   "id": "4bc95952-9394-4cb4-aeed-d16f31752193",
   "metadata": {},
   "outputs": [],
   "source": [
    "# 2) Previous-year same-month baseline\n",
    "park_month = park_month.sort_values([\"Park\",\"Date\"])\n",
    "park_month[\"Prev_Year_Visits\"] = park_month.groupby(\"Park\")[\"Recreation Visits\"].shift(12)"
   ]
  },
  {
   "cell_type": "code",
   "execution_count": 27,
   "id": "5d60fc3f-a67f-46de-9c13-ea4cfa44aabc",
   "metadata": {},
   "outputs": [],
   "source": [
    "# 3) YoY growth\n",
    "park_month[\"YoY_Growth\"] = (\n",
    "    (park_month[\"Recreation Visits\"] - park_month[\"Prev_Year_Visits\"]) / park_month[\"Prev_Year_Visits\"]\n",
    ")"
   ]
  },
  {
   "cell_type": "code",
   "execution_count": 28,
   "id": "1f1aa342-965f-4f71-91ca-ca6ad8333814",
   "metadata": {},
   "outputs": [],
   "source": [
    "# 4) Get the latest row per park (no groupby-apply, so no warning)\n",
    "latest_idx = park_month.groupby(\"Park\")[\"Date\"].idxmax()\n",
    "latest = park_month.loc[latest_idx].copy()\n"
   ]
  },
  {
   "cell_type": "code",
   "execution_count": 29,
   "id": "e94e58af-750e-450f-ad7e-d763e5b3c434",
   "metadata": {},
   "outputs": [
    {
     "name": "stdout",
     "output_type": "stream",
     "text": [
      "Top YoY Gainers:\n"
     ]
    },
    {
     "data": {
      "text/html": [
       "<div>\n",
       "<style scoped>\n",
       "    .dataframe tbody tr th:only-of-type {\n",
       "        vertical-align: middle;\n",
       "    }\n",
       "\n",
       "    .dataframe tbody tr th {\n",
       "        vertical-align: top;\n",
       "    }\n",
       "\n",
       "    .dataframe thead th {\n",
       "        text-align: right;\n",
       "    }\n",
       "</style>\n",
       "<table border=\"1\" class=\"dataframe\">\n",
       "  <thead>\n",
       "    <tr style=\"text-align: right;\">\n",
       "      <th></th>\n",
       "      <th>Park</th>\n",
       "      <th>Year</th>\n",
       "      <th>Month</th>\n",
       "      <th>Recreation Visits</th>\n",
       "      <th>Prev_Year_Visits</th>\n",
       "      <th>YoY_Growth</th>\n",
       "    </tr>\n",
       "  </thead>\n",
       "  <tbody>\n",
       "    <tr>\n",
       "      <th>4823</th>\n",
       "      <td>Arlington House The R.E. Lee MEM</td>\n",
       "      <td>2024</td>\n",
       "      <td>12</td>\n",
       "      <td>18689</td>\n",
       "      <td>6064.0</td>\n",
       "      <td>2.081959</td>\n",
       "    </tr>\n",
       "    <tr>\n",
       "      <th>14159</th>\n",
       "      <td>Boston Harbor Islands NRA</td>\n",
       "      <td>2024</td>\n",
       "      <td>12</td>\n",
       "      <td>2500</td>\n",
       "      <td>950.0</td>\n",
       "      <td>1.631579</td>\n",
       "    </tr>\n",
       "    <tr>\n",
       "      <th>24199</th>\n",
       "      <td>Casa Grande Ruins NM</td>\n",
       "      <td>2024</td>\n",
       "      <td>12</td>\n",
       "      <td>9499</td>\n",
       "      <td>3963.0</td>\n",
       "      <td>1.396922</td>\n",
       "    </tr>\n",
       "    <tr>\n",
       "      <th>13115</th>\n",
       "      <td>Bluestone NSR</td>\n",
       "      <td>2024</td>\n",
       "      <td>12</td>\n",
       "      <td>639</td>\n",
       "      <td>300.0</td>\n",
       "      <td>1.130000</td>\n",
       "    </tr>\n",
       "    <tr>\n",
       "      <th>27103</th>\n",
       "      <td>Chaco Culture NHP</td>\n",
       "      <td>2024</td>\n",
       "      <td>12</td>\n",
       "      <td>1984</td>\n",
       "      <td>937.0</td>\n",
       "      <td>1.117396</td>\n",
       "    </tr>\n",
       "    <tr>\n",
       "      <th>26551</th>\n",
       "      <td>Cesar E. Chavez NM</td>\n",
       "      <td>2024</td>\n",
       "      <td>12</td>\n",
       "      <td>1658</td>\n",
       "      <td>846.0</td>\n",
       "      <td>0.959811</td>\n",
       "    </tr>\n",
       "    <tr>\n",
       "      <th>7031</th>\n",
       "      <td>Bandelier NM</td>\n",
       "      <td>2024</td>\n",
       "      <td>12</td>\n",
       "      <td>17514</td>\n",
       "      <td>9140.0</td>\n",
       "      <td>0.916193</td>\n",
       "    </tr>\n",
       "    <tr>\n",
       "      <th>18619</th>\n",
       "      <td>Canyon de Chelly NM</td>\n",
       "      <td>2024</td>\n",
       "      <td>12</td>\n",
       "      <td>40150</td>\n",
       "      <td>22456.0</td>\n",
       "      <td>0.787941</td>\n",
       "    </tr>\n",
       "    <tr>\n",
       "      <th>18067</th>\n",
       "      <td>Cane River Creole NHP</td>\n",
       "      <td>2024</td>\n",
       "      <td>12</td>\n",
       "      <td>1248</td>\n",
       "      <td>724.0</td>\n",
       "      <td>0.723757</td>\n",
       "    </tr>\n",
       "    <tr>\n",
       "      <th>8999</th>\n",
       "      <td>Big Cypress NPRES</td>\n",
       "      <td>2024</td>\n",
       "      <td>12</td>\n",
       "      <td>319976</td>\n",
       "      <td>206798.0</td>\n",
       "      <td>0.547288</td>\n",
       "    </tr>\n",
       "  </tbody>\n",
       "</table>\n",
       "</div>"
      ],
      "text/plain": [
       "                                   Park  Year  Month  Recreation Visits  Prev_Year_Visits  YoY_Growth\n",
       "4823   Arlington House The R.E. Lee MEM  2024     12              18689            6064.0    2.081959\n",
       "14159         Boston Harbor Islands NRA  2024     12               2500             950.0    1.631579\n",
       "24199              Casa Grande Ruins NM  2024     12               9499            3963.0    1.396922\n",
       "13115                     Bluestone NSR  2024     12                639             300.0    1.130000\n",
       "27103                 Chaco Culture NHP  2024     12               1984             937.0    1.117396\n",
       "26551                Cesar E. Chavez NM  2024     12               1658             846.0    0.959811\n",
       "7031                       Bandelier NM  2024     12              17514            9140.0    0.916193\n",
       "18619               Canyon de Chelly NM  2024     12              40150           22456.0    0.787941\n",
       "18067             Cane River Creole NHP  2024     12               1248             724.0    0.723757\n",
       "8999                  Big Cypress NPRES  2024     12             319976          206798.0    0.547288"
      ]
     },
     "metadata": {},
     "output_type": "display_data"
    },
    {
     "name": "stdout",
     "output_type": "stream",
     "text": [
      "\n",
      "Top YoY Decliners:\n"
     ]
    },
    {
     "data": {
      "text/html": [
       "<div>\n",
       "<style scoped>\n",
       "    .dataframe tbody tr th:only-of-type {\n",
       "        vertical-align: middle;\n",
       "    }\n",
       "\n",
       "    .dataframe tbody tr th {\n",
       "        vertical-align: top;\n",
       "    }\n",
       "\n",
       "    .dataframe thead th {\n",
       "        text-align: right;\n",
       "    }\n",
       "</style>\n",
       "<table border=\"1\" class=\"dataframe\">\n",
       "  <thead>\n",
       "    <tr style=\"text-align: right;\">\n",
       "      <th></th>\n",
       "      <th>Park</th>\n",
       "      <th>Year</th>\n",
       "      <th>Month</th>\n",
       "      <th>Recreation Visits</th>\n",
       "      <th>Prev_Year_Visits</th>\n",
       "      <th>YoY_Growth</th>\n",
       "    </tr>\n",
       "  </thead>\n",
       "  <tbody>\n",
       "    <tr>\n",
       "      <th>22999</th>\n",
       "      <td>Carl Sandburg Home NHS</td>\n",
       "      <td>2024</td>\n",
       "      <td>12</td>\n",
       "      <td>1598</td>\n",
       "      <td>9455.0</td>\n",
       "      <td>-0.830989</td>\n",
       "    </tr>\n",
       "    <tr>\n",
       "      <th>7691</th>\n",
       "      <td>Bent's Old Fort NHS</td>\n",
       "      <td>2024</td>\n",
       "      <td>12</td>\n",
       "      <td>156</td>\n",
       "      <td>638.0</td>\n",
       "      <td>-0.755486</td>\n",
       "    </tr>\n",
       "    <tr>\n",
       "      <th>1103</th>\n",
       "      <td>Andrew Johnson NHS</td>\n",
       "      <td>2024</td>\n",
       "      <td>12</td>\n",
       "      <td>2190</td>\n",
       "      <td>8597.0</td>\n",
       "      <td>-0.745260</td>\n",
       "    </tr>\n",
       "    <tr>\n",
       "      <th>27655</th>\n",
       "      <td>Chamizal NMEM</td>\n",
       "      <td>2024</td>\n",
       "      <td>12</td>\n",
       "      <td>399</td>\n",
       "      <td>871.0</td>\n",
       "      <td>-0.541906</td>\n",
       "    </tr>\n",
       "    <tr>\n",
       "      <th>5927</th>\n",
       "      <td>Aztec Ruins NM</td>\n",
       "      <td>2024</td>\n",
       "      <td>12</td>\n",
       "      <td>1176</td>\n",
       "      <td>2463.0</td>\n",
       "      <td>-0.522533</td>\n",
       "    </tr>\n",
       "    <tr>\n",
       "      <th>16639</th>\n",
       "      <td>Buffalo NR</td>\n",
       "      <td>2024</td>\n",
       "      <td>12</td>\n",
       "      <td>33135</td>\n",
       "      <td>46787.0</td>\n",
       "      <td>-0.291790</td>\n",
       "    </tr>\n",
       "    <tr>\n",
       "      <th>28206</th>\n",
       "      <td>Channel Islands NP</td>\n",
       "      <td>2024</td>\n",
       "      <td>12</td>\n",
       "      <td>14893</td>\n",
       "      <td>19088.0</td>\n",
       "      <td>-0.219772</td>\n",
       "    </tr>\n",
       "    <tr>\n",
       "      <th>3167</th>\n",
       "      <td>Appomattox Court House NHP</td>\n",
       "      <td>2024</td>\n",
       "      <td>12</td>\n",
       "      <td>2294</td>\n",
       "      <td>2887.0</td>\n",
       "      <td>-0.205404</td>\n",
       "    </tr>\n",
       "    <tr>\n",
       "      <th>16087</th>\n",
       "      <td>Buck Island Reef NM</td>\n",
       "      <td>2024</td>\n",
       "      <td>12</td>\n",
       "      <td>3583</td>\n",
       "      <td>4337.0</td>\n",
       "      <td>-0.173853</td>\n",
       "    </tr>\n",
       "    <tr>\n",
       "      <th>9551</th>\n",
       "      <td>Big Hole NB</td>\n",
       "      <td>2024</td>\n",
       "      <td>12</td>\n",
       "      <td>360</td>\n",
       "      <td>419.0</td>\n",
       "      <td>-0.140811</td>\n",
       "    </tr>\n",
       "  </tbody>\n",
       "</table>\n",
       "</div>"
      ],
      "text/plain": [
       "                             Park  Year  Month  Recreation Visits  Prev_Year_Visits  YoY_Growth\n",
       "22999      Carl Sandburg Home NHS  2024     12               1598            9455.0   -0.830989\n",
       "7691          Bent's Old Fort NHS  2024     12                156             638.0   -0.755486\n",
       "1103           Andrew Johnson NHS  2024     12               2190            8597.0   -0.745260\n",
       "27655               Chamizal NMEM  2024     12                399             871.0   -0.541906\n",
       "5927               Aztec Ruins NM  2024     12               1176            2463.0   -0.522533\n",
       "16639                  Buffalo NR  2024     12              33135           46787.0   -0.291790\n",
       "28206          Channel Islands NP  2024     12              14893           19088.0   -0.219772\n",
       "3167   Appomattox Court House NHP  2024     12               2294            2887.0   -0.205404\n",
       "16087         Buck Island Reef NM  2024     12               3583            4337.0   -0.173853\n",
       "9551                  Big Hole NB  2024     12                360             419.0   -0.140811"
      ]
     },
     "metadata": {},
     "output_type": "display_data"
    }
   ],
   "source": [
    "# 5) Keep only parks with a valid YoY baseline\n",
    "latest = latest.replace([np.inf, -np.inf], np.nan).dropna(subset=[\"YoY_Growth\"])\n",
    "\n",
    "# 6) Top gainers / decliners\n",
    "top_gainers   = latest.sort_values(\"YoY_Growth\", ascending=False).head(10)\n",
    "top_decliners = latest.sort_values(\"YoY_Growth\", ascending=True).head(10)\n",
    "\n",
    "print(\"Top YoY Gainers:\")\n",
    "display(top_gainers[[\"Park\",\"Year\",\"Month\",\"Recreation Visits\",\"Prev_Year_Visits\",\"YoY_Growth\"]])\n",
    "\n",
    "print(\"\\nTop YoY Decliners:\")\n",
    "display(top_decliners[[\"Park\",\"Year\",\"Month\",\"Recreation Visits\",\"Prev_Year_Visits\",\"YoY_Growth\"]])"
   ]
  },
  {
   "cell_type": "code",
   "execution_count": 30,
   "id": "b36832d0-93da-42a8-bfa2-675e91185a74",
   "metadata": {},
   "outputs": [
    {
     "data": {
      "application/vnd.plotly.v1+json": {
       "config": {
        "plotlyServerURL": "https://plot.ly"
       },
       "data": [
        {
         "hovertemplate": "YoY_Growth=%{x}<br>Park=%{y}<extra></extra>",
         "legendgroup": "",
         "marker": {
          "color": "#636efa",
          "pattern": {
           "shape": ""
          }
         },
         "name": "",
         "orientation": "h",
         "showlegend": false,
         "textposition": "auto",
         "type": "bar",
         "x": {
          "bdata": "SQv+eWGD4T9AZzs+BCnnP6gGQcHPNuk/ukpZD3NR7T8mbqZLxbbuP6Y55ZHa4PE/FK5H4XoU8j+BQ1Fiyln2P6+hvIbyGvo/AZqULNqnAEA=",
          "dtype": "f8"
         },
         "xaxis": "x",
         "y": [
          "Big Cypress NPRES",
          "Cane River Creole NHP",
          "Canyon de Chelly NM",
          "Bandelier NM",
          "Cesar E. Chavez NM",
          "Chaco Culture NHP",
          "Bluestone NSR",
          "Casa Grande Ruins NM",
          "Boston Harbor Islands NRA",
          "Arlington House The R.E. Lee MEM"
         ],
         "yaxis": "y"
        }
       ],
       "layout": {
        "barmode": "relative",
        "legend": {
         "tracegroupgap": 0
        },
        "template": {
         "data": {
          "bar": [
           {
            "error_x": {
             "color": "#2a3f5f"
            },
            "error_y": {
             "color": "#2a3f5f"
            },
            "marker": {
             "line": {
              "color": "#E5ECF6",
              "width": 0.5
             },
             "pattern": {
              "fillmode": "overlay",
              "size": 10,
              "solidity": 0.2
             }
            },
            "type": "bar"
           }
          ],
          "barpolar": [
           {
            "marker": {
             "line": {
              "color": "#E5ECF6",
              "width": 0.5
             },
             "pattern": {
              "fillmode": "overlay",
              "size": 10,
              "solidity": 0.2
             }
            },
            "type": "barpolar"
           }
          ],
          "carpet": [
           {
            "aaxis": {
             "endlinecolor": "#2a3f5f",
             "gridcolor": "white",
             "linecolor": "white",
             "minorgridcolor": "white",
             "startlinecolor": "#2a3f5f"
            },
            "baxis": {
             "endlinecolor": "#2a3f5f",
             "gridcolor": "white",
             "linecolor": "white",
             "minorgridcolor": "white",
             "startlinecolor": "#2a3f5f"
            },
            "type": "carpet"
           }
          ],
          "choropleth": [
           {
            "colorbar": {
             "outlinewidth": 0,
             "ticks": ""
            },
            "type": "choropleth"
           }
          ],
          "contour": [
           {
            "colorbar": {
             "outlinewidth": 0,
             "ticks": ""
            },
            "colorscale": [
             [
              0,
              "#0d0887"
             ],
             [
              0.1111111111111111,
              "#46039f"
             ],
             [
              0.2222222222222222,
              "#7201a8"
             ],
             [
              0.3333333333333333,
              "#9c179e"
             ],
             [
              0.4444444444444444,
              "#bd3786"
             ],
             [
              0.5555555555555556,
              "#d8576b"
             ],
             [
              0.6666666666666666,
              "#ed7953"
             ],
             [
              0.7777777777777778,
              "#fb9f3a"
             ],
             [
              0.8888888888888888,
              "#fdca26"
             ],
             [
              1,
              "#f0f921"
             ]
            ],
            "type": "contour"
           }
          ],
          "contourcarpet": [
           {
            "colorbar": {
             "outlinewidth": 0,
             "ticks": ""
            },
            "type": "contourcarpet"
           }
          ],
          "heatmap": [
           {
            "colorbar": {
             "outlinewidth": 0,
             "ticks": ""
            },
            "colorscale": [
             [
              0,
              "#0d0887"
             ],
             [
              0.1111111111111111,
              "#46039f"
             ],
             [
              0.2222222222222222,
              "#7201a8"
             ],
             [
              0.3333333333333333,
              "#9c179e"
             ],
             [
              0.4444444444444444,
              "#bd3786"
             ],
             [
              0.5555555555555556,
              "#d8576b"
             ],
             [
              0.6666666666666666,
              "#ed7953"
             ],
             [
              0.7777777777777778,
              "#fb9f3a"
             ],
             [
              0.8888888888888888,
              "#fdca26"
             ],
             [
              1,
              "#f0f921"
             ]
            ],
            "type": "heatmap"
           }
          ],
          "histogram": [
           {
            "marker": {
             "pattern": {
              "fillmode": "overlay",
              "size": 10,
              "solidity": 0.2
             }
            },
            "type": "histogram"
           }
          ],
          "histogram2d": [
           {
            "colorbar": {
             "outlinewidth": 0,
             "ticks": ""
            },
            "colorscale": [
             [
              0,
              "#0d0887"
             ],
             [
              0.1111111111111111,
              "#46039f"
             ],
             [
              0.2222222222222222,
              "#7201a8"
             ],
             [
              0.3333333333333333,
              "#9c179e"
             ],
             [
              0.4444444444444444,
              "#bd3786"
             ],
             [
              0.5555555555555556,
              "#d8576b"
             ],
             [
              0.6666666666666666,
              "#ed7953"
             ],
             [
              0.7777777777777778,
              "#fb9f3a"
             ],
             [
              0.8888888888888888,
              "#fdca26"
             ],
             [
              1,
              "#f0f921"
             ]
            ],
            "type": "histogram2d"
           }
          ],
          "histogram2dcontour": [
           {
            "colorbar": {
             "outlinewidth": 0,
             "ticks": ""
            },
            "colorscale": [
             [
              0,
              "#0d0887"
             ],
             [
              0.1111111111111111,
              "#46039f"
             ],
             [
              0.2222222222222222,
              "#7201a8"
             ],
             [
              0.3333333333333333,
              "#9c179e"
             ],
             [
              0.4444444444444444,
              "#bd3786"
             ],
             [
              0.5555555555555556,
              "#d8576b"
             ],
             [
              0.6666666666666666,
              "#ed7953"
             ],
             [
              0.7777777777777778,
              "#fb9f3a"
             ],
             [
              0.8888888888888888,
              "#fdca26"
             ],
             [
              1,
              "#f0f921"
             ]
            ],
            "type": "histogram2dcontour"
           }
          ],
          "mesh3d": [
           {
            "colorbar": {
             "outlinewidth": 0,
             "ticks": ""
            },
            "type": "mesh3d"
           }
          ],
          "parcoords": [
           {
            "line": {
             "colorbar": {
              "outlinewidth": 0,
              "ticks": ""
             }
            },
            "type": "parcoords"
           }
          ],
          "pie": [
           {
            "automargin": true,
            "type": "pie"
           }
          ],
          "scatter": [
           {
            "fillpattern": {
             "fillmode": "overlay",
             "size": 10,
             "solidity": 0.2
            },
            "type": "scatter"
           }
          ],
          "scatter3d": [
           {
            "line": {
             "colorbar": {
              "outlinewidth": 0,
              "ticks": ""
             }
            },
            "marker": {
             "colorbar": {
              "outlinewidth": 0,
              "ticks": ""
             }
            },
            "type": "scatter3d"
           }
          ],
          "scattercarpet": [
           {
            "marker": {
             "colorbar": {
              "outlinewidth": 0,
              "ticks": ""
             }
            },
            "type": "scattercarpet"
           }
          ],
          "scattergeo": [
           {
            "marker": {
             "colorbar": {
              "outlinewidth": 0,
              "ticks": ""
             }
            },
            "type": "scattergeo"
           }
          ],
          "scattergl": [
           {
            "marker": {
             "colorbar": {
              "outlinewidth": 0,
              "ticks": ""
             }
            },
            "type": "scattergl"
           }
          ],
          "scattermap": [
           {
            "marker": {
             "colorbar": {
              "outlinewidth": 0,
              "ticks": ""
             }
            },
            "type": "scattermap"
           }
          ],
          "scattermapbox": [
           {
            "marker": {
             "colorbar": {
              "outlinewidth": 0,
              "ticks": ""
             }
            },
            "type": "scattermapbox"
           }
          ],
          "scatterpolar": [
           {
            "marker": {
             "colorbar": {
              "outlinewidth": 0,
              "ticks": ""
             }
            },
            "type": "scatterpolar"
           }
          ],
          "scatterpolargl": [
           {
            "marker": {
             "colorbar": {
              "outlinewidth": 0,
              "ticks": ""
             }
            },
            "type": "scatterpolargl"
           }
          ],
          "scatterternary": [
           {
            "marker": {
             "colorbar": {
              "outlinewidth": 0,
              "ticks": ""
             }
            },
            "type": "scatterternary"
           }
          ],
          "surface": [
           {
            "colorbar": {
             "outlinewidth": 0,
             "ticks": ""
            },
            "colorscale": [
             [
              0,
              "#0d0887"
             ],
             [
              0.1111111111111111,
              "#46039f"
             ],
             [
              0.2222222222222222,
              "#7201a8"
             ],
             [
              0.3333333333333333,
              "#9c179e"
             ],
             [
              0.4444444444444444,
              "#bd3786"
             ],
             [
              0.5555555555555556,
              "#d8576b"
             ],
             [
              0.6666666666666666,
              "#ed7953"
             ],
             [
              0.7777777777777778,
              "#fb9f3a"
             ],
             [
              0.8888888888888888,
              "#fdca26"
             ],
             [
              1,
              "#f0f921"
             ]
            ],
            "type": "surface"
           }
          ],
          "table": [
           {
            "cells": {
             "fill": {
              "color": "#EBF0F8"
             },
             "line": {
              "color": "white"
             }
            },
            "header": {
             "fill": {
              "color": "#C8D4E3"
             },
             "line": {
              "color": "white"
             }
            },
            "type": "table"
           }
          ]
         },
         "layout": {
          "annotationdefaults": {
           "arrowcolor": "#2a3f5f",
           "arrowhead": 0,
           "arrowwidth": 1
          },
          "autotypenumbers": "strict",
          "coloraxis": {
           "colorbar": {
            "outlinewidth": 0,
            "ticks": ""
           }
          },
          "colorscale": {
           "diverging": [
            [
             0,
             "#8e0152"
            ],
            [
             0.1,
             "#c51b7d"
            ],
            [
             0.2,
             "#de77ae"
            ],
            [
             0.3,
             "#f1b6da"
            ],
            [
             0.4,
             "#fde0ef"
            ],
            [
             0.5,
             "#f7f7f7"
            ],
            [
             0.6,
             "#e6f5d0"
            ],
            [
             0.7,
             "#b8e186"
            ],
            [
             0.8,
             "#7fbc41"
            ],
            [
             0.9,
             "#4d9221"
            ],
            [
             1,
             "#276419"
            ]
           ],
           "sequential": [
            [
             0,
             "#0d0887"
            ],
            [
             0.1111111111111111,
             "#46039f"
            ],
            [
             0.2222222222222222,
             "#7201a8"
            ],
            [
             0.3333333333333333,
             "#9c179e"
            ],
            [
             0.4444444444444444,
             "#bd3786"
            ],
            [
             0.5555555555555556,
             "#d8576b"
            ],
            [
             0.6666666666666666,
             "#ed7953"
            ],
            [
             0.7777777777777778,
             "#fb9f3a"
            ],
            [
             0.8888888888888888,
             "#fdca26"
            ],
            [
             1,
             "#f0f921"
            ]
           ],
           "sequentialminus": [
            [
             0,
             "#0d0887"
            ],
            [
             0.1111111111111111,
             "#46039f"
            ],
            [
             0.2222222222222222,
             "#7201a8"
            ],
            [
             0.3333333333333333,
             "#9c179e"
            ],
            [
             0.4444444444444444,
             "#bd3786"
            ],
            [
             0.5555555555555556,
             "#d8576b"
            ],
            [
             0.6666666666666666,
             "#ed7953"
            ],
            [
             0.7777777777777778,
             "#fb9f3a"
            ],
            [
             0.8888888888888888,
             "#fdca26"
            ],
            [
             1,
             "#f0f921"
            ]
           ]
          },
          "colorway": [
           "#636efa",
           "#EF553B",
           "#00cc96",
           "#ab63fa",
           "#FFA15A",
           "#19d3f3",
           "#FF6692",
           "#B6E880",
           "#FF97FF",
           "#FECB52"
          ],
          "font": {
           "color": "#2a3f5f"
          },
          "geo": {
           "bgcolor": "white",
           "lakecolor": "white",
           "landcolor": "#E5ECF6",
           "showlakes": true,
           "showland": true,
           "subunitcolor": "white"
          },
          "hoverlabel": {
           "align": "left"
          },
          "hovermode": "closest",
          "mapbox": {
           "style": "light"
          },
          "paper_bgcolor": "white",
          "plot_bgcolor": "#E5ECF6",
          "polar": {
           "angularaxis": {
            "gridcolor": "white",
            "linecolor": "white",
            "ticks": ""
           },
           "bgcolor": "#E5ECF6",
           "radialaxis": {
            "gridcolor": "white",
            "linecolor": "white",
            "ticks": ""
           }
          },
          "scene": {
           "xaxis": {
            "backgroundcolor": "#E5ECF6",
            "gridcolor": "white",
            "gridwidth": 2,
            "linecolor": "white",
            "showbackground": true,
            "ticks": "",
            "zerolinecolor": "white"
           },
           "yaxis": {
            "backgroundcolor": "#E5ECF6",
            "gridcolor": "white",
            "gridwidth": 2,
            "linecolor": "white",
            "showbackground": true,
            "ticks": "",
            "zerolinecolor": "white"
           },
           "zaxis": {
            "backgroundcolor": "#E5ECF6",
            "gridcolor": "white",
            "gridwidth": 2,
            "linecolor": "white",
            "showbackground": true,
            "ticks": "",
            "zerolinecolor": "white"
           }
          },
          "shapedefaults": {
           "line": {
            "color": "#2a3f5f"
           }
          },
          "ternary": {
           "aaxis": {
            "gridcolor": "white",
            "linecolor": "white",
            "ticks": ""
           },
           "baxis": {
            "gridcolor": "white",
            "linecolor": "white",
            "ticks": ""
           },
           "bgcolor": "#E5ECF6",
           "caxis": {
            "gridcolor": "white",
            "linecolor": "white",
            "ticks": ""
           }
          },
          "title": {
           "x": 0.05
          },
          "xaxis": {
           "automargin": true,
           "gridcolor": "white",
           "linecolor": "white",
           "ticks": "",
           "title": {
            "standoff": 15
           },
           "zerolinecolor": "white",
           "zerolinewidth": 2
          },
          "yaxis": {
           "automargin": true,
           "gridcolor": "white",
           "linecolor": "white",
           "ticks": "",
           "title": {
            "standoff": 15
           },
           "zerolinecolor": "white",
           "zerolinewidth": 2
          }
         }
        },
        "title": {
         "text": "Top 10 Parks – Latest YoY Growth"
        },
        "xaxis": {
         "anchor": "y",
         "domain": [
          0,
          1
         ],
         "tickformat": ".0%",
         "title": {
          "text": "YoY_Growth"
         }
        },
        "yaxis": {
         "anchor": "x",
         "domain": [
          0,
          1
         ],
         "title": {
          "text": "Park"
         }
        }
       }
      },
      "image/png": "[encoded data removed]"
     },
     "metadata": {},
     "output_type": "display_data"
    }
   ],
   "source": [
    "import plotly.express as px\n",
    "\n",
    "fig = px.bar(\n",
    "    top_gainers.sort_values(\"YoY_Growth\"),\n",
    "    x=\"YoY_Growth\", y=\"Park\", orientation=\"h\",\n",
    "    title=\"Top 10 Parks – Latest YoY Growth\"\n",
    ")\n",
    "fig.update_layout(xaxis_tickformat=\".0%\")\n",
    "fig.show()\n"
   ]
  },
  {
   "cell_type": "code",
   "execution_count": 31,
   "id": "738f3922-c4d2-4f27-9ff2-be7fa307f22e",
   "metadata": {},
   "outputs": [],
   "source": [
    "# State & Region summaries (for map and dashboard)\n",
    "# State-month\n",
    "state_month = (\n",
    "    df.groupby([\"State\",\"Year\",\"Month\"], as_index=False)[\"Recreation Visits\"].sum()\n",
    ")\n",
    "state_month[\"Date\"] = pd.to_datetime(dict(year=state_month[\"Year\"], month=state_month[\"Month\"], day=1))"
   ]
  },
  {
   "cell_type": "code",
   "execution_count": 32,
   "id": "80770d22-dfd3-4256-b133-9851988e6001",
   "metadata": {},
   "outputs": [],
   "source": [
    "# Region-month\n",
    "region_month = (\n",
    "    df.groupby([\"Region\",\"Year\",\"Month\"], as_index=False)[\"Recreation Visits\"].sum()\n",
    ")\n",
    "region_month[\"Date\"] = pd.to_datetime(dict(year=region_month[\"Year\"], month=region_month[\"Month\"], day=1))"
   ]
  },
  {
   "cell_type": "code",
   "execution_count": 33,
   "id": "182fddcf-48e0-435d-9c8c-b0c408191372",
   "metadata": {},
   "outputs": [
    {
     "data": {
      "text/plain": [
       "(  State  Year  Month  Recreation Visits       Date\n",
       " 0    AK  1982      1                  0 1982-01-01\n",
       " 1    AK  1982      2                  0 1982-02-01\n",
       " 2    AK  1982      3                 25 1982-03-01\n",
       " 3    AK  1982      4                245 1982-04-01\n",
       " 4    AK  1982      5                565 1982-05-01,\n",
       "    Region  Year  Month  Recreation Visits       Date\n",
       " 0  Alaska  1982      1                  0 1982-01-01\n",
       " 1  Alaska  1982      2                  0 1982-02-01\n",
       " 2  Alaska  1982      3                 25 1982-03-01\n",
       " 3  Alaska  1982      4                245 1982-04-01\n",
       " 4  Alaska  1982      5                565 1982-05-01)"
      ]
     },
     "execution_count": 33,
     "metadata": {},
     "output_type": "execute_result"
    }
   ],
   "source": [
    "# (map & filters)\n",
    "state_month.to_csv(\"../data/cleaned/state_month_visits.csv\", index=False)\n",
    "region_month.to_csv(\"../data/cleaned/region_month_visits.csv\", index=False)\n",
    "\n",
    "state_month.head(), region_month.head()"
   ]
  },
  {
   "cell_type": "code",
   "execution_count": 34,
   "id": "c7e7ed29-85fe-468f-852c-97ed4c24eed0",
   "metadata": {},
   "outputs": [],
   "source": [
    "# Seasonality index (per park)\n",
    "park_month_total = (\n",
    "    df.groupby([\"Park\",\"Month\"], as_index=False)[\"Recreation Visits\"].sum()\n",
    ")\n",
    "\n",
    "park_total_year = (\n",
    "    df.groupby(\"Park\", as_index=False)[\"Recreation Visits\"].sum()\n",
    "      .rename(columns={\"Recreation Visits\":\"Total_Visits\"})\n",
    ")"
   ]
  },
  {
   "cell_type": "code",
   "execution_count": 35,
   "id": "0ce3f345-bad9-4fae-9200-774c7c76500c",
   "metadata": {},
   "outputs": [],
   "source": [
    "# average per month = total / number of unique months present for the park\n",
    "months_per_park = df.groupby(\"Park\")[\"Month\"].nunique().reset_index().rename(columns={\"Month\":\"Months_Count\"})\n",
    "park_total_year = park_total_year.merge(months_per_park, on=\"Park\", how=\"left\")\n",
    "\n",
    "park_month_avg = park_month_total.merge(park_total_year, on=\"Park\", how=\"left\")\n",
    "park_month_avg[\"Avg_Per_Month\"] = park_month_avg[\"Total_Visits\"] / park_month_avg[\"Months_Count\"]"
   ]
  },
  {
   "cell_type": "code",
   "execution_count": 36,
   "id": "5439f8ec-987f-48bb-8664-03c80ef118bd",
   "metadata": {},
   "outputs": [
    {
     "data": {
      "text/html": [
       "<div>\n",
       "<style scoped>\n",
       "    .dataframe tbody tr th:only-of-type {\n",
       "        vertical-align: middle;\n",
       "    }\n",
       "\n",
       "    .dataframe tbody tr th {\n",
       "        vertical-align: top;\n",
       "    }\n",
       "\n",
       "    .dataframe thead th {\n",
       "        text-align: right;\n",
       "    }\n",
       "</style>\n",
       "<table border=\"1\" class=\"dataframe\">\n",
       "  <thead>\n",
       "    <tr style=\"text-align: right;\">\n",
       "      <th></th>\n",
       "      <th>Park</th>\n",
       "      <th>Month</th>\n",
       "      <th>Recreation Visits</th>\n",
       "      <th>Total_Visits</th>\n",
       "      <th>Months_Count</th>\n",
       "      <th>Avg_Per_Month</th>\n",
       "      <th>Seasonality_Index</th>\n",
       "    </tr>\n",
       "  </thead>\n",
       "  <tbody>\n",
       "    <tr>\n",
       "      <th>0</th>\n",
       "      <td>Andersonville NHS</td>\n",
       "      <td>1</td>\n",
       "      <td>305421</td>\n",
       "      <td>6127849</td>\n",
       "      <td>12</td>\n",
       "      <td>510654.083333</td>\n",
       "      <td>0.598098</td>\n",
       "    </tr>\n",
       "    <tr>\n",
       "      <th>1</th>\n",
       "      <td>Andersonville NHS</td>\n",
       "      <td>2</td>\n",
       "      <td>428142</td>\n",
       "      <td>6127849</td>\n",
       "      <td>12</td>\n",
       "      <td>510654.083333</td>\n",
       "      <td>0.838419</td>\n",
       "    </tr>\n",
       "    <tr>\n",
       "      <th>2</th>\n",
       "      <td>Andersonville NHS</td>\n",
       "      <td>3</td>\n",
       "      <td>579494</td>\n",
       "      <td>6127849</td>\n",
       "      <td>12</td>\n",
       "      <td>510654.083333</td>\n",
       "      <td>1.134807</td>\n",
       "    </tr>\n",
       "    <tr>\n",
       "      <th>3</th>\n",
       "      <td>Andersonville NHS</td>\n",
       "      <td>4</td>\n",
       "      <td>634006</td>\n",
       "      <td>6127849</td>\n",
       "      <td>12</td>\n",
       "      <td>510654.083333</td>\n",
       "      <td>1.241557</td>\n",
       "    </tr>\n",
       "    <tr>\n",
       "      <th>4</th>\n",
       "      <td>Andersonville NHS</td>\n",
       "      <td>5</td>\n",
       "      <td>804108</td>\n",
       "      <td>6127849</td>\n",
       "      <td>12</td>\n",
       "      <td>510654.083333</td>\n",
       "      <td>1.574663</td>\n",
       "    </tr>\n",
       "  </tbody>\n",
       "</table>\n",
       "</div>"
      ],
      "text/plain": [
       "                Park  Month  Recreation Visits  Total_Visits  Months_Count  Avg_Per_Month  Seasonality_Index\n",
       "0  Andersonville NHS      1             305421       6127849            12  510654.083333           0.598098\n",
       "1  Andersonville NHS      2             428142       6127849            12  510654.083333           0.838419\n",
       "2  Andersonville NHS      3             579494       6127849            12  510654.083333           1.134807\n",
       "3  Andersonville NHS      4             634006       6127849            12  510654.083333           1.241557\n",
       "4  Andersonville NHS      5             804108       6127849            12  510654.083333           1.574663"
      ]
     },
     "execution_count": 36,
     "metadata": {},
     "output_type": "execute_result"
    }
   ],
   "source": [
    "#  index: month_visits / avg_per_month\n",
    "park_month_avg[\"Seasonality_Index\"] = park_month_avg[\"Recreation Visits\"] / park_month_avg[\"Avg_Per_Month\"]\n",
    "\n",
    "# \n",
    "park_month_avg.to_csv(\"../data/cleaned/park_seasonality_index.csv\", index=False)\n",
    "park_month_avg.head()"
   ]
  },
  {
   "cell_type": "code",
   "execution_count": 37,
   "id": "239d429b-c9ff-4919-b9b7-cba422d1f556",
   "metadata": {},
   "outputs": [
    {
     "data": {
      "application/vnd.plotly.v1+json": {
       "config": {
        "plotlyServerURL": "https://plot.ly"
       },
       "data": [
        {
         "hovertemplate": "Month=%{x}<br>Seasonality_Index=%{y}<extra></extra>",
         "legendgroup": "",
         "marker": {
          "color": "#636efa",
          "pattern": {
           "shape": ""
          }
         },
         "name": "",
         "orientation": "v",
         "showlegend": false,
         "textposition": "auto",
         "type": "bar",
         "x": {
          "bdata": "AQIDBAUGBwgJCgsM",
          "dtype": "i1"
         },
         "xaxis": "x",
         "y": {
          "bdata": "xAA/p50j4z8vNd26U9TqPx0vwLwrKPI/QOWtj2rd8z8dO7Wk0TH5P/MOrzO53/A/umwxlbMH8j+YgpoZ6qntP35RePclQ+0/JibrA4r08T9gnwtA7/LpP/5z59BRAeU/",
          "dtype": "f8"
         },
         "yaxis": "y"
        }
       ],
       "layout": {
        "barmode": "relative",
        "legend": {
         "tracegroupgap": 0
        },
        "template": {
         "data": {
          "bar": [
           {
            "error_x": {
             "color": "#2a3f5f"
            },
            "error_y": {
             "color": "#2a3f5f"
            },
            "marker": {
             "line": {
              "color": "#E5ECF6",
              "width": 0.5
             },
             "pattern": {
              "fillmode": "overlay",
              "size": 10,
              "solidity": 0.2
             }
            },
            "type": "bar"
           }
          ],
          "barpolar": [
           {
            "marker": {
             "line": {
              "color": "#E5ECF6",
              "width": 0.5
             },
             "pattern": {
              "fillmode": "overlay",
              "size": 10,
              "solidity": 0.2
             }
            },
            "type": "barpolar"
           }
          ],
          "carpet": [
           {
            "aaxis": {
             "endlinecolor": "#2a3f5f",
             "gridcolor": "white",
             "linecolor": "white",
             "minorgridcolor": "white",
             "startlinecolor": "#2a3f5f"
            },
            "baxis": {
             "endlinecolor": "#2a3f5f",
             "gridcolor": "white",
             "linecolor": "white",
             "minorgridcolor": "white",
             "startlinecolor": "#2a3f5f"
            },
            "type": "carpet"
           }
          ],
          "choropleth": [
           {
            "colorbar": {
             "outlinewidth": 0,
             "ticks": ""
            },
            "type": "choropleth"
           }
          ],
          "contour": [
           {
            "colorbar": {
             "outlinewidth": 0,
             "ticks": ""
            },
            "colorscale": [
             [
              0,
              "#0d0887"
             ],
             [
              0.1111111111111111,
              "#46039f"
             ],
             [
              0.2222222222222222,
              "#7201a8"
             ],
             [
              0.3333333333333333,
              "#9c179e"
             ],
             [
              0.4444444444444444,
              "#bd3786"
             ],
             [
              0.5555555555555556,
              "#d8576b"
             ],
             [
              0.6666666666666666,
              "#ed7953"
             ],
             [
              0.7777777777777778,
              "#fb9f3a"
             ],
             [
              0.8888888888888888,
              "#fdca26"
             ],
             [
              1,
              "#f0f921"
             ]
            ],
            "type": "contour"
           }
          ],
          "contourcarpet": [
           {
            "colorbar": {
             "outlinewidth": 0,
             "ticks": ""
            },
            "type": "contourcarpet"
           }
          ],
          "heatmap": [
           {
            "colorbar": {
             "outlinewidth": 0,
             "ticks": ""
            },
            "colorscale": [
             [
              0,
              "#0d0887"
             ],
             [
              0.1111111111111111,
              "#46039f"
             ],
             [
              0.2222222222222222,
              "#7201a8"
             ],
             [
              0.3333333333333333,
              "#9c179e"
             ],
             [
              0.4444444444444444,
              "#bd3786"
             ],
             [
              0.5555555555555556,
              "#d8576b"
             ],
             [
              0.6666666666666666,
              "#ed7953"
             ],
             [
              0.7777777777777778,
              "#fb9f3a"
             ],
             [
              0.8888888888888888,
              "#fdca26"
             ],
             [
              1,
              "#f0f921"
             ]
            ],
            "type": "heatmap"
           }
          ],
          "histogram": [
           {
            "marker": {
             "pattern": {
              "fillmode": "overlay",
              "size": 10,
              "solidity": 0.2
             }
            },
            "type": "histogram"
           }
          ],
          "histogram2d": [
           {
            "colorbar": {
             "outlinewidth": 0,
             "ticks": ""
            },
            "colorscale": [
             [
              0,
              "#0d0887"
             ],
             [
              0.1111111111111111,
              "#46039f"
             ],
             [
              0.2222222222222222,
              "#7201a8"
             ],
             [
              0.3333333333333333,
              "#9c179e"
             ],
             [
              0.4444444444444444,
              "#bd3786"
             ],
             [
              0.5555555555555556,
              "#d8576b"
             ],
             [
              0.6666666666666666,
              "#ed7953"
             ],
             [
              0.7777777777777778,
              "#fb9f3a"
             ],
             [
              0.8888888888888888,
              "#fdca26"
             ],
             [
              1,
              "#f0f921"
             ]
            ],
            "type": "histogram2d"
           }
          ],
          "histogram2dcontour": [
           {
            "colorbar": {
             "outlinewidth": 0,
             "ticks": ""
            },
            "colorscale": [
             [
              0,
              "#0d0887"
             ],
             [
              0.1111111111111111,
              "#46039f"
             ],
             [
              0.2222222222222222,
              "#7201a8"
             ],
             [
              0.3333333333333333,
              "#9c179e"
             ],
             [
              0.4444444444444444,
              "#bd3786"
             ],
             [
              0.5555555555555556,
              "#d8576b"
             ],
             [
              0.6666666666666666,
              "#ed7953"
             ],
             [
              0.7777777777777778,
              "#fb9f3a"
             ],
             [
              0.8888888888888888,
              "#fdca26"
             ],
             [
              1,
              "#f0f921"
             ]
            ],
            "type": "histogram2dcontour"
           }
          ],
          "mesh3d": [
           {
            "colorbar": {
             "outlinewidth": 0,
             "ticks": ""
            },
            "type": "mesh3d"
           }
          ],
          "parcoords": [
           {
            "line": {
             "colorbar": {
              "outlinewidth": 0,
              "ticks": ""
             }
            },
            "type": "parcoords"
           }
          ],
          "pie": [
           {
            "automargin": true,
            "type": "pie"
           }
          ],
          "scatter": [
           {
            "fillpattern": {
             "fillmode": "overlay",
             "size": 10,
             "solidity": 0.2
            },
            "type": "scatter"
           }
          ],
          "scatter3d": [
           {
            "line": {
             "colorbar": {
              "outlinewidth": 0,
              "ticks": ""
             }
            },
            "marker": {
             "colorbar": {
              "outlinewidth": 0,
              "ticks": ""
             }
            },
            "type": "scatter3d"
           }
          ],
          "scattercarpet": [
           {
            "marker": {
             "colorbar": {
              "outlinewidth": 0,
              "ticks": ""
             }
            },
            "type": "scattercarpet"
           }
          ],
          "scattergeo": [
           {
            "marker": {
             "colorbar": {
              "outlinewidth": 0,
              "ticks": ""
             }
            },
            "type": "scattergeo"
           }
          ],
          "scattergl": [
           {
            "marker": {
             "colorbar": {
              "outlinewidth": 0,
              "ticks": ""
             }
            },
            "type": "scattergl"
           }
          ],
          "scattermap": [
           {
            "marker": {
             "colorbar": {
              "outlinewidth": 0,
              "ticks": ""
             }
            },
            "type": "scattermap"
           }
          ],
          "scattermapbox": [
           {
            "marker": {
             "colorbar": {
              "outlinewidth": 0,
              "ticks": ""
             }
            },
            "type": "scattermapbox"
           }
          ],
          "scatterpolar": [
           {
            "marker": {
             "colorbar": {
              "outlinewidth": 0,
              "ticks": ""
             }
            },
            "type": "scatterpolar"
           }
          ],
          "scatterpolargl": [
           {
            "marker": {
             "colorbar": {
              "outlinewidth": 0,
              "ticks": ""
             }
            },
            "type": "scatterpolargl"
           }
          ],
          "scatterternary": [
           {
            "marker": {
             "colorbar": {
              "outlinewidth": 0,
              "ticks": ""
             }
            },
            "type": "scatterternary"
           }
          ],
          "surface": [
           {
            "colorbar": {
             "outlinewidth": 0,
             "ticks": ""
            },
            "colorscale": [
             [
              0,
              "#0d0887"
             ],
             [
              0.1111111111111111,
              "#46039f"
             ],
             [
              0.2222222222222222,
              "#7201a8"
             ],
             [
              0.3333333333333333,
              "#9c179e"
             ],
             [
              0.4444444444444444,
              "#bd3786"
             ],
             [
              0.5555555555555556,
              "#d8576b"
             ],
             [
              0.6666666666666666,
              "#ed7953"
             ],
             [
              0.7777777777777778,
              "#fb9f3a"
             ],
             [
              0.8888888888888888,
              "#fdca26"
             ],
             [
              1,
              "#f0f921"
             ]
            ],
            "type": "surface"
           }
          ],
          "table": [
           {
            "cells": {
             "fill": {
              "color": "#EBF0F8"
             },
             "line": {
              "color": "white"
             }
            },
            "header": {
             "fill": {
              "color": "#C8D4E3"
             },
             "line": {
              "color": "white"
             }
            },
            "type": "table"
           }
          ]
         },
         "layout": {
          "annotationdefaults": {
           "arrowcolor": "#2a3f5f",
           "arrowhead": 0,
           "arrowwidth": 1
          },
          "autotypenumbers": "strict",
          "coloraxis": {
           "colorbar": {
            "outlinewidth": 0,
            "ticks": ""
           }
          },
          "colorscale": {
           "diverging": [
            [
             0,
             "#8e0152"
            ],
            [
             0.1,
             "#c51b7d"
            ],
            [
             0.2,
             "#de77ae"
            ],
            [
             0.3,
             "#f1b6da"
            ],
            [
             0.4,
             "#fde0ef"
            ],
            [
             0.5,
             "#f7f7f7"
            ],
            [
             0.6,
             "#e6f5d0"
            ],
            [
             0.7,
             "#b8e186"
            ],
            [
             0.8,
             "#7fbc41"
            ],
            [
             0.9,
             "#4d9221"
            ],
            [
             1,
             "#276419"
            ]
           ],
           "sequential": [
            [
             0,
             "#0d0887"
            ],
            [
             0.1111111111111111,
             "#46039f"
            ],
            [
             0.2222222222222222,
             "#7201a8"
            ],
            [
             0.3333333333333333,
             "#9c179e"
            ],
            [
             0.4444444444444444,
             "#bd3786"
            ],
            [
             0.5555555555555556,
             "#d8576b"
            ],
            [
             0.6666666666666666,
             "#ed7953"
            ],
            [
             0.7777777777777778,
             "#fb9f3a"
            ],
            [
             0.8888888888888888,
             "#fdca26"
            ],
            [
             1,
             "#f0f921"
            ]
           ],
           "sequentialminus": [
            [
             0,
             "#0d0887"
            ],
            [
             0.1111111111111111,
             "#46039f"
            ],
            [
             0.2222222222222222,
             "#7201a8"
            ],
            [
             0.3333333333333333,
             "#9c179e"
            ],
            [
             0.4444444444444444,
             "#bd3786"
            ],
            [
             0.5555555555555556,
             "#d8576b"
            ],
            [
             0.6666666666666666,
             "#ed7953"
            ],
            [
             0.7777777777777778,
             "#fb9f3a"
            ],
            [
             0.8888888888888888,
             "#fdca26"
            ],
            [
             1,
             "#f0f921"
            ]
           ]
          },
          "colorway": [
           "#636efa",
           "#EF553B",
           "#00cc96",
           "#ab63fa",
           "#FFA15A",
           "#19d3f3",
           "#FF6692",
           "#B6E880",
           "#FF97FF",
           "#FECB52"
          ],
          "font": {
           "color": "#2a3f5f"
          },
          "geo": {
           "bgcolor": "white",
           "lakecolor": "white",
           "landcolor": "#E5ECF6",
           "showlakes": true,
           "showland": true,
           "subunitcolor": "white"
          },
          "hoverlabel": {
           "align": "left"
          },
          "hovermode": "closest",
          "mapbox": {
           "style": "light"
          },
          "paper_bgcolor": "white",
          "plot_bgcolor": "#E5ECF6",
          "polar": {
           "angularaxis": {
            "gridcolor": "white",
            "linecolor": "white",
            "ticks": ""
           },
           "bgcolor": "#E5ECF6",
           "radialaxis": {
            "gridcolor": "white",
            "linecolor": "white",
            "ticks": ""
           }
          },
          "scene": {
           "xaxis": {
            "backgroundcolor": "#E5ECF6",
            "gridcolor": "white",
            "gridwidth": 2,
            "linecolor": "white",
            "showbackground": true,
            "ticks": "",
            "zerolinecolor": "white"
           },
           "yaxis": {
            "backgroundcolor": "#E5ECF6",
            "gridcolor": "white",
            "gridwidth": 2,
            "linecolor": "white",
            "showbackground": true,
            "ticks": "",
            "zerolinecolor": "white"
           },
           "zaxis": {
            "backgroundcolor": "#E5ECF6",
            "gridcolor": "white",
            "gridwidth": 2,
            "linecolor": "white",
            "showbackground": true,
            "ticks": "",
            "zerolinecolor": "white"
           }
          },
          "shapedefaults": {
           "line": {
            "color": "#2a3f5f"
           }
          },
          "ternary": {
           "aaxis": {
            "gridcolor": "white",
            "linecolor": "white",
            "ticks": ""
           },
           "baxis": {
            "gridcolor": "white",
            "linecolor": "white",
            "ticks": ""
           },
           "bgcolor": "#E5ECF6",
           "caxis": {
            "gridcolor": "white",
            "linecolor": "white",
            "ticks": ""
           }
          },
          "title": {
           "x": 0.05
          },
          "xaxis": {
           "automargin": true,
           "gridcolor": "white",
           "linecolor": "white",
           "ticks": "",
           "title": {
            "standoff": 15
           },
           "zerolinecolor": "white",
           "zerolinewidth": 2
          },
          "yaxis": {
           "automargin": true,
           "gridcolor": "white",
           "linecolor": "white",
           "ticks": "",
           "title": {
            "standoff": 15
           },
           "zerolinecolor": "white",
           "zerolinewidth": 2
          }
         }
        },
        "title": {
         "text": "Seasonality Index – Andersonville NHS"
        },
        "xaxis": {
         "anchor": "y",
         "domain": [
          0,
          1
         ],
         "dtick": 1,
         "title": {
          "text": "Month"
         }
        },
        "yaxis": {
         "anchor": "x",
         "domain": [
          0,
          1
         ],
         "title": {
          "text": "Seasonality_Index"
         }
        }
       }
      },
      "image/png": "[encoded data removed]"
     },
     "metadata": {},
     "output_type": "display_data"
    }
   ],
   "source": [
    "# Heatmap for one park example:\n",
    "one = park_month_avg[park_month_avg[\"Park\"] == park_month_avg[\"Park\"].iloc[0]]\n",
    "fig = px.bar(one, x=\"Month\", y=\"Seasonality_Index\", title=f\"Seasonality Index – {one['Park'].iloc[0]}\")\n",
    "fig.update_xaxes(dtick=1)\n",
    "fig.show()\n"
   ]
  },
  {
   "cell_type": "code",
   "execution_count": 38,
   "id": "dd24beb2-4333-4975-b0fd-27b40ba30e11",
   "metadata": {},
   "outputs": [
    {
     "data": {
      "application/vnd.plotly.v1+json": {
       "config": {
        "plotlyServerURL": "https://plot.ly"
       },
       "data": [
        {
         "hovertemplate": "Year=%{x}<br>Recreation Visits=%{y}<extra></extra>",
         "legendgroup": "",
         "marker": {
          "color": "#636efa",
          "pattern": {
           "shape": ""
          }
         },
         "name": "",
         "orientation": "v",
         "showlegend": false,
         "textposition": "auto",
         "type": "bar",
         "x": {
          "bdata": "5gfnB+gH",
          "dtype": "i2"
         },
         "xaxis": "x",
         "y": {
          "bdata": "yAEmAP9hNQP3gkAD",
          "dtype": "i4"
         },
         "yaxis": "y"
        }
       ],
       "layout": {
        "barmode": "relative",
        "legend": {
         "tracegroupgap": 0
        },
        "template": {
         "data": {
          "bar": [
           {
            "error_x": {
             "color": "#2a3f5f"
            },
            "error_y": {
             "color": "#2a3f5f"
            },
            "marker": {
             "line": {
              "color": "#E5ECF6",
              "width": 0.5
             },
             "pattern": {
              "fillmode": "overlay",
              "size": 10,
              "solidity": 0.2
             }
            },
            "type": "bar"
           }
          ],
          "barpolar": [
           {
            "marker": {
             "line": {
              "color": "#E5ECF6",
              "width": 0.5
             },
             "pattern": {
              "fillmode": "overlay",
              "size": 10,
              "solidity": 0.2
             }
            },
            "type": "barpolar"
           }
          ],
          "carpet": [
           {
            "aaxis": {
             "endlinecolor": "#2a3f5f",
             "gridcolor": "white",
             "linecolor": "white",
             "minorgridcolor": "white",
             "startlinecolor": "#2a3f5f"
            },
            "baxis": {
             "endlinecolor": "#2a3f5f",
             "gridcolor": "white",
             "linecolor": "white",
             "minorgridcolor": "white",
             "startlinecolor": "#2a3f5f"
            },
            "type": "carpet"
           }
          ],
          "choropleth": [
           {
            "colorbar": {
             "outlinewidth": 0,
             "ticks": ""
            },
            "type": "choropleth"
           }
          ],
          "contour": [
           {
            "colorbar": {
             "outlinewidth": 0,
             "ticks": ""
            },
            "colorscale": [
             [
              0,
              "#0d0887"
             ],
             [
              0.1111111111111111,
              "#46039f"
             ],
             [
              0.2222222222222222,
              "#7201a8"
             ],
             [
              0.3333333333333333,
              "#9c179e"
             ],
             [
              0.4444444444444444,
              "#bd3786"
             ],
             [
              0.5555555555555556,
              "#d8576b"
             ],
             [
              0.6666666666666666,
              "#ed7953"
             ],
             [
              0.7777777777777778,
              "#fb9f3a"
             ],
             [
              0.8888888888888888,
              "#fdca26"
             ],
             [
              1,
              "#f0f921"
             ]
            ],
            "type": "contour"
           }
          ],
          "contourcarpet": [
           {
            "colorbar": {
             "outlinewidth": 0,
             "ticks": ""
            },
            "type": "contourcarpet"
           }
          ],
          "heatmap": [
           {
            "colorbar": {
             "outlinewidth": 0,
             "ticks": ""
            },
            "colorscale": [
             [
              0,
              "#0d0887"
             ],
             [
              0.1111111111111111,
              "#46039f"
             ],
             [
              0.2222222222222222,
              "#7201a8"
             ],
             [
              0.3333333333333333,
              "#9c179e"
             ],
             [
              0.4444444444444444,
              "#bd3786"
             ],
             [
              0.5555555555555556,
              "#d8576b"
             ],
             [
              0.6666666666666666,
              "#ed7953"
             ],
             [
              0.7777777777777778,
              "#fb9f3a"
             ],
             [
              0.8888888888888888,
              "#fdca26"
             ],
             [
              1,
              "#f0f921"
             ]
            ],
            "type": "heatmap"
           }
          ],
          "histogram": [
           {
            "marker": {
             "pattern": {
              "fillmode": "overlay",
              "size": 10,
              "solidity": 0.2
             }
            },
            "type": "histogram"
           }
          ],
          "histogram2d": [
           {
            "colorbar": {
             "outlinewidth": 0,
             "ticks": ""
            },
            "colorscale": [
             [
              0,
              "#0d0887"
             ],
             [
              0.1111111111111111,
              "#46039f"
             ],
             [
              0.2222222222222222,
              "#7201a8"
             ],
             [
              0.3333333333333333,
              "#9c179e"
             ],
             [
              0.4444444444444444,
              "#bd3786"
             ],
             [
              0.5555555555555556,
              "#d8576b"
             ],
             [
              0.6666666666666666,
              "#ed7953"
             ],
             [
              0.7777777777777778,
              "#fb9f3a"
             ],
             [
              0.8888888888888888,
              "#fdca26"
             ],
             [
              1,
              "#f0f921"
             ]
            ],
            "type": "histogram2d"
           }
          ],
          "histogram2dcontour": [
           {
            "colorbar": {
             "outlinewidth": 0,
             "ticks": ""
            },
            "colorscale": [
             [
              0,
              "#0d0887"
             ],
             [
              0.1111111111111111,
              "#46039f"
             ],
             [
              0.2222222222222222,
              "#7201a8"
             ],
             [
              0.3333333333333333,
              "#9c179e"
             ],
             [
              0.4444444444444444,
              "#bd3786"
             ],
             [
              0.5555555555555556,
              "#d8576b"
             ],
             [
              0.6666666666666666,
              "#ed7953"
             ],
             [
              0.7777777777777778,
              "#fb9f3a"
             ],
             [
              0.8888888888888888,
              "#fdca26"
             ],
             [
              1,
              "#f0f921"
             ]
            ],
            "type": "histogram2dcontour"
           }
          ],
          "mesh3d": [
           {
            "colorbar": {
             "outlinewidth": 0,
             "ticks": ""
            },
            "type": "mesh3d"
           }
          ],
          "parcoords": [
           {
            "line": {
             "colorbar": {
              "outlinewidth": 0,
              "ticks": ""
             }
            },
            "type": "parcoords"
           }
          ],
          "pie": [
           {
            "automargin": true,
            "type": "pie"
           }
          ],
          "scatter": [
           {
            "fillpattern": {
             "fillmode": "overlay",
             "size": 10,
             "solidity": 0.2
            },
            "type": "scatter"
           }
          ],
          "scatter3d": [
           {
            "line": {
             "colorbar": {
              "outlinewidth": 0,
              "ticks": ""
             }
            },
            "marker": {
             "colorbar": {
              "outlinewidth": 0,
              "ticks": ""
             }
            },
            "type": "scatter3d"
           }
          ],
          "scattercarpet": [
           {
            "marker": {
             "colorbar": {
              "outlinewidth": 0,
              "ticks": ""
             }
            },
            "type": "scattercarpet"
           }
          ],
          "scattergeo": [
           {
            "marker": {
             "colorbar": {
              "outlinewidth": 0,
              "ticks": ""
             }
            },
            "type": "scattergeo"
           }
          ],
          "scattergl": [
           {
            "marker": {
             "colorbar": {
              "outlinewidth": 0,
              "ticks": ""
             }
            },
            "type": "scattergl"
           }
          ],
          "scattermap": [
           {
            "marker": {
             "colorbar": {
              "outlinewidth": 0,
              "ticks": ""
             }
            },
            "type": "scattermap"
           }
          ],
          "scattermapbox": [
           {
            "marker": {
             "colorbar": {
              "outlinewidth": 0,
              "ticks": ""
             }
            },
            "type": "scattermapbox"
           }
          ],
          "scatterpolar": [
           {
            "marker": {
             "colorbar": {
              "outlinewidth": 0,
              "ticks": ""
             }
            },
            "type": "scatterpolar"
           }
          ],
          "scatterpolargl": [
           {
            "marker": {
             "colorbar": {
              "outlinewidth": 0,
              "ticks": ""
             }
            },
            "type": "scatterpolargl"
           }
          ],
          "scatterternary": [
           {
            "marker": {
             "colorbar": {
              "outlinewidth": 0,
              "ticks": ""
             }
            },
            "type": "scatterternary"
           }
          ],
          "surface": [
           {
            "colorbar": {
             "outlinewidth": 0,
             "ticks": ""
            },
            "colorscale": [
             [
              0,
              "#0d0887"
             ],
             [
              0.1111111111111111,
              "#46039f"
             ],
             [
              0.2222222222222222,
              "#7201a8"
             ],
             [
              0.3333333333333333,
              "#9c179e"
             ],
             [
              0.4444444444444444,
              "#bd3786"
             ],
             [
              0.5555555555555556,
              "#d8576b"
             ],
             [
              0.6666666666666666,
              "#ed7953"
             ],
             [
              0.7777777777777778,
              "#fb9f3a"
             ],
             [
              0.8888888888888888,
              "#fdca26"
             ],
             [
              1,
              "#f0f921"
             ]
            ],
            "type": "surface"
           }
          ],
          "table": [
           {
            "cells": {
             "fill": {
              "color": "#EBF0F8"
             },
             "line": {
              "color": "white"
             }
            },
            "header": {
             "fill": {
              "color": "#C8D4E3"
             },
             "line": {
              "color": "white"
             }
            },
            "type": "table"
           }
          ]
         },
         "layout": {
          "annotationdefaults": {
           "arrowcolor": "#2a3f5f",
           "arrowhead": 0,
           "arrowwidth": 1
          },
          "autotypenumbers": "strict",
          "coloraxis": {
           "colorbar": {
            "outlinewidth": 0,
            "ticks": ""
           }
          },
          "colorscale": {
           "diverging": [
            [
             0,
             "#8e0152"
            ],
            [
             0.1,
             "#c51b7d"
            ],
            [
             0.2,
             "#de77ae"
            ],
            [
             0.3,
             "#f1b6da"
            ],
            [
             0.4,
             "#fde0ef"
            ],
            [
             0.5,
             "#f7f7f7"
            ],
            [
             0.6,
             "#e6f5d0"
            ],
            [
             0.7,
             "#b8e186"
            ],
            [
             0.8,
             "#7fbc41"
            ],
            [
             0.9,
             "#4d9221"
            ],
            [
             1,
             "#276419"
            ]
           ],
           "sequential": [
            [
             0,
             "#0d0887"
            ],
            [
             0.1111111111111111,
             "#46039f"
            ],
            [
             0.2222222222222222,
             "#7201a8"
            ],
            [
             0.3333333333333333,
             "#9c179e"
            ],
            [
             0.4444444444444444,
             "#bd3786"
            ],
            [
             0.5555555555555556,
             "#d8576b"
            ],
            [
             0.6666666666666666,
             "#ed7953"
            ],
            [
             0.7777777777777778,
             "#fb9f3a"
            ],
            [
             0.8888888888888888,
             "#fdca26"
            ],
            [
             1,
             "#f0f921"
            ]
           ],
           "sequentialminus": [
            [
             0,
             "#0d0887"
            ],
            [
             0.1111111111111111,
             "#46039f"
            ],
            [
             0.2222222222222222,
             "#7201a8"
            ],
            [
             0.3333333333333333,
             "#9c179e"
            ],
            [
             0.4444444444444444,
             "#bd3786"
            ],
            [
             0.5555555555555556,
             "#d8576b"
            ],
            [
             0.6666666666666666,
             "#ed7953"
            ],
            [
             0.7777777777777778,
             "#fb9f3a"
            ],
            [
             0.8888888888888888,
             "#fdca26"
            ],
            [
             1,
             "#f0f921"
            ]
           ]
          },
          "colorway": [
           "#636efa",
           "#EF553B",
           "#00cc96",
           "#ab63fa",
           "#FFA15A",
           "#19d3f3",
           "#FF6692",
           "#B6E880",
           "#FF97FF",
           "#FECB52"
          ],
          "font": {
           "color": "#2a3f5f"
          },
          "geo": {
           "bgcolor": "white",
           "lakecolor": "white",
           "landcolor": "#E5ECF6",
           "showlakes": true,
           "showland": true,
           "subunitcolor": "white"
          },
          "hoverlabel": {
           "align": "left"
          },
          "hovermode": "closest",
          "mapbox": {
           "style": "light"
          },
          "paper_bgcolor": "white",
          "plot_bgcolor": "#E5ECF6",
          "polar": {
           "angularaxis": {
            "gridcolor": "white",
            "linecolor": "white",
            "ticks": ""
           },
           "bgcolor": "#E5ECF6",
           "radialaxis": {
            "gridcolor": "white",
            "linecolor": "white",
            "ticks": ""
           }
          },
          "scene": {
           "xaxis": {
            "backgroundcolor": "#E5ECF6",
            "gridcolor": "white",
            "gridwidth": 2,
            "linecolor": "white",
            "showbackground": true,
            "ticks": "",
            "zerolinecolor": "white"
           },
           "yaxis": {
            "backgroundcolor": "#E5ECF6",
            "gridcolor": "white",
            "gridwidth": 2,
            "linecolor": "white",
            "showbackground": true,
            "ticks": "",
            "zerolinecolor": "white"
           },
           "zaxis": {
            "backgroundcolor": "#E5ECF6",
            "gridcolor": "white",
            "gridwidth": 2,
            "linecolor": "white",
            "showbackground": true,
            "ticks": "",
            "zerolinecolor": "white"
           }
          },
          "shapedefaults": {
           "line": {
            "color": "#2a3f5f"
           }
          },
          "ternary": {
           "aaxis": {
            "gridcolor": "white",
            "linecolor": "white",
            "ticks": ""
           },
           "baxis": {
            "gridcolor": "white",
            "linecolor": "white",
            "ticks": ""
           },
           "bgcolor": "#E5ECF6",
           "caxis": {
            "gridcolor": "white",
            "linecolor": "white",
            "ticks": ""
           }
          },
          "title": {
           "x": 0.05
          },
          "xaxis": {
           "automargin": true,
           "gridcolor": "white",
           "linecolor": "white",
           "ticks": "",
           "title": {
            "standoff": 15
           },
           "zerolinecolor": "white",
           "zerolinewidth": 2
          },
          "yaxis": {
           "automargin": true,
           "gridcolor": "white",
           "linecolor": "white",
           "ticks": "",
           "title": {
            "standoff": 15
           },
           "zerolinecolor": "white",
           "zerolinewidth": 2
          }
         }
        },
        "title": {
         "text": "Visits – Last 24 Months"
        },
        "xaxis": {
         "anchor": "y",
         "domain": [
          0,
          1
         ],
         "title": {
          "text": "Year"
         }
        },
        "yaxis": {
         "anchor": "x",
         "domain": [
          0,
          1
         ],
         "title": {
          "text": "Recreation Visits"
         }
        }
       }
      },
      "image/png": "[encoded data removed]"
     },
     "metadata": {},
     "output_type": "display_data"
    },
    {
     "data": {
      "text/html": [
       "<div>\n",
       "<style scoped>\n",
       "    .dataframe tbody tr th:only-of-type {\n",
       "        vertical-align: middle;\n",
       "    }\n",
       "\n",
       "    .dataframe tbody tr th {\n",
       "        vertical-align: top;\n",
       "    }\n",
       "\n",
       "    .dataframe thead th {\n",
       "        text-align: right;\n",
       "    }\n",
       "</style>\n",
       "<table border=\"1\" class=\"dataframe\">\n",
       "  <thead>\n",
       "    <tr style=\"text-align: right;\">\n",
       "      <th></th>\n",
       "      <th>State</th>\n",
       "      <th>Date</th>\n",
       "      <th>Recreation Visits</th>\n",
       "    </tr>\n",
       "  </thead>\n",
       "  <tbody>\n",
       "    <tr>\n",
       "      <th>0</th>\n",
       "      <td>AK</td>\n",
       "      <td>2022-12-01</td>\n",
       "      <td>1972</td>\n",
       "    </tr>\n",
       "    <tr>\n",
       "      <th>250</th>\n",
       "      <td>MD</td>\n",
       "      <td>2022-12-01</td>\n",
       "      <td>74346</td>\n",
       "    </tr>\n",
       "    <tr>\n",
       "      <th>325</th>\n",
       "      <td>NM</td>\n",
       "      <td>2022-12-01</td>\n",
       "      <td>48709</td>\n",
       "    </tr>\n",
       "    <tr>\n",
       "      <th>525</th>\n",
       "      <td>WI</td>\n",
       "      <td>2022-12-01</td>\n",
       "      <td>2467</td>\n",
       "    </tr>\n",
       "    <tr>\n",
       "      <th>50</th>\n",
       "      <td>AZ</td>\n",
       "      <td>2022-12-01</td>\n",
       "      <td>29569</td>\n",
       "    </tr>\n",
       "  </tbody>\n",
       "</table>\n",
       "</div>"
      ],
      "text/plain": [
       "    State       Date  Recreation Visits\n",
       "0      AK 2022-12-01               1972\n",
       "250    MD 2022-12-01              74346\n",
       "325    NM 2022-12-01              48709\n",
       "525    WI 2022-12-01               2467\n",
       "50     AZ 2022-12-01              29569"
      ]
     },
     "execution_count": 38,
     "metadata": {},
     "output_type": "execute_result"
    }
   ],
   "source": [
    "# Recent period focus (last 24 months)\n",
    "cutoff = df[\"Date\"].max() - pd.DateOffset(months=24)\n",
    "recent = df[df[\"Date\"] >= cutoff].copy()\n",
    "\n",
    "recent_yearly = recent.groupby(\"Year\", as_index=False)[\"Recreation Visits\"].sum()\n",
    "px.bar(recent_yearly, x=\"Year\", y=\"Recreation Visits\", title=\"Visits – Last 24 Months\").show()\n",
    "\n",
    "recent_monthly_state = (\n",
    "    recent.groupby([\"State\",\"Date\"], as_index=False)[\"Recreation Visits\"].sum()\n",
    ")\n",
    "recent_monthly_state.sort_values(\"Date\").head()\n"
   ]
  },
  {
   "cell_type": "code",
   "execution_count": 39,
   "id": "e64a8e34-fb22-4fe2-8087-31bdd949aac6",
   "metadata": {},
   "outputs": [],
   "source": [
    "# Save EDA artifacts for the dashboard\n",
    "df.to_csv(\"../data/cleaned/_eda_base_all_rows.csv\", index=False)\n",
    "yearly.to_csv(\"../data/cleaned/_eda_yearly_totals.csv\", index=False)\n",
    "monthly.to_csv(\"../data/cleaned/_eda_monthly_totals.csv\", index=False)\n",
    "top_parks.to_csv(\"../data/cleaned/_eda_top_parks_total.csv\", index=False)\n",
    "park_month.to_csv(\"../data/cleaned/_eda_park_month_panel.csv\", index=False)\n",
    "latest.to_csv(\"../data/cleaned/_eda_latest_yoy_per_park.csv\", index=False)\n"
   ]
  },
  {
   "cell_type": "code",
   "execution_count": 40,
   "id": "6c69ac9d-c19a-4fe5-b970-00def2e725ed",
   "metadata": {},
   "outputs": [
    {
     "name": "stdout",
     "output_type": "stream",
     "text": [
      "Bad months: 0\n",
      "Extreme spikes (>= 2439625): 29\n"
     ]
    },
    {
     "data": {
      "text/html": [
       "<div>\n",
       "<style scoped>\n",
       "    .dataframe tbody tr th:only-of-type {\n",
       "        vertical-align: middle;\n",
       "    }\n",
       "\n",
       "    .dataframe tbody tr th {\n",
       "        vertical-align: top;\n",
       "    }\n",
       "\n",
       "    .dataframe thead th {\n",
       "        text-align: right;\n",
       "    }\n",
       "</style>\n",
       "<table border=\"1\" class=\"dataframe\">\n",
       "  <thead>\n",
       "    <tr style=\"text-align: right;\">\n",
       "      <th></th>\n",
       "      <th>Park</th>\n",
       "      <th>Unit Code</th>\n",
       "      <th>Park Type</th>\n",
       "      <th>Region</th>\n",
       "      <th>State</th>\n",
       "      <th>Year</th>\n",
       "      <th>Month</th>\n",
       "      <th>Recreation Visits</th>\n",
       "      <th>Date</th>\n",
       "    </tr>\n",
       "  </thead>\n",
       "  <tbody>\n",
       "    <tr>\n",
       "      <th>12669</th>\n",
       "      <td>Blue Ridge PKWY</td>\n",
       "      <td>BLRI</td>\n",
       "      <td>National Parkway</td>\n",
       "      <td>Southeast</td>\n",
       "      <td>NC</td>\n",
       "      <td>1987</td>\n",
       "      <td>10</td>\n",
       "      <td>3181024</td>\n",
       "      <td>1987-10-01</td>\n",
       "    </tr>\n",
       "    <tr>\n",
       "      <th>12846</th>\n",
       "      <td>Blue Ridge PKWY</td>\n",
       "      <td>BLRI</td>\n",
       "      <td>National Parkway</td>\n",
       "      <td>Southeast</td>\n",
       "      <td>NC</td>\n",
       "      <td>2002</td>\n",
       "      <td>7</td>\n",
       "      <td>2899584</td>\n",
       "      <td>2002-07-01</td>\n",
       "    </tr>\n",
       "    <tr>\n",
       "      <th>12681</th>\n",
       "      <td>Blue Ridge PKWY</td>\n",
       "      <td>BLRI</td>\n",
       "      <td>National Parkway</td>\n",
       "      <td>Southeast</td>\n",
       "      <td>NC</td>\n",
       "      <td>1988</td>\n",
       "      <td>10</td>\n",
       "      <td>2854160</td>\n",
       "      <td>1988-10-01</td>\n",
       "    </tr>\n",
       "    <tr>\n",
       "      <th>12644</th>\n",
       "      <td>Blue Ridge PKWY</td>\n",
       "      <td>BLRI</td>\n",
       "      <td>National Parkway</td>\n",
       "      <td>Southeast</td>\n",
       "      <td>NC</td>\n",
       "      <td>1985</td>\n",
       "      <td>9</td>\n",
       "      <td>2827523</td>\n",
       "      <td>1985-09-01</td>\n",
       "    </tr>\n",
       "    <tr>\n",
       "      <th>12654</th>\n",
       "      <td>Blue Ridge PKWY</td>\n",
       "      <td>BLRI</td>\n",
       "      <td>National Parkway</td>\n",
       "      <td>Southeast</td>\n",
       "      <td>NC</td>\n",
       "      <td>1986</td>\n",
       "      <td>7</td>\n",
       "      <td>2797084</td>\n",
       "      <td>1986-07-01</td>\n",
       "    </tr>\n",
       "    <tr>\n",
       "      <th>12679</th>\n",
       "      <td>Blue Ridge PKWY</td>\n",
       "      <td>BLRI</td>\n",
       "      <td>National Parkway</td>\n",
       "      <td>Southeast</td>\n",
       "      <td>NC</td>\n",
       "      <td>1988</td>\n",
       "      <td>8</td>\n",
       "      <td>2751655</td>\n",
       "      <td>1988-08-01</td>\n",
       "    </tr>\n",
       "    <tr>\n",
       "      <th>12837</th>\n",
       "      <td>Blue Ridge PKWY</td>\n",
       "      <td>BLRI</td>\n",
       "      <td>National Parkway</td>\n",
       "      <td>Southeast</td>\n",
       "      <td>NC</td>\n",
       "      <td>2001</td>\n",
       "      <td>10</td>\n",
       "      <td>2680206</td>\n",
       "      <td>2001-10-01</td>\n",
       "    </tr>\n",
       "    <tr>\n",
       "      <th>12678</th>\n",
       "      <td>Blue Ridge PKWY</td>\n",
       "      <td>BLRI</td>\n",
       "      <td>National Parkway</td>\n",
       "      <td>Southeast</td>\n",
       "      <td>NC</td>\n",
       "      <td>1988</td>\n",
       "      <td>7</td>\n",
       "      <td>2657826</td>\n",
       "      <td>1988-07-01</td>\n",
       "    </tr>\n",
       "    <tr>\n",
       "      <th>12667</th>\n",
       "      <td>Blue Ridge PKWY</td>\n",
       "      <td>BLRI</td>\n",
       "      <td>National Parkway</td>\n",
       "      <td>Southeast</td>\n",
       "      <td>NC</td>\n",
       "      <td>1987</td>\n",
       "      <td>8</td>\n",
       "      <td>2656403</td>\n",
       "      <td>1987-08-01</td>\n",
       "    </tr>\n",
       "    <tr>\n",
       "      <th>12666</th>\n",
       "      <td>Blue Ridge PKWY</td>\n",
       "      <td>BLRI</td>\n",
       "      <td>National Parkway</td>\n",
       "      <td>Southeast</td>\n",
       "      <td>NC</td>\n",
       "      <td>1987</td>\n",
       "      <td>7</td>\n",
       "      <td>2613325</td>\n",
       "      <td>1987-07-01</td>\n",
       "    </tr>\n",
       "  </tbody>\n",
       "</table>\n",
       "</div>"
      ],
      "text/plain": [
       "                  Park Unit Code         Park Type     Region State  Year  Month  Recreation Visits       Date\n",
       "12669  Blue Ridge PKWY      BLRI  National Parkway  Southeast    NC  1987     10            3181024 1987-10-01\n",
       "12846  Blue Ridge PKWY      BLRI  National Parkway  Southeast    NC  2002      7            2899584 2002-07-01\n",
       "12681  Blue Ridge PKWY      BLRI  National Parkway  Southeast    NC  1988     10            2854160 1988-10-01\n",
       "12644  Blue Ridge PKWY      BLRI  National Parkway  Southeast    NC  1985      9            2827523 1985-09-01\n",
       "12654  Blue Ridge PKWY      BLRI  National Parkway  Southeast    NC  1986      7            2797084 1986-07-01\n",
       "12679  Blue Ridge PKWY      BLRI  National Parkway  Southeast    NC  1988      8            2751655 1988-08-01\n",
       "12837  Blue Ridge PKWY      BLRI  National Parkway  Southeast    NC  2001     10            2680206 2001-10-01\n",
       "12678  Blue Ridge PKWY      BLRI  National Parkway  Southeast    NC  1988      7            2657826 1988-07-01\n",
       "12667  Blue Ridge PKWY      BLRI  National Parkway  Southeast    NC  1987      8            2656403 1987-08-01\n",
       "12666  Blue Ridge PKWY      BLRI  National Parkway  Southeast    NC  1987      7            2613325 1987-07-01"
      ]
     },
     "execution_count": 40,
     "metadata": {},
     "output_type": "execute_result"
    }
   ],
   "source": [
    "# Quick data-quality flags\n",
    "# Impossible month values?\n",
    "print(\"Bad months:\", df.loc[~df[\"Month\"].between(1,12)].shape[0])\n",
    "\n",
    "# Extremely large spikes (top 0.1%)\n",
    "cap = df[\"Recreation Visits\"].quantile(0.999)\n",
    "spikes = df[df[\"Recreation Visits\"] >= cap].sort_values(\"Recreation Visits\", ascending=False)\n",
    "print(f\"Extreme spikes (>= {int(cap)}):\", len(spikes))\n",
    "spikes.head(10)\n"
   ]
  },
  {
   "cell_type": "code",
   "execution_count": 45,
   "id": "4aeea835-84d7-435f-b357-05fa9972c359",
   "metadata": {},
   "outputs": [],
   "source": [
    "# Hotspot vs Off-Season Labeling by State\n",
    "# Hotspot vs Off-Season labeling ---\n",
    "\n",
    "selected_year  = 2024\n",
    "selected_month = 7\n",
    "\n",
    "# 1) Filter for that month\n",
    "month_df = df[(df[\"Year\"] == selected_year) & (df[\"Month\"] == selected_month)]\n",
    "\n",
    "# 2) Aggregate at state level\n",
    "state_avg = (\n",
    "    month_df.groupby(\"State\", as_index=False)[\"Recreation Visits\"].mean()\n",
    ")\n",
    "\n",
    "# 3) Determine thresholds\n",
    "hot_threshold = state_avg[\"Recreation Visits\"].quantile(0.75)\n",
    "cold_threshold = state_avg[\"Recreation Visits\"].quantile(0.25)"
   ]
  },
  {
   "cell_type": "code",
   "execution_count": 46,
   "id": "bc163290-e828-4a87-93b9-74a190456f21",
   "metadata": {},
   "outputs": [
    {
     "data": {
      "application/vnd.plotly.v1+json": {
       "config": {
        "plotlyServerURL": "https://plot.ly"
       },
       "data": [
        {
         "colorscale": [
          [
           0,
           "blue"
          ],
          [
           1,
           "blue"
          ]
         ],
         "geo": "geo",
         "hovertemplate": "Season_Label=Off-Season<br>State=%{location}<extra></extra>",
         "locationmode": "USA-states",
         "locations": [
          "AK",
          "GA",
          "KS",
          "LA",
          "VI",
          "WV"
         ],
         "name": "Off-Season",
         "showlegend": true,
         "showscale": false,
         "type": "choropleth",
         "z": [
          1,
          1,
          1,
          1,
          1,
          1
         ]
        },
        {
         "colorscale": [
          [
           0,
           "orange"
          ],
          [
           1,
           "orange"
          ]
         ],
         "geo": "geo",
         "hovertemplate": "Season_Label=Moderate<br>State=%{location}<extra></extra>",
         "locationmode": "USA-states",
         "locations": [
          "AR",
          "AZ",
          "CA",
          "CO",
          "FL",
          "MT",
          "NM",
          "TN",
          "TX",
          "VA",
          "WI"
         ],
         "name": "Moderate",
         "showlegend": true,
         "showscale": false,
         "type": "choropleth",
         "z": [
          1,
          1,
          1,
          1,
          1,
          1,
          1,
          1,
          1,
          1,
          1
         ]
        },
        {
         "colorscale": [
          [
           0,
           "red"
          ],
          [
           1,
           "red"
          ]
         ],
         "geo": "geo",
         "hovertemplate": "Season_Label=Hotspot<br>State=%{location}<extra></extra>",
         "locationmode": "USA-states",
         "locations": [
          "MA",
          "MD",
          "NC",
          "NY",
          "SD",
          "UT"
         ],
         "name": "Hotspot",
         "showlegend": true,
         "showscale": false,
         "type": "choropleth",
         "z": [
          1,
          1,
          1,
          1,
          1,
          1
         ]
        }
       ],
       "layout": {
        "geo": {
         "center": {},
         "domain": {
          "x": [
           0,
           1
          ],
          "y": [
           0,
           1
          ]
         },
         "scope": "usa"
        },
        "legend": {
         "title": {
          "text": "Season_Label"
         },
         "tracegroupgap": 0
        },
        "template": {
         "data": {
          "bar": [
           {
            "error_x": {
             "color": "#2a3f5f"
            },
            "error_y": {
             "color": "#2a3f5f"
            },
            "marker": {
             "line": {
              "color": "#E5ECF6",
              "width": 0.5
             },
             "pattern": {
              "fillmode": "overlay",
              "size": 10,
              "solidity": 0.2
             }
            },
            "type": "bar"
           }
          ],
          "barpolar": [
           {
            "marker": {
             "line": {
              "color": "#E5ECF6",
              "width": 0.5
             },
             "pattern": {
              "fillmode": "overlay",
              "size": 10,
              "solidity": 0.2
             }
            },
            "type": "barpolar"
           }
          ],
          "carpet": [
           {
            "aaxis": {
             "endlinecolor": "#2a3f5f",
             "gridcolor": "white",
             "linecolor": "white",
             "minorgridcolor": "white",
             "startlinecolor": "#2a3f5f"
            },
            "baxis": {
             "endlinecolor": "#2a3f5f",
             "gridcolor": "white",
             "linecolor": "white",
             "minorgridcolor": "white",
             "startlinecolor": "#2a3f5f"
            },
            "type": "carpet"
           }
          ],
          "choropleth": [
           {
            "colorbar": {
             "outlinewidth": 0,
             "ticks": ""
            },
            "type": "choropleth"
           }
          ],
          "contour": [
           {
            "colorbar": {
             "outlinewidth": 0,
             "ticks": ""
            },
            "colorscale": [
             [
              0,
              "#0d0887"
             ],
             [
              0.1111111111111111,
              "#46039f"
             ],
             [
              0.2222222222222222,
              "#7201a8"
             ],
             [
              0.3333333333333333,
              "#9c179e"
             ],
             [
              0.4444444444444444,
              "#bd3786"
             ],
             [
              0.5555555555555556,
              "#d8576b"
             ],
             [
              0.6666666666666666,
              "#ed7953"
             ],
             [
              0.7777777777777778,
              "#fb9f3a"
             ],
             [
              0.8888888888888888,
              "#fdca26"
             ],
             [
              1,
              "#f0f921"
             ]
            ],
            "type": "contour"
           }
          ],
          "contourcarpet": [
           {
            "colorbar": {
             "outlinewidth": 0,
             "ticks": ""
            },
            "type": "contourcarpet"
           }
          ],
          "heatmap": [
           {
            "colorbar": {
             "outlinewidth": 0,
             "ticks": ""
            },
            "colorscale": [
             [
              0,
              "#0d0887"
             ],
             [
              0.1111111111111111,
              "#46039f"
             ],
             [
              0.2222222222222222,
              "#7201a8"
             ],
             [
              0.3333333333333333,
              "#9c179e"
             ],
             [
              0.4444444444444444,
              "#bd3786"
             ],
             [
              0.5555555555555556,
              "#d8576b"
             ],
             [
              0.6666666666666666,
              "#ed7953"
             ],
             [
              0.7777777777777778,
              "#fb9f3a"
             ],
             [
              0.8888888888888888,
              "#fdca26"
             ],
             [
              1,
              "#f0f921"
             ]
            ],
            "type": "heatmap"
           }
          ],
          "histogram": [
           {
            "marker": {
             "pattern": {
              "fillmode": "overlay",
              "size": 10,
              "solidity": 0.2
             }
            },
            "type": "histogram"
           }
          ],
          "histogram2d": [
           {
            "colorbar": {
             "outlinewidth": 0,
             "ticks": ""
            },
            "colorscale": [
             [
              0,
              "#0d0887"
             ],
             [
              0.1111111111111111,
              "#46039f"
             ],
             [
              0.2222222222222222,
              "#7201a8"
             ],
             [
              0.3333333333333333,
              "#9c179e"
             ],
             [
              0.4444444444444444,
              "#bd3786"
             ],
             [
              0.5555555555555556,
              "#d8576b"
             ],
             [
              0.6666666666666666,
              "#ed7953"
             ],
             [
              0.7777777777777778,
              "#fb9f3a"
             ],
             [
              0.8888888888888888,
              "#fdca26"
             ],
             [
              1,
              "#f0f921"
             ]
            ],
            "type": "histogram2d"
           }
          ],
          "histogram2dcontour": [
           {
            "colorbar": {
             "outlinewidth": 0,
             "ticks": ""
            },
            "colorscale": [
             [
              0,
              "#0d0887"
             ],
             [
              0.1111111111111111,
              "#46039f"
             ],
             [
              0.2222222222222222,
              "#7201a8"
             ],
             [
              0.3333333333333333,
              "#9c179e"
             ],
             [
              0.4444444444444444,
              "#bd3786"
             ],
             [
              0.5555555555555556,
              "#d8576b"
             ],
             [
              0.6666666666666666,
              "#ed7953"
             ],
             [
              0.7777777777777778,
              "#fb9f3a"
             ],
             [
              0.8888888888888888,
              "#fdca26"
             ],
             [
              1,
              "#f0f921"
             ]
            ],
            "type": "histogram2dcontour"
           }
          ],
          "mesh3d": [
           {
            "colorbar": {
             "outlinewidth": 0,
             "ticks": ""
            },
            "type": "mesh3d"
           }
          ],
          "parcoords": [
           {
            "line": {
             "colorbar": {
              "outlinewidth": 0,
              "ticks": ""
             }
            },
            "type": "parcoords"
           }
          ],
          "pie": [
           {
            "automargin": true,
            "type": "pie"
           }
          ],
          "scatter": [
           {
            "fillpattern": {
             "fillmode": "overlay",
             "size": 10,
             "solidity": 0.2
            },
            "type": "scatter"
           }
          ],
          "scatter3d": [
           {
            "line": {
             "colorbar": {
              "outlinewidth": 0,
              "ticks": ""
             }
            },
            "marker": {
             "colorbar": {
              "outlinewidth": 0,
              "ticks": ""
             }
            },
            "type": "scatter3d"
           }
          ],
          "scattercarpet": [
           {
            "marker": {
             "colorbar": {
              "outlinewidth": 0,
              "ticks": ""
             }
            },
            "type": "scattercarpet"
           }
          ],
          "scattergeo": [
           {
            "marker": {
             "colorbar": {
              "outlinewidth": 0,
              "ticks": ""
             }
            },
            "type": "scattergeo"
           }
          ],
          "scattergl": [
           {
            "marker": {
             "colorbar": {
              "outlinewidth": 0,
              "ticks": ""
             }
            },
            "type": "scattergl"
           }
          ],
          "scattermap": [
           {
            "marker": {
             "colorbar": {
              "outlinewidth": 0,
              "ticks": ""
             }
            },
            "type": "scattermap"
           }
          ],
          "scattermapbox": [
           {
            "marker": {
             "colorbar": {
              "outlinewidth": 0,
              "ticks": ""
             }
            },
            "type": "scattermapbox"
           }
          ],
          "scatterpolar": [
           {
            "marker": {
             "colorbar": {
              "outlinewidth": 0,
              "ticks": ""
             }
            },
            "type": "scatterpolar"
           }
          ],
          "scatterpolargl": [
           {
            "marker": {
             "colorbar": {
              "outlinewidth": 0,
              "ticks": ""
             }
            },
            "type": "scatterpolargl"
           }
          ],
          "scatterternary": [
           {
            "marker": {
             "colorbar": {
              "outlinewidth": 0,
              "ticks": ""
             }
            },
            "type": "scatterternary"
           }
          ],
          "surface": [
           {
            "colorbar": {
             "outlinewidth": 0,
             "ticks": ""
            },
            "colorscale": [
             [
              0,
              "#0d0887"
             ],
             [
              0.1111111111111111,
              "#46039f"
             ],
             [
              0.2222222222222222,
              "#7201a8"
             ],
             [
              0.3333333333333333,
              "#9c179e"
             ],
             [
              0.4444444444444444,
              "#bd3786"
             ],
             [
              0.5555555555555556,
              "#d8576b"
             ],
             [
              0.6666666666666666,
              "#ed7953"
             ],
             [
              0.7777777777777778,
              "#fb9f3a"
             ],
             [
              0.8888888888888888,
              "#fdca26"
             ],
             [
              1,
              "#f0f921"
             ]
            ],
            "type": "surface"
           }
          ],
          "table": [
           {
            "cells": {
             "fill": {
              "color": "#EBF0F8"
             },
             "line": {
              "color": "white"
             }
            },
            "header": {
             "fill": {
              "color": "#C8D4E3"
             },
             "line": {
              "color": "white"
             }
            },
            "type": "table"
           }
          ]
         },
         "layout": {
          "annotationdefaults": {
           "arrowcolor": "#2a3f5f",
           "arrowhead": 0,
           "arrowwidth": 1
          },
          "autotypenumbers": "strict",
          "coloraxis": {
           "colorbar": {
            "outlinewidth": 0,
            "ticks": ""
           }
          },
          "colorscale": {
           "diverging": [
            [
             0,
             "#8e0152"
            ],
            [
             0.1,
             "#c51b7d"
            ],
            [
             0.2,
             "#de77ae"
            ],
            [
             0.3,
             "#f1b6da"
            ],
            [
             0.4,
             "#fde0ef"
            ],
            [
             0.5,
             "#f7f7f7"
            ],
            [
             0.6,
             "#e6f5d0"
            ],
            [
             0.7,
             "#b8e186"
            ],
            [
             0.8,
             "#7fbc41"
            ],
            [
             0.9,
             "#4d9221"
            ],
            [
             1,
             "#276419"
            ]
           ],
           "sequential": [
            [
             0,
             "#0d0887"
            ],
            [
             0.1111111111111111,
             "#46039f"
            ],
            [
             0.2222222222222222,
             "#7201a8"
            ],
            [
             0.3333333333333333,
             "#9c179e"
            ],
            [
             0.4444444444444444,
             "#bd3786"
            ],
            [
             0.5555555555555556,
             "#d8576b"
            ],
            [
             0.6666666666666666,
             "#ed7953"
            ],
            [
             0.7777777777777778,
             "#fb9f3a"
            ],
            [
             0.8888888888888888,
             "#fdca26"
            ],
            [
             1,
             "#f0f921"
            ]
           ],
           "sequentialminus": [
            [
             0,
             "#0d0887"
            ],
            [
             0.1111111111111111,
             "#46039f"
            ],
            [
             0.2222222222222222,
             "#7201a8"
            ],
            [
             0.3333333333333333,
             "#9c179e"
            ],
            [
             0.4444444444444444,
             "#bd3786"
            ],
            [
             0.5555555555555556,
             "#d8576b"
            ],
            [
             0.6666666666666666,
             "#ed7953"
            ],
            [
             0.7777777777777778,
             "#fb9f3a"
            ],
            [
             0.8888888888888888,
             "#fdca26"
            ],
            [
             1,
             "#f0f921"
            ]
           ]
          },
          "colorway": [
           "#636efa",
           "#EF553B",
           "#00cc96",
           "#ab63fa",
           "#FFA15A",
           "#19d3f3",
           "#FF6692",
           "#B6E880",
           "#FF97FF",
           "#FECB52"
          ],
          "font": {
           "color": "#2a3f5f"
          },
          "geo": {
           "bgcolor": "white",
           "lakecolor": "white",
           "landcolor": "#E5ECF6",
           "showlakes": true,
           "showland": true,
           "subunitcolor": "white"
          },
          "hoverlabel": {
           "align": "left"
          },
          "hovermode": "closest",
          "mapbox": {
           "style": "light"
          },
          "paper_bgcolor": "white",
          "plot_bgcolor": "#E5ECF6",
          "polar": {
           "angularaxis": {
            "gridcolor": "white",
            "linecolor": "white",
            "ticks": ""
           },
           "bgcolor": "#E5ECF6",
           "radialaxis": {
            "gridcolor": "white",
            "linecolor": "white",
            "ticks": ""
           }
          },
          "scene": {
           "xaxis": {
            "backgroundcolor": "#E5ECF6",
            "gridcolor": "white",
            "gridwidth": 2,
            "linecolor": "white",
            "showbackground": true,
            "ticks": "",
            "zerolinecolor": "white"
           },
           "yaxis": {
            "backgroundcolor": "#E5ECF6",
            "gridcolor": "white",
            "gridwidth": 2,
            "linecolor": "white",
            "showbackground": true,
            "ticks": "",
            "zerolinecolor": "white"
           },
           "zaxis": {
            "backgroundcolor": "#E5ECF6",
            "gridcolor": "white",
            "gridwidth": 2,
            "linecolor": "white",
            "showbackground": true,
            "ticks": "",
            "zerolinecolor": "white"
           }
          },
          "shapedefaults": {
           "line": {
            "color": "#2a3f5f"
           }
          },
          "ternary": {
           "aaxis": {
            "gridcolor": "white",
            "linecolor": "white",
            "ticks": ""
           },
           "baxis": {
            "gridcolor": "white",
            "linecolor": "white",
            "ticks": ""
           },
           "bgcolor": "#E5ECF6",
           "caxis": {
            "gridcolor": "white",
            "linecolor": "white",
            "ticks": ""
           }
          },
          "title": {
           "x": 0.05
          },
          "xaxis": {
           "automargin": true,
           "gridcolor": "white",
           "linecolor": "white",
           "ticks": "",
           "title": {
            "standoff": 15
           },
           "zerolinecolor": "white",
           "zerolinewidth": 2
          },
          "yaxis": {
           "automargin": true,
           "gridcolor": "white",
           "linecolor": "white",
           "ticks": "",
           "title": {
            "standoff": 15
           },
           "zerolinecolor": "white",
           "zerolinewidth": 2
          }
         }
        },
        "title": {
         "text": "State Demand Classification (2024-07)"
        }
       }
      },
      "image/png": "[encoded data removed]"
     },
     "metadata": {},
     "output_type": "display_data"
    }
   ],
   "source": [
    "# 4) Assign category\n",
    "state_avg[\"Season_Label\"] = state_avg[\"Recreation Visits\"].apply(\n",
    "    lambda x: \"Hotspot\" if x >= hot_threshold else (\"Off-Season\" if x <= cold_threshold else \"Moderate\")\n",
    ")\n",
    "\n",
    "# 5) Visualize\n",
    "import plotly.express as px\n",
    "\n",
    "fig = px.choropleth(\n",
    "    state_avg,\n",
    "    locations=\"State\", locationmode=\"USA-states\",\n",
    "    color=\"Season_Label\",\n",
    "    title=f\"State Demand Classification ({selected_year}-{selected_month:02d})\",\n",
    "    scope=\"usa\",\n",
    "    color_discrete_map={\"Hotspot\":\"red\",\"Moderate\":\"orange\",\"Off-Season\":\"blue\"}\n",
    ")\n",
    "fig.show()"
   ]
  },
  {
   "cell_type": "code",
   "execution_count": 48,
   "id": "3e8bd924-e2fd-42f8-aace-beb216e16e47",
   "metadata": {},
   "outputs": [],
   "source": [
    "# 1) Create monthly series per park\n",
    "park_ts = (\n",
    "    df.groupby([\"Park\",\"Year\",\"Month\"], as_index=False)[\"Recreation Visits\"].sum()\n",
    ")\n",
    "park_ts[\"Date\"] = pd.to_datetime(dict(year=park_ts[\"Year\"], month=park_ts[\"Month\"], day=1))"
   ]
  },
  {
   "cell_type": "code",
   "execution_count": 50,
   "id": "d97dc594-8721-4db2-a36d-e2d6f4e2c4a8",
   "metadata": {},
   "outputs": [],
   "source": [
    "# 2) Sort and compute rolling sum\n",
    "park_ts = park_ts.sort_values([\"Park\",\"Date\"])\n",
    "park_ts[\"Rolling_12M\"] = park_ts.groupby(\"Park\")[\"Recreation Visits\"].transform(lambda x: x.rolling(12, min_periods=6).sum())\n",
    "\n",
    "# 3) Compute month-to-month growth\n",
    "park_ts[\"Rolling_Growth\"] = park_ts.groupby(\"Park\")[\"Rolling_12M\"].pct_change(fill_method=None)\n"
   ]
  },
  {
   "cell_type": "code",
   "execution_count": 51,
   "id": "b84aabea-3c52-48e2-bc4d-ae2da7bc6acf",
   "metadata": {},
   "outputs": [
    {
     "name": "stdout",
     "output_type": "stream",
     "text": [
      "Top 10 Trending Parks (12-Month Rolling Growth):\n"
     ]
    },
    {
     "data": {
      "text/html": [
       "<div>\n",
       "<style scoped>\n",
       "    .dataframe tbody tr th:only-of-type {\n",
       "        vertical-align: middle;\n",
       "    }\n",
       "\n",
       "    .dataframe tbody tr th {\n",
       "        vertical-align: top;\n",
       "    }\n",
       "\n",
       "    .dataframe thead th {\n",
       "        text-align: right;\n",
       "    }\n",
       "</style>\n",
       "<table border=\"1\" class=\"dataframe\">\n",
       "  <thead>\n",
       "    <tr style=\"text-align: right;\">\n",
       "      <th></th>\n",
       "      <th>Park</th>\n",
       "      <th>Rolling_12M</th>\n",
       "      <th>Rolling_Growth</th>\n",
       "    </tr>\n",
       "  </thead>\n",
       "  <tbody>\n",
       "    <tr>\n",
       "      <th>14159</th>\n",
       "      <td>Boston Harbor Islands NRA</td>\n",
       "      <td>28157.0</td>\n",
       "      <td>0.058255</td>\n",
       "    </tr>\n",
       "    <tr>\n",
       "      <th>24199</th>\n",
       "      <td>Casa Grande Ruins NM</td>\n",
       "      <td>104429.0</td>\n",
       "      <td>0.055980</td>\n",
       "    </tr>\n",
       "    <tr>\n",
       "      <th>8999</th>\n",
       "      <td>Big Cypress NPRES</td>\n",
       "      <td>2216708.0</td>\n",
       "      <td>0.053804</td>\n",
       "    </tr>\n",
       "    <tr>\n",
       "      <th>13115</th>\n",
       "      <td>Bluestone NSR</td>\n",
       "      <td>7327.0</td>\n",
       "      <td>0.048512</td>\n",
       "    </tr>\n",
       "    <tr>\n",
       "      <th>18619</th>\n",
       "      <td>Canyon de Chelly NM</td>\n",
       "      <td>387433.0</td>\n",
       "      <td>0.047855</td>\n",
       "    </tr>\n",
       "    <tr>\n",
       "      <th>18067</th>\n",
       "      <td>Cane River Creole NHP</td>\n",
       "      <td>12592.0</td>\n",
       "      <td>0.043421</td>\n",
       "    </tr>\n",
       "    <tr>\n",
       "      <th>7031</th>\n",
       "      <td>Bandelier NM</td>\n",
       "      <td>213595.0</td>\n",
       "      <td>0.040805</td>\n",
       "    </tr>\n",
       "    <tr>\n",
       "      <th>26551</th>\n",
       "      <td>Cesar E. Chavez NM</td>\n",
       "      <td>26641.0</td>\n",
       "      <td>0.031438</td>\n",
       "    </tr>\n",
       "    <tr>\n",
       "      <th>2063</th>\n",
       "      <td>Antietam NB</td>\n",
       "      <td>197340.0</td>\n",
       "      <td>0.030884</td>\n",
       "    </tr>\n",
       "    <tr>\n",
       "      <th>551</th>\n",
       "      <td>Andersonville NHS</td>\n",
       "      <td>72925.0</td>\n",
       "      <td>0.029505</td>\n",
       "    </tr>\n",
       "  </tbody>\n",
       "</table>\n",
       "</div>"
      ],
      "text/plain": [
       "                            Park  Rolling_12M  Rolling_Growth\n",
       "14159  Boston Harbor Islands NRA      28157.0        0.058255\n",
       "24199       Casa Grande Ruins NM     104429.0        0.055980\n",
       "8999           Big Cypress NPRES    2216708.0        0.053804\n",
       "13115              Bluestone NSR       7327.0        0.048512\n",
       "18619        Canyon de Chelly NM     387433.0        0.047855\n",
       "18067      Cane River Creole NHP      12592.0        0.043421\n",
       "7031                Bandelier NM     213595.0        0.040805\n",
       "26551         Cesar E. Chavez NM      26641.0        0.031438\n",
       "2063                 Antietam NB     197340.0        0.030884\n",
       "551            Andersonville NHS      72925.0        0.029505"
      ]
     },
     "metadata": {},
     "output_type": "display_data"
    }
   ],
   "source": [
    "# Get latest available growth\n",
    "latest_rows = park_ts.groupby(\"Park\")[\"Date\"].idxmax()\n",
    "latest_growth = park_ts.loc[latest_rows].dropna(subset=[\"Rolling_Growth\"])\n",
    "\n",
    "# Top trending\n",
    "top_trending = latest_growth.sort_values(\"Rolling_Growth\", ascending=False).head(10)\n",
    "\n",
    "print(\"Top 10 Trending Parks (12-Month Rolling Growth):\")\n",
    "display(top_trending[[\"Park\",\"Rolling_12M\",\"Rolling_Growth\"]])\n"
   ]
  },
  {
   "cell_type": "code",
   "execution_count": 52,
   "id": "812e0f8d-6c29-4a8b-9ca7-10b52b09d7ca",
   "metadata": {},
   "outputs": [
    {
     "data": {
      "application/vnd.plotly.v1+json": {
       "config": {
        "plotlyServerURL": "https://plot.ly"
       },
       "data": [
        {
         "hovertemplate": "Rolling_Growth=%{x}<br>Park=%{y}<extra></extra>",
         "legendgroup": "",
         "marker": {
          "color": "#636efa",
          "pattern": {
           "shape": ""
          }
         },
         "name": "",
         "orientation": "h",
         "showlegend": false,
         "textposition": "auto",
         "type": "bar",
         "x": {
          "bdata": "gNEIqJs2nj+AkwtM+J+fPwDZ8oKUGKA/4PImlV3kpD9AHrwfOjumP2CDChCAgKg/QMp0sYfWqD8gKuJsLYyrP2AGeeBeqaw/oD6sDqXTrT8=",
          "dtype": "f8"
         },
         "xaxis": "x",
         "y": [
          "Andersonville NHS",
          "Antietam NB",
          "Cesar E. Chavez NM",
          "Bandelier NM",
          "Cane River Creole NHP",
          "Canyon de Chelly NM",
          "Bluestone NSR",
          "Big Cypress NPRES",
          "Casa Grande Ruins NM",
          "Boston Harbor Islands NRA"
         ],
         "yaxis": "y"
        }
       ],
       "layout": {
        "barmode": "relative",
        "legend": {
         "tracegroupgap": 0
        },
        "template": {
         "data": {
          "bar": [
           {
            "error_x": {
             "color": "#2a3f5f"
            },
            "error_y": {
             "color": "#2a3f5f"
            },
            "marker": {
             "line": {
              "color": "#E5ECF6",
              "width": 0.5
             },
             "pattern": {
              "fillmode": "overlay",
              "size": 10,
              "solidity": 0.2
             }
            },
            "type": "bar"
           }
          ],
          "barpolar": [
           {
            "marker": {
             "line": {
              "color": "#E5ECF6",
              "width": 0.5
             },
             "pattern": {
              "fillmode": "overlay",
              "size": 10,
              "solidity": 0.2
             }
            },
            "type": "barpolar"
           }
          ],
          "carpet": [
           {
            "aaxis": {
             "endlinecolor": "#2a3f5f",
             "gridcolor": "white",
             "linecolor": "white",
             "minorgridcolor": "white",
             "startlinecolor": "#2a3f5f"
            },
            "baxis": {
             "endlinecolor": "#2a3f5f",
             "gridcolor": "white",
             "linecolor": "white",
             "minorgridcolor": "white",
             "startlinecolor": "#2a3f5f"
            },
            "type": "carpet"
           }
          ],
          "choropleth": [
           {
            "colorbar": {
             "outlinewidth": 0,
             "ticks": ""
            },
            "type": "choropleth"
           }
          ],
          "contour": [
           {
            "colorbar": {
             "outlinewidth": 0,
             "ticks": ""
            },
            "colorscale": [
             [
              0,
              "#0d0887"
             ],
             [
              0.1111111111111111,
              "#46039f"
             ],
             [
              0.2222222222222222,
              "#7201a8"
             ],
             [
              0.3333333333333333,
              "#9c179e"
             ],
             [
              0.4444444444444444,
              "#bd3786"
             ],
             [
              0.5555555555555556,
              "#d8576b"
             ],
             [
              0.6666666666666666,
              "#ed7953"
             ],
             [
              0.7777777777777778,
              "#fb9f3a"
             ],
             [
              0.8888888888888888,
              "#fdca26"
             ],
             [
              1,
              "#f0f921"
             ]
            ],
            "type": "contour"
           }
          ],
          "contourcarpet": [
           {
            "colorbar": {
             "outlinewidth": 0,
             "ticks": ""
            },
            "type": "contourcarpet"
           }
          ],
          "heatmap": [
           {
            "colorbar": {
             "outlinewidth": 0,
             "ticks": ""
            },
            "colorscale": [
             [
              0,
              "#0d0887"
             ],
             [
              0.1111111111111111,
              "#46039f"
             ],
             [
              0.2222222222222222,
              "#7201a8"
             ],
             [
              0.3333333333333333,
              "#9c179e"
             ],
             [
              0.4444444444444444,
              "#bd3786"
             ],
             [
              0.5555555555555556,
              "#d8576b"
             ],
             [
              0.6666666666666666,
              "#ed7953"
             ],
             [
              0.7777777777777778,
              "#fb9f3a"
             ],
             [
              0.8888888888888888,
              "#fdca26"
             ],
             [
              1,
              "#f0f921"
             ]
            ],
            "type": "heatmap"
           }
          ],
          "histogram": [
           {
            "marker": {
             "pattern": {
              "fillmode": "overlay",
              "size": 10,
              "solidity": 0.2
             }
            },
            "type": "histogram"
           }
          ],
          "histogram2d": [
           {
            "colorbar": {
             "outlinewidth": 0,
             "ticks": ""
            },
            "colorscale": [
             [
              0,
              "#0d0887"
             ],
             [
              0.1111111111111111,
              "#46039f"
             ],
             [
              0.2222222222222222,
              "#7201a8"
             ],
             [
              0.3333333333333333,
              "#9c179e"
             ],
             [
              0.4444444444444444,
              "#bd3786"
             ],
             [
              0.5555555555555556,
              "#d8576b"
             ],
             [
              0.6666666666666666,
              "#ed7953"
             ],
             [
              0.7777777777777778,
              "#fb9f3a"
             ],
             [
              0.8888888888888888,
              "#fdca26"
             ],
             [
              1,
              "#f0f921"
             ]
            ],
            "type": "histogram2d"
           }
          ],
          "histogram2dcontour": [
           {
            "colorbar": {
             "outlinewidth": 0,
             "ticks": ""
            },
            "colorscale": [
             [
              0,
              "#0d0887"
             ],
             [
              0.1111111111111111,
              "#46039f"
             ],
             [
              0.2222222222222222,
              "#7201a8"
             ],
             [
              0.3333333333333333,
              "#9c179e"
             ],
             [
              0.4444444444444444,
              "#bd3786"
             ],
             [
              0.5555555555555556,
              "#d8576b"
             ],
             [
              0.6666666666666666,
              "#ed7953"
             ],
             [
              0.7777777777777778,
              "#fb9f3a"
             ],
             [
              0.8888888888888888,
              "#fdca26"
             ],
             [
              1,
              "#f0f921"
             ]
            ],
            "type": "histogram2dcontour"
           }
          ],
          "mesh3d": [
           {
            "colorbar": {
             "outlinewidth": 0,
             "ticks": ""
            },
            "type": "mesh3d"
           }
          ],
          "parcoords": [
           {
            "line": {
             "colorbar": {
              "outlinewidth": 0,
              "ticks": ""
             }
            },
            "type": "parcoords"
           }
          ],
          "pie": [
           {
            "automargin": true,
            "type": "pie"
           }
          ],
          "scatter": [
           {
            "fillpattern": {
             "fillmode": "overlay",
             "size": 10,
             "solidity": 0.2
            },
            "type": "scatter"
           }
          ],
          "scatter3d": [
           {
            "line": {
             "colorbar": {
              "outlinewidth": 0,
              "ticks": ""
             }
            },
            "marker": {
             "colorbar": {
              "outlinewidth": 0,
              "ticks": ""
             }
            },
            "type": "scatter3d"
           }
          ],
          "scattercarpet": [
           {
            "marker": {
             "colorbar": {
              "outlinewidth": 0,
              "ticks": ""
             }
            },
            "type": "scattercarpet"
           }
          ],
          "scattergeo": [
           {
            "marker": {
             "colorbar": {
              "outlinewidth": 0,
              "ticks": ""
             }
            },
            "type": "scattergeo"
           }
          ],
          "scattergl": [
           {
            "marker": {
             "colorbar": {
              "outlinewidth": 0,
              "ticks": ""
             }
            },
            "type": "scattergl"
           }
          ],
          "scattermap": [
           {
            "marker": {
             "colorbar": {
              "outlinewidth": 0,
              "ticks": ""
             }
            },
            "type": "scattermap"
           }
          ],
          "scattermapbox": [
           {
            "marker": {
             "colorbar": {
              "outlinewidth": 0,
              "ticks": ""
             }
            },
            "type": "scattermapbox"
           }
          ],
          "scatterpolar": [
           {
            "marker": {
             "colorbar": {
              "outlinewidth": 0,
              "ticks": ""
             }
            },
            "type": "scatterpolar"
           }
          ],
          "scatterpolargl": [
           {
            "marker": {
             "colorbar": {
              "outlinewidth": 0,
              "ticks": ""
             }
            },
            "type": "scatterpolargl"
           }
          ],
          "scatterternary": [
           {
            "marker": {
             "colorbar": {
              "outlinewidth": 0,
              "ticks": ""
             }
            },
            "type": "scatterternary"
           }
          ],
          "surface": [
           {
            "colorbar": {
             "outlinewidth": 0,
             "ticks": ""
            },
            "colorscale": [
             [
              0,
              "#0d0887"
             ],
             [
              0.1111111111111111,
              "#46039f"
             ],
             [
              0.2222222222222222,
              "#7201a8"
             ],
             [
              0.3333333333333333,
              "#9c179e"
             ],
             [
              0.4444444444444444,
              "#bd3786"
             ],
             [
              0.5555555555555556,
              "#d8576b"
             ],
             [
              0.6666666666666666,
              "#ed7953"
             ],
             [
              0.7777777777777778,
              "#fb9f3a"
             ],
             [
              0.8888888888888888,
              "#fdca26"
             ],
             [
              1,
              "#f0f921"
             ]
            ],
            "type": "surface"
           }
          ],
          "table": [
           {
            "cells": {
             "fill": {
              "color": "#EBF0F8"
             },
             "line": {
              "color": "white"
             }
            },
            "header": {
             "fill": {
              "color": "#C8D4E3"
             },
             "line": {
              "color": "white"
             }
            },
            "type": "table"
           }
          ]
         },
         "layout": {
          "annotationdefaults": {
           "arrowcolor": "#2a3f5f",
           "arrowhead": 0,
           "arrowwidth": 1
          },
          "autotypenumbers": "strict",
          "coloraxis": {
           "colorbar": {
            "outlinewidth": 0,
            "ticks": ""
           }
          },
          "colorscale": {
           "diverging": [
            [
             0,
             "#8e0152"
            ],
            [
             0.1,
             "#c51b7d"
            ],
            [
             0.2,
             "#de77ae"
            ],
            [
             0.3,
             "#f1b6da"
            ],
            [
             0.4,
             "#fde0ef"
            ],
            [
             0.5,
             "#f7f7f7"
            ],
            [
             0.6,
             "#e6f5d0"
            ],
            [
             0.7,
             "#b8e186"
            ],
            [
             0.8,
             "#7fbc41"
            ],
            [
             0.9,
             "#4d9221"
            ],
            [
             1,
             "#276419"
            ]
           ],
           "sequential": [
            [
             0,
             "#0d0887"
            ],
            [
             0.1111111111111111,
             "#46039f"
            ],
            [
             0.2222222222222222,
             "#7201a8"
            ],
            [
             0.3333333333333333,
             "#9c179e"
            ],
            [
             0.4444444444444444,
             "#bd3786"
            ],
            [
             0.5555555555555556,
             "#d8576b"
            ],
            [
             0.6666666666666666,
             "#ed7953"
            ],
            [
             0.7777777777777778,
             "#fb9f3a"
            ],
            [
             0.8888888888888888,
             "#fdca26"
            ],
            [
             1,
             "#f0f921"
            ]
           ],
           "sequentialminus": [
            [
             0,
             "#0d0887"
            ],
            [
             0.1111111111111111,
             "#46039f"
            ],
            [
             0.2222222222222222,
             "#7201a8"
            ],
            [
             0.3333333333333333,
             "#9c179e"
            ],
            [
             0.4444444444444444,
             "#bd3786"
            ],
            [
             0.5555555555555556,
             "#d8576b"
            ],
            [
             0.6666666666666666,
             "#ed7953"
            ],
            [
             0.7777777777777778,
             "#fb9f3a"
            ],
            [
             0.8888888888888888,
             "#fdca26"
            ],
            [
             1,
             "#f0f921"
            ]
           ]
          },
          "colorway": [
           "#636efa",
           "#EF553B",
           "#00cc96",
           "#ab63fa",
           "#FFA15A",
           "#19d3f3",
           "#FF6692",
           "#B6E880",
           "#FF97FF",
           "#FECB52"
          ],
          "font": {
           "color": "#2a3f5f"
          },
          "geo": {
           "bgcolor": "white",
           "lakecolor": "white",
           "landcolor": "#E5ECF6",
           "showlakes": true,
           "showland": true,
           "subunitcolor": "white"
          },
          "hoverlabel": {
           "align": "left"
          },
          "hovermode": "closest",
          "mapbox": {
           "style": "light"
          },
          "paper_bgcolor": "white",
          "plot_bgcolor": "#E5ECF6",
          "polar": {
           "angularaxis": {
            "gridcolor": "white",
            "linecolor": "white",
            "ticks": ""
           },
           "bgcolor": "#E5ECF6",
           "radialaxis": {
            "gridcolor": "white",
            "linecolor": "white",
            "ticks": ""
           }
          },
          "scene": {
           "xaxis": {
            "backgroundcolor": "#E5ECF6",
            "gridcolor": "white",
            "gridwidth": 2,
            "linecolor": "white",
            "showbackground": true,
            "ticks": "",
            "zerolinecolor": "white"
           },
           "yaxis": {
            "backgroundcolor": "#E5ECF6",
            "gridcolor": "white",
            "gridwidth": 2,
            "linecolor": "white",
            "showbackground": true,
            "ticks": "",
            "zerolinecolor": "white"
           },
           "zaxis": {
            "backgroundcolor": "#E5ECF6",
            "gridcolor": "white",
            "gridwidth": 2,
            "linecolor": "white",
            "showbackground": true,
            "ticks": "",
            "zerolinecolor": "white"
           }
          },
          "shapedefaults": {
           "line": {
            "color": "#2a3f5f"
           }
          },
          "ternary": {
           "aaxis": {
            "gridcolor": "white",
            "linecolor": "white",
            "ticks": ""
           },
           "baxis": {
            "gridcolor": "white",
            "linecolor": "white",
            "ticks": ""
           },
           "bgcolor": "#E5ECF6",
           "caxis": {
            "gridcolor": "white",
            "linecolor": "white",
            "ticks": ""
           }
          },
          "title": {
           "x": 0.05
          },
          "xaxis": {
           "automargin": true,
           "gridcolor": "white",
           "linecolor": "white",
           "ticks": "",
           "title": {
            "standoff": 15
           },
           "zerolinecolor": "white",
           "zerolinewidth": 2
          },
          "yaxis": {
           "automargin": true,
           "gridcolor": "white",
           "linecolor": "white",
           "ticks": "",
           "title": {
            "standoff": 15
           },
           "zerolinecolor": "white",
           "zerolinewidth": 2
          }
         }
        },
        "title": {
         "text": "Top 10 Trending Parks (Rolling 12M Growth)"
        },
        "xaxis": {
         "anchor": "y",
         "domain": [
          0,
          1
         ],
         "tickformat": ".0%",
         "title": {
          "text": "Rolling_Growth"
         }
        },
        "yaxis": {
         "anchor": "x",
         "domain": [
          0,
          1
         ],
         "title": {
          "text": "Park"
         }
        }
       }
      },
      "image/png": "[encoded data removed]"
     },
     "metadata": {},
     "output_type": "display_data"
    }
   ],
   "source": [
    "# Chart\n",
    "fig = px.bar(\n",
    "    top_trending.sort_values(\"Rolling_Growth\"),\n",
    "    x=\"Rolling_Growth\", y=\"Park\", orientation=\"h\",\n",
    "    title=\"Top 10 Trending Parks (Rolling 12M Growth)\"\n",
    ")\n",
    "fig.update_layout(xaxis_tickformat=\".0%\")\n",
    "fig.show()"
   ]
  },
  {
   "cell_type": "code",
   "execution_count": null,
   "id": "fe0f01c4-268c-4c7c-8ee3-f7a05e721ecb",
   "metadata": {},
   "outputs": [],
   "source": []
  }
 ],
 "metadata": {
  "kernelspec": {
   "display_name": "Python 3 (ipykernel)",
   "language": "python",
   "name": "python3"
  },
  "language_info": {
   "codemirror_mode": {
    "name": "ipython",
    "version": 3
   },
   "file_extension": ".py",
   "mimetype": "text/x-python",
   "name": "python",
   "nbconvert_exporter": "python",
   "pygments_lexer": "ipython3",
   "version": "3.12.1"
  }
 },
 "nbformat": 4,
 "nbformat_minor": 5
}
