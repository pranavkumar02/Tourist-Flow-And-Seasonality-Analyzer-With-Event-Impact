{
  "nbformat": 4,
  "nbformat_minor": 0,
  "metadata": {
    "colab": {
      "private_outputs": true,
      "provenance": [],
      "mount_file_id": "1-SjdmrBvrQyCBCrs4h0kO_pyjWIQQArY",
      "authorship_tag": "ABX9TyOsyCN5ruKAQkkHjXZLbi0n"
    },
    "kernelspec": {
      "name": "python3",
      "display_name": "Python 3"
    },
    "language_info": {
      "name": "python"
    }
  },
  "cells": [
    {
      "cell_type": "code",
      "execution_count": null,
      "metadata": {
        "id": "NWNMNmGDkRHn"
      },
      "outputs": [],
      "source": [
        "import pandas as pd\n",
        "import numpy as np\n",
        "import plotly.express as px"
      ]
    },
    {
      "cell_type": "code",
      "source": [
        "df1=pd.read_excel('/content/drive/MyDrive/Capstone project/datasets for monthly recreation visit to national parks/Query builder files/Recreation_Visitors_by_month_[Andersonville NHS]  (1979 - Last Calendar Year).xlsx',skiprows=2)\n",
        "df2=pd.read_excel('/content/drive/MyDrive/Capstone project/datasets for monthly recreation visit to national parks/Query builder files/Recreation_Visitors_by_month_[Andrew Johnson NHS]  (1979 - Last Calendar Year).xlsx',skiprows=2)\n",
        "df3=pd.read_excel('/content/drive/MyDrive/Capstone project/datasets for monthly recreation visit to national parks/Query builder files/Recreation_Visitors_by_month_[Aniakchak NM & PRES]  (1979 - Last Calendar Year).xlsx',skiprows=2)\n",
        "df4=pd.read_excel('/content/drive/MyDrive/Capstone project/datasets for monthly recreation visit to national parks/Query builder files/Recreation_Visitors_by_month_[Antietam NB]  (1979 - Last Calendar Year).xlsx',skiprows=2)\n",
        "df5=pd.read_excel('/content/drive/MyDrive/Capstone project/datasets for monthly recreation visit to national parks/Query builder files/Recreation_Visitors_by_month_[Apostle Islands NL]  (1979 - Last Calendar Year).xlsx',skiprows=2)\n",
        "df6=pd.read_excel('/content/drive/MyDrive/Capstone project/datasets for monthly recreation visit to national parks/Query builder files/Recreation_Visitors_by_month_[Appomattox Court House NHP]  (1979 - Last Calendar Year).xlsx',skiprows=2)\n",
        "df7=pd.read_excel('/content/drive/MyDrive/Capstone project/datasets for monthly recreation visit to national parks/Query builder files/Recreation_Visitors_by_month_[Arches NP]  (1979 - Last Calendar Year).xlsx',skiprows=2)\n",
        "df8=pd.read_excel('/content/drive/MyDrive/Capstone project/datasets for monthly recreation visit to national parks/Query builder files/Recreation_Visitors_by_month_[Arkansas Post NMEM]  (1979 - Last Calendar Year).xlsx',skiprows=2)\n",
        "df9=pd.read_excel('/content/drive/MyDrive/Capstone project/datasets for monthly recreation visit to national parks/Query builder files/Recreation_Visitors_by_month_[Arlington House The R.E. Lee MEM]  (1979 - Last Calendar Year).xlsx',skiprows=2)\n",
        "df10=pd.read_excel('/content/drive/MyDrive/Capstone project/datasets for monthly recreation visit to national parks/Query builder files/Recreation_Visitors_by_month_[Assateague Island NS]  (1979 - Last Calendar Year).xlsx',skiprows=2)\n",
        "df11=pd.read_excel('/content/drive/MyDrive/Capstone project/datasets for monthly recreation visit to national parks/Query builder files/Recreation_Visitors_by_month_[Aztec Ruins NM]  (1979 - Last Calendar Year).xlsx',skiprows=2)\n",
        "df12=pd.read_excel('/content/drive/MyDrive/Capstone project/datasets for monthly recreation visit to national parks/Query builder files/Recreation_Visitors_by_month_[Badlands NP]  (1979 - Last Calendar Year).xlsx',skiprows=2)\n",
        "df13=pd.read_excel('/content/drive/MyDrive/Capstone project/datasets for monthly recreation visit to national parks/Query builder files/Recreation_Visitors_by_month_[Bandelier NM]  (1979 - Last Calendar Year).xlsx',skiprows=2)\n",
        "df14=pd.read_excel('/content/drive/MyDrive/Capstone project/datasets for monthly recreation visit to national parks/Query builder files/Recreation_Visitors_by_month_[Belmont-Paul Women Equality NM]  (1979 - Last Calendar Year).xlsx',skiprows=2)\n",
        "df15=pd.read_excel('/content/drive/MyDrive/Capstone project/datasets for monthly recreation visit to national parks/Query builder files/Recreation_Visitors_by_month_[Bent Old Fort NHS]  (1979 - Last Calendar Year).xlsx',skiprows=2)\n",
        "df16=pd.read_excel('/content/drive/MyDrive/Capstone project/datasets for monthly recreation visit to national parks/Query builder files/Recreation_Visitors_by_month_[Bering Land Bridge NPRES]  (1979 - Last Calendar Year).xlsx',skiprows=2)\n",
        "df17=pd.read_excel('/content/drive/MyDrive/Capstone project/datasets for monthly recreation visit to national parks/Query builder files/Recreation_Visitors_by_month_[Bighorn Canyon NRA]  (1979 - Last Calendar Year).xlsx',skiprows=2)\n",
        "df18=pd.read_excel('/content/drive/MyDrive/Capstone project/datasets for monthly recreation visit to national parks/Query builder files/Recreation_Visitors_by_month_[Big Bend NP]  (1979 - Last Calendar Year).xlsx',skiprows=2)\n",
        "df19=pd.read_excel('/content/drive/MyDrive/Capstone project/datasets for monthly recreation visit to national parks/Query builder files/Recreation_Visitors_by_month_[Big Cypress NPRES]  (1979 - Last Calendar Year).xlsx',skiprows=2)\n",
        "df20=pd.read_excel('/content/drive/MyDrive/Capstone project/datasets for monthly recreation visit to national parks/Query builder files/Recreation_Visitors_by_month_[Big Hole NB]  (1979 - Last Calendar Year).xlsx',skiprows=2)\n",
        "df21=pd.read_excel('/content/drive/MyDrive/Capstone project/datasets for monthly recreation visit to national parks/Query builder files/Recreation_Visitors_by_month_[Big South Fork NRRA]  (1979 - Last Calendar Year).xlsx',skiprows=2)\n",
        "df22=pd.read_excel('/content/drive/MyDrive/Capstone project/datasets for monthly recreation visit to national parks/Query builder files/Recreation_Visitors_by_month_[Big Thicket NPRES]  (1979 - Last Calendar Year).xlsx',skiprows=2)\n",
        "df23=pd.read_excel('/content/drive/MyDrive/Capstone project/datasets for monthly recreation visit to national parks/Query builder files/Recreation_Visitors_by_month_[Biscayne NP]  (1979 - Last Calendar Year).xlsx',skiprows=2)\n",
        "df24=pd.read_excel('/content/drive/MyDrive/Capstone project/datasets for monthly recreation visit to national parks/Query builder files/Recreation_Visitors_by_month_[Black Canyon of the Gunnison NP]  (1979 - Last Calendar Year).xlsx',skiprows=2)\n",
        "df25=pd.read_excel('/content/drive/MyDrive/Capstone project/datasets for monthly recreation visit to national parks/Query builder files/Recreation_Visitors_by_month_[Bluestone NSR]  (1979 - Last Calendar Year).xlsx',skiprows=2)"
      ],
      "metadata": {
        "id": "OMadpXlp9sq9"
      },
      "execution_count": null,
      "outputs": []
    },
    {
      "cell_type": "code",
      "source": [
        "df26=pd.read_excel('/content/drive/MyDrive/Capstone project/datasets for monthly recreation visit to national parks/Query builder files/Recreation_Visitors_by_month_[Blue Ridge PKWY]  (1979 - Last Calendar Year).xlsx',skiprows=2)\n",
        "df27=pd.read_excel('/content/drive/MyDrive/Capstone project/datasets for monthly recreation visit to national parks/Query builder files/Recreation_Visitors_by_month_[Booker T. Washington NM]  (1979 - Last Calendar Year).xlsx',skiprows=2)\n",
        "df28=pd.read_excel('/content/drive/MyDrive/Capstone project/datasets for monthly recreation visit to national parks/Query builder files/Recreation_Visitors_by_month_[Boston African American NHS](1979 - Last Calendar Year).xlsx',skiprows=2)\n",
        "df29=pd.read_excel('/content/drive/MyDrive/Capstone project/datasets for monthly recreation visit to national parks/Query builder files/Recreation_Visitors_by_month_[Boston Harbor Islands NRA](1979 - Last Calendar Year).xlsx',skiprows=2)\n",
        "df30=pd.read_excel('/content/drive/MyDrive/Capstone project/datasets for monthly recreation visit to national parks/Query builder files/Recreation_Visitors_by_month_[Boston NHP](1979 - Last Calendar Year).xlsx',skiprows=2)\n",
        "df31=pd.read_excel('/content/drive/MyDrive/Capstone project/datasets for monthly recreation visit to national parks/Query builder files/Recreation_Visitors_by_month_[Brices Cross Roads](1979 - Last Calendar Year).xlsx',skiprows=2)\n",
        "df32=pd.read_excel('/content/drive/MyDrive/Capstone project/datasets for monthly recreation visit to national parks/Query builder files/Recreation_Visitors_by_month_[Brown v. Board of Education NHP](1979 - Last Calendar Year).xlsx',skiprows=2)\n",
        "df33=pd.read_excel('/content/drive/MyDrive/Capstone project/datasets for monthly recreation visit to national parks/Query builder files/Recreation_Visitors_by_month_[Bryce Canyon NP](1979 - Last Calendar Year).xlsx',skiprows=2)\n",
        "df34=pd.read_excel('/content/drive/MyDrive/Capstone project/datasets for monthly recreation visit to national parks/Query builder files/Recreation_Visitors_by_month_[Buck Island Reef NM](1979 - Last Calendar Year).xlsx',skiprows=2)\n",
        "df35=pd.read_excel('/content/drive/MyDrive/Capstone project/datasets for monthly recreation visit to national parks/Query builder files/Recreation_Visitors_by_month_[Buffalo NR](1979 - Last Calendar Year).xlsx',skiprows=2)\n",
        "df36=pd.read_excel('/content/drive/MyDrive/Capstone project/datasets for monthly recreation visit to national parks/Query builder files/Recreation_Visitors_by_month_[Cabrillo NM](1979 - Last Calendar Year).xlsx',skiprows=2)\n",
        "df37=pd.read_excel('/content/drive/MyDrive/Capstone project/datasets for monthly recreation visit to national parks/Query builder files/Recreation_Visitors_by_month_[Camp Nelson NM](1979 - Last Calendar Year).xlsx',skiprows=2)\n",
        "df38=pd.read_excel('/content/drive/MyDrive/Capstone project/datasets for monthly recreation visit to national parks/Query builder files/Recreation_Visitors_by_month_[Canaveral NS](1979 - Last Calendar Year).xlsx',skiprows=2)\n",
        "df39=pd.read_excel('/content/drive/MyDrive/Capstone project/datasets for monthly recreation visit to national parks/Query builder files/Recreation_Visitors_by_month_[Cane River Creole NHP](1979 - Last Calendar Year).xlsx',skiprows=2)\n",
        "df40=pd.read_excel('/content/drive/MyDrive/Capstone project/datasets for monthly recreation visit to national parks/Query builder files/Recreation_Visitors_by_month_[Canyonlands NP](1979 - Last Calendar Year).xlsx',skiprows=2)\n",
        "df41=pd.read_excel('/content/drive/MyDrive/Capstone project/datasets for monthly recreation visit to national parks/Query builder files/Recreation_Visitors_by_month_[Canyon de Chelly NM](1979 - Last Calendar Year).xlsx',skiprows=2)\n",
        "df42=pd.read_excel('/content/drive/MyDrive/Capstone project/datasets for monthly recreation visit to national parks/Query builder files/Recreation_Visitors_by_month_[Cape Cod NS](1979 - Last Calendar Year).xlsx',skiprows=2)\n",
        "df43=pd.read_excel('/content/drive/MyDrive/Capstone project/datasets for monthly recreation visit to national parks/Query builder files/Recreation_Visitors_by_month_[Cape Hatteras NS](1979 - Last Calendar Year).xlsx',skiprows=2)\n",
        "df44=pd.read_excel('/content/drive/MyDrive/Capstone project/datasets for monthly recreation visit to national parks/Query builder files/Recreation_Visitors_by_month_[Cape Krusenstern NM](1979 - Last Calendar Year).xlsx',skiprows=2)\n",
        "df45=pd.read_excel('/content/drive/MyDrive/Capstone project/datasets for monthly recreation visit to national parks/Query builder files/Recreation_Visitors_by_month_[Cape Lookout NS](1979 - Last Calendar Year).xlsx',skiprows=2)\n",
        "df46=pd.read_excel('/content/drive/MyDrive/Capstone project/datasets for monthly recreation visit to national parks/Query builder files/Recreation_Visitors_by_month_[Capitol Reef NP](1979 - Last Calendar Year).xlsx',skiprows=2)\n",
        "df47=pd.read_excel('/content/drive/MyDrive/Capstone project/datasets for monthly recreation visit to national parks/Query builder files/Recreation_Visitors_by_month_[Capulin Volcano NM](1979 - Last Calendar Year).xlsx',skiprows=2)\n",
        "df48=pd.read_excel('/content/drive/MyDrive/Capstone project/datasets for monthly recreation visit to national parks/Query builder files/Recreation_Visitors_by_month_[Carlsbad Caverns NP](1979 - Last Calendar Year).xlsx',skiprows=2)\n",
        "df49=pd.read_excel('/content/drive/MyDrive/Capstone project/datasets for monthly recreation visit to national parks/Query builder files/Recreation_Visitors_by_month_[Carl Sandburg Home NHS](1979 - Last Calendar Year).xlsx',skiprows=2)\n",
        "df50=pd.read_excel('/content/drive/MyDrive/Capstone project/datasets for monthly recreation visit to national parks/Query builder files/Recreation_Visitors_by_month_[Carter G. Woodson Home NHS](1979 - Last Calendar Year).xlsx',skiprows=2)"
      ],
      "metadata": {
        "id": "MH_7O3f2rSyh"
      },
      "execution_count": null,
      "outputs": []
    },
    {
      "cell_type": "code",
      "source": [
        "def understanding_data(df):\n",
        "  print('First 5 rows of the dataset')\n",
        "  print('\\n')\n",
        "  print(df.head())\n",
        "  print('\\n\\n\\n')\n",
        "  print('Shape of the dataset')\n",
        "  print('\\n')\n",
        "  print(df.shape)\n",
        "  print('Information about the dataset')\n",
        "  print('\\n')\n",
        "  print(df.info())\n",
        "  print('\\n\\n\\n')\n",
        "  print('Description of the dataset')\n",
        "  print('\\n')\n",
        "  print(df.describe())\n",
        "  print('\\n\\n\\n')"
      ],
      "metadata": {
        "id": "VEEKnEWkHGRc"
      },
      "execution_count": null,
      "outputs": []
    },
    {
      "cell_type": "code",
      "source": [
        "def data_cleaning(df):\n",
        "  print('Checking for number of null values in each columns')\n",
        "  print('\\n')\n",
        "  print(f'Total no of null values in each  column: {df.isnull().sum()}')\n",
        "  print('\\n')\n",
        "  print('Checking for null values in each row')\n",
        "  print('\\n')\n",
        "  null_rows=df[df.isnull().any(axis=1)]\n",
        "  print(f\" Total number of rows with null values: {len(null_rows)}\")\n",
        "  print(\"\\n\")\n",
        "  print(\"Rows with null values\")\n",
        "  print(\"\\n\")\n",
        "  print(null_rows.to_string(index=False))\n",
        "  print('\\n\\n\\n')\n",
        "  print('Checking for duplicate rows')\n",
        "  print('\\n')\n",
        "  print(f'number of duplicate values: {df.duplicated().sum()}')\n",
        "  print('\\n')\n",
        "  print('Duplicated rows in the dataset')\n",
        "  print('\\n')\n",
        "  print(df[df.duplicated()])"
      ],
      "metadata": {
        "id": "FNMkvK578Ee-"
      },
      "execution_count": null,
      "outputs": []
    },
    {
      "cell_type": "code",
      "source": [
        "def outliner_detection(df):\n",
        "  numeric_df = df.select_dtypes(include=np.number)\n",
        "  Q1=numeric_df.quantile(0.25)\n",
        "  Q3=numeric_df.quantile(0.75)\n",
        "  IQR=Q3-Q1\n",
        "  outliers=numeric_df[((numeric_df<(Q1-1.5*IQR))|(numeric_df>(Q3+1.5*IQR))).any(axis=1)]\n",
        "  print('Number of outliers in each column')\n",
        "  print('\\n')\n",
        "  print(outliers.count())\n",
        "  print('\\n')\n",
        "  print('Outliers in the dataset')\n",
        "  print('\\n')\n",
        "  print(outliers)"
      ],
      "metadata": {
        "id": "d6ctjFUDHxOg"
      },
      "execution_count": null,
      "outputs": []
    },
    {
      "cell_type": "code",
      "source": [
        "def dataframe_concating(df1,df2):\n",
        "  df=pd.concat([df1,df2],ignore_index=True)\n",
        "  return df"
      ],
      "metadata": {
        "id": "3aYEgyUCXxJo"
      },
      "execution_count": null,
      "outputs": []
    },
    {
      "cell_type": "code",
      "source": [
        "def replacing_nan_values(df,column_name,value):\n",
        "  df[column_name].fillna(value,inplace=True)\n",
        "  return df"
      ],
      "metadata": {
        "id": "NVmyplGUlWyl"
      },
      "execution_count": null,
      "outputs": []
    },
    {
      "cell_type": "code",
      "source": [
        "understanding_data(df50)"
      ],
      "metadata": {
        "id": "JTQooG_O-ICU"
      },
      "execution_count": null,
      "outputs": []
    },
    {
      "cell_type": "code",
      "source": [
        "data_cleaning(df29)"
      ],
      "metadata": {
        "id": "HUSzIlAbTc7c"
      },
      "execution_count": null,
      "outputs": []
    },
    {
      "cell_type": "code",
      "source": [
        "outliner_detection(df29)"
      ],
      "metadata": {
        "id": "t5ZIqnXAD4Kg"
      },
      "execution_count": null,
      "outputs": []
    },
    {
      "cell_type": "code",
      "source": [
        "replacing_nan_values(df14,'State','DC')"
      ],
      "metadata": {
        "id": "n4myqAdLk1NO"
      },
      "execution_count": null,
      "outputs": []
    },
    {
      "cell_type": "code",
      "source": [
        "replacing_nan_values(df29,'State','MA')"
      ],
      "metadata": {
        "id": "e07TbbfsITBT"
      },
      "execution_count": null,
      "outputs": []
    },
    {
      "cell_type": "code",
      "source": [
        "replacing_nan_values(df37,'State','KY')"
      ],
      "metadata": {
        "id": "I9tc8zIk9ZzF"
      },
      "execution_count": null,
      "outputs": []
    },
    {
      "cell_type": "code",
      "source": [
        "replacing_nan_values(df50,'State','DC')"
      ],
      "metadata": {
        "id": "eg2hS4i49Eb2"
      },
      "execution_count": null,
      "outputs": []
    },
    {
      "cell_type": "code",
      "source": [
        "def final_dataframe_construction(*dfs):\n",
        "  df=pd.concat(dfs,ignore_index=True)\n",
        "  return df"
      ],
      "metadata": {
        "id": "hdo-rS_PZEPo"
      },
      "execution_count": null,
      "outputs": []
    },
    {
      "cell_type": "code",
      "source": [
        "df=final_dataframe_construction(df1,df2,df3,df4,df5,df6 ,df7,df8,df9,df10,df11,df12,df13,df14,df15,df16,df17,df18,df19,df20,df21,df22,df23,df24,df25,df26,df27,df28,df29,df30,df31,df32,df33,df34,df35,df36,df37,df38,df39,df40,df41,df42,df43,df44,df45,df46,df47,df48,df49,df50)"
      ],
      "metadata": {
        "id": "wr7VKwhAcpKG"
      },
      "execution_count": null,
      "outputs": []
    },
    {
      "cell_type": "code",
      "source": [
        "understanding_data(df)"
      ],
      "metadata": {
        "id": "dWTsGNAacXIt"
      },
      "execution_count": null,
      "outputs": []
    },
    {
      "cell_type": "code",
      "source": [
        "data_cleaning(df)"
      ],
      "metadata": {
        "id": "4tHm_VnYHhpa"
      },
      "execution_count": null,
      "outputs": []
    },
    {
      "cell_type": "code",
      "source": [],
      "metadata": {
        "id": "3P2VjD1CI-WC"
      },
      "execution_count": null,
      "outputs": []
    }
  ]
}