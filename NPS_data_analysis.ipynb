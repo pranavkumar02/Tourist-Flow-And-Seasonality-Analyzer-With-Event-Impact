{
  "nbformat": 4,
  "nbformat_minor": 0,
  "metadata": {
    "colab": {
      "private_outputs": true,
      "provenance": [],
      "authorship_tag": "ABX9TyPXOH0BCbJ+iEj7HOpZg688",
      "include_colab_link": true
    },
    "kernelspec": {
      "name": "python3",
      "display_name": "Python 3"
    },
    "language_info": {
      "name": "python"
    }
  },
  "cells": [
    {
      "cell_type": "markdown",
      "metadata": {
        "id": "view-in-github",
        "colab_type": "text"
      },
      "source": [
        "<a href=\"https://colab.research.google.com/github/pranavkumar02/Tourist-Flow-And-Seasonality-Analyzer-With-Event-Impact/blob/main/NPS_data_analysis.ipynb\" target=\"_parent\"><img src=\"https://colab.research.google.com/assets/colab-badge.svg\" alt=\"Open In Colab\"/></a>"
      ]
    },
    {
      "cell_type": "code",
      "execution_count": null,
      "metadata": {
        "id": "NWNMNmGDkRHn"
      },
      "outputs": [],
      "source": [
        "import pandas as pd\n",
        "import numpy as np\n",
        "import plotly as px"
      ]
    },
    {
      "cell_type": "markdown",
      "source": [
        "We are using usecols='B:P'and skiprows because the data is in between B and P columns and it starts from row 8.\n",
        "\n"
      ],
      "metadata": {
        "id": "xlwrvg5TGCpB"
      }
    },
    {
      "cell_type": "code",
      "source": [
        "df1=pd.read_excel('/content/Recreation Visitors By Month (Abraham Lincoln Birthplace NHP).xlsx',usecols='B:P',skiprows=7)\n",
        "df2=pd.read_excel('/content/Recreation Visitors By Month (Acadia NP) .xlsx',usecols='B:P',skiprows=7)\n",
        "df3=pd.read_excel('/content/Recreation Visitors By Month (Adams NHP).xlsx',usecols='B:P',skiprows=7)"
      ],
      "metadata": {
        "id": "SQ6BwTguANBV"
      },
      "execution_count": null,
      "outputs": []
    },
    {
      "cell_type": "code",
      "source": [
        "df=pd.read_csv('/content/US-National-Parks_RecreationVisits_1979-2024.csv')"
      ],
      "metadata": {
        "id": "9mJYQArdyC3N"
      },
      "execution_count": null,
      "outputs": []
    },
    {
      "cell_type": "code",
      "source": [
        "def understanding_dataframe(df):\n",
        "  print('5 rows of the data frame')\n",
        "  print(df.head())\n",
        "  print('\\n\\n\\n')\n",
        "  print('Information about the data frame')\n",
        "  print(df.info())\n",
        "  print('\\n\\n\\n')\n",
        "  print('Description of the data frame')\n",
        "  print(df.describe())\n",
        "  print('\\n\\n\\n')\n",
        "  print('Checking for null values')\n",
        "  print(df.isnull().sum())"
      ],
      "metadata": {
        "id": "VEEKnEWkHGRc"
      },
      "execution_count": null,
      "outputs": []
    },
    {
      "cell_type": "code",
      "source": [
        "def data_cleaning(df):\n",
        "  df=df.drop('Unnamed: 2',axis=1)\n",
        "  df=df.fillna(0)\n",
        "  df['SEP']=df['SEP'].astype(int)\n",
        "  df['OCT']=df['OCT'].astype(int)\n",
        "  df['NOV']=df['NOV'].astype(int)\n",
        "  df['DEC']=df['DEC'].astype(int)\n",
        "  return df"
      ],
      "metadata": {
        "id": "7sNHEFluTWhB"
      },
      "execution_count": null,
      "outputs": []
    },
    {
      "cell_type": "code",
      "source": [
        "def adding_newcolumns(df,parkname,region,state):\n",
        "  df['ParkName']=parkname;\n",
        "  df['Region']=region;\n",
        "  df['State']=state;\n",
        "  cols=['ParkName','Region','State']+[c for c in df.columns if c not in ['ParkName','Region','State']];\n",
        "  df=df[cols]\n",
        "  return df"
      ],
      "metadata": {
        "id": "vhP-Xpi8_MCY"
      },
      "execution_count": null,
      "outputs": []
    },
    {
      "cell_type": "code",
      "source": [
        "def outliers(df):\n",
        "    data = df.drop([\"Year\",\"Total\"], axis=1)\n",
        "    for col in data.columns:\n",
        "        q1 = data[col].quantile(0.25)\n",
        "        q3 = data[col].quantile(0.75)\n",
        "        iqr = q3 - q1\n",
        "        lower_bound = q1 - 1.5*iqr\n",
        "        upper_bound = q3 + 1.5*iqr\n",
        "        # Boolean mask for outliers\n",
        "        mask = (data[col] < lower_bound) | (data[col] > upper_bound)\n",
        "    df=df.loc(mask,['Year',col])\n",
        "    print(df)"
      ],
      "metadata": {
        "id": "KuTuJVFpYYRE"
      },
      "execution_count": null,
      "outputs": []
    },
    {
      "cell_type": "code",
      "source": [
        "df1=data_cleaning(df1)\n",
        "df2=data_cleaning(df2)"
      ],
      "metadata": {
        "id": "HUSzIlAbTc7c"
      },
      "execution_count": null,
      "outputs": []
    },
    {
      "cell_type": "markdown",
      "source": [],
      "metadata": {
        "id": "7PI3awoKLqFn"
      }
    },
    {
      "cell_type": "code",
      "source": [
        "adding_newcolumns(df1,'Abraham Lincoln Birthplace NHP','National Historical Park','Southeast','KY')\n",
        "adding_newcolumns(df2,'Acadia NP','National Park','Northeast','ME')\n",
        "adding_newcolumns(df3,'Adams NHP','National Historical Park','Northeast','MA')"
      ],
      "metadata": {
        "id": "n60yGgQAAo-E"
      },
      "execution_count": null,
      "outputs": []
    },
    {
      "cell_type": "code",
      "source": [
        "df[df[\"ParkName\"]=='Adams NHP']"
      ],
      "metadata": {
        "id": "BsaCQPaJA6GG"
      },
      "execution_count": null,
      "outputs": []
    },
    {
      "cell_type": "code",
      "source": [],
      "metadata": {
        "id": "wmSVcHm6JUZW"
      },
      "execution_count": null,
      "outputs": []
    }
  ]
}